{
 "cells": [
  {
   "attachments": {},
   "cell_type": "markdown",
   "metadata": {},
   "source": [
    "##                                                    *ANÁLISIS EXPLORATORIO DE DATOS*"
   ]
  },
  {
   "attachments": {},
   "cell_type": "markdown",
   "metadata": {},
   "source": [
    "#### *Introducción\n",
    "\n",
    "Esta documentación es complementaria al documento Dashboard-maurogpini que se presenta como parte del informe global. La intención es introducir al cliente en una comprensión más detallada de la metodología de trabajo. Se sugiere enfáticamente la lectura de este documento de forma previa a la interacción con el resto del material.*\n",
    "\n",
    "#### *Workflow\n",
    "\n",
    "En esta etapa enunciaremos en términos generales la metodología de trabajo y las tareas realizadas. Recibimos 3 datasets para analizar y presentar los informes requeridos. Una vez realizada una exploración preliminar de dichos datasets, determinamos que presentan una serie de inconsistencias, omisiones y diversos formatos de información. Es necesario corregir dichas inconsistencias para el correcto estado inicial de la data previo al análisis y la simplificación del trabajo en la etapa posterior de la vida del dato.\n",
    "\n",
    "El objetivo es poner cada uno de los datasets en condiciones para su análisis y realizar las consideraciones necesarias para unificarlo en un único dataset con toda la información condensada. Para ello es necesario realizar los siguientes pasos:\n",
    "\n",
    "•\tPrimero trabajaremos con los datasets por separado, transformándolos en DataFames (DF) de la librería pandas, para optimizar la manipulación de los datos. Realizaremos de forma individual un EDA y transformación de dichos datos.\n",
    "•\tEliminaremos aquellas columnas que proveen información que no nos es de utilidad para el análisis, con el objetivo de simplificar la gestión y la posterior presentación de la información.\n",
    "•\tUnificaremos los criterios y los nombres de las columnas para los datos que son de igual naturaleza en cada DF, y los procederemos a unificar en un DF generalizado. El objetivo de esta práctica es simular un dataframe con los datos del mercado, y no de una de las empresas que tenemos en particular.*\n"
   ]
  },
  {
   "attachments": {},
   "cell_type": "markdown",
   "metadata": {},
   "source": [
    "### *Instalación de las bibliotecas necesarias.*"
   ]
  },
  {
   "cell_type": "code",
   "execution_count": 140,
   "metadata": {},
   "outputs": [],
   "source": [
    "import pandas as pd\n",
    "import matplotlib.pyplot as plt\n",
    "import seaborn as sns\n",
    "import re\n",
    "from langdetect import detect\n",
    "from wordcloud import WordCloud ,  STOPWORDS   "
   ]
  },
  {
   "attachments": {},
   "cell_type": "markdown",
   "metadata": {},
   "source": [
    "### *Importación de archivos, creación de DFs y EDA introductorio.*"
   ]
  },
  {
   "attachments": {},
   "cell_type": "markdown",
   "metadata": {},
   "source": [
    "En esta etpa introductoria del análisis miraré la estructura, conformación, tipología y características generales de los DF para ir familiarizándome con ellos."
   ]
  },
  {
   "cell_type": "code",
   "execution_count": 141,
   "metadata": {},
   "outputs": [],
   "source": [
    "df_cc = pd.read_csv('moocs/Coursera_courses.csv')\n",
    "df_cr = pd.read_csv('moocs/Coursera_reviews.csv')\n",
    "df_ec = pd.read_csv('moocs/edx_courses.csv') \n",
    "df_uc = pd.read_csv('moocs/udemy_courses.csv')"
   ]
  },
  {
   "attachments": {},
   "cell_type": "markdown",
   "metadata": {},
   "source": [
    "#### 1) *Dataframe Coursera Courses --> _cc*"
   ]
  },
  {
   "cell_type": "code",
   "execution_count": 142,
   "metadata": {},
   "outputs": [
    {
     "data": {
      "text/html": [
       "<div>\n",
       "<style scoped>\n",
       "    .dataframe tbody tr th:only-of-type {\n",
       "        vertical-align: middle;\n",
       "    }\n",
       "\n",
       "    .dataframe tbody tr th {\n",
       "        vertical-align: top;\n",
       "    }\n",
       "\n",
       "    .dataframe thead th {\n",
       "        text-align: right;\n",
       "    }\n",
       "</style>\n",
       "<table border=\"1\" class=\"dataframe\">\n",
       "  <thead>\n",
       "    <tr style=\"text-align: right;\">\n",
       "      <th></th>\n",
       "      <th>name</th>\n",
       "      <th>institution</th>\n",
       "      <th>course_url</th>\n",
       "      <th>course_id</th>\n",
       "    </tr>\n",
       "  </thead>\n",
       "  <tbody>\n",
       "    <tr>\n",
       "      <th>0</th>\n",
       "      <td>Machine Learning</td>\n",
       "      <td>Stanford University</td>\n",
       "      <td>https://www.coursera.org/learn/machine-learning</td>\n",
       "      <td>machine-learning</td>\n",
       "    </tr>\n",
       "    <tr>\n",
       "      <th>1</th>\n",
       "      <td>Indigenous Canada</td>\n",
       "      <td>University of Alberta</td>\n",
       "      <td>https://www.coursera.org/learn/indigenous-canada</td>\n",
       "      <td>indigenous-canada</td>\n",
       "    </tr>\n",
       "    <tr>\n",
       "      <th>2</th>\n",
       "      <td>The Science of Well-Being</td>\n",
       "      <td>Yale University</td>\n",
       "      <td>https://www.coursera.org/learn/the-science-of-...</td>\n",
       "      <td>the-science-of-well-being</td>\n",
       "    </tr>\n",
       "    <tr>\n",
       "      <th>3</th>\n",
       "      <td>Technical Support Fundamentals</td>\n",
       "      <td>Google</td>\n",
       "      <td>https://www.coursera.org/learn/technical-suppo...</td>\n",
       "      <td>technical-support-fundamentals</td>\n",
       "    </tr>\n",
       "    <tr>\n",
       "      <th>4</th>\n",
       "      <td>Become a CBRS Certified Professional Installer...</td>\n",
       "      <td>Google - Spectrum Sharing</td>\n",
       "      <td>https://www.coursera.org/learn/google-cbrs-cpi...</td>\n",
       "      <td>google-cbrs-cpi-training</td>\n",
       "    </tr>\n",
       "  </tbody>\n",
       "</table>\n",
       "</div>"
      ],
      "text/plain": [
       "                                                name  \\\n",
       "0                                   Machine Learning   \n",
       "1                                  Indigenous Canada   \n",
       "2                          The Science of Well-Being   \n",
       "3                     Technical Support Fundamentals   \n",
       "4  Become a CBRS Certified Professional Installer...   \n",
       "\n",
       "                 institution  \\\n",
       "0        Stanford University   \n",
       "1      University of Alberta   \n",
       "2            Yale University   \n",
       "3                     Google   \n",
       "4  Google - Spectrum Sharing   \n",
       "\n",
       "                                          course_url  \\\n",
       "0    https://www.coursera.org/learn/machine-learning   \n",
       "1   https://www.coursera.org/learn/indigenous-canada   \n",
       "2  https://www.coursera.org/learn/the-science-of-...   \n",
       "3  https://www.coursera.org/learn/technical-suppo...   \n",
       "4  https://www.coursera.org/learn/google-cbrs-cpi...   \n",
       "\n",
       "                        course_id  \n",
       "0                machine-learning  \n",
       "1               indigenous-canada  \n",
       "2       the-science-of-well-being  \n",
       "3  technical-support-fundamentals  \n",
       "4        google-cbrs-cpi-training  "
      ]
     },
     "execution_count": 142,
     "metadata": {},
     "output_type": "execute_result"
    }
   ],
   "source": [
    "df_cc.head()"
   ]
  },
  {
   "cell_type": "code",
   "execution_count": 143,
   "metadata": {},
   "outputs": [
    {
     "data": {
      "text/plain": [
       "name                                          Machine Learning\n",
       "institution                                Stanford University\n",
       "course_url     https://www.coursera.org/learn/machine-learning\n",
       "course_id                                     machine-learning\n",
       "Name: 0, dtype: object"
      ]
     },
     "execution_count": 143,
     "metadata": {},
     "output_type": "execute_result"
    }
   ],
   "source": [
    "df_cc.loc[0]"
   ]
  },
  {
   "cell_type": "code",
   "execution_count": 144,
   "metadata": {},
   "outputs": [
    {
     "name": "stdout",
     "output_type": "stream",
     "text": [
      "<class 'pandas.core.frame.DataFrame'>\n",
      "RangeIndex: 623 entries, 0 to 622\n",
      "Data columns (total 4 columns):\n",
      " #   Column       Non-Null Count  Dtype \n",
      "---  ------       --------------  ----- \n",
      " 0   name         623 non-null    object\n",
      " 1   institution  623 non-null    object\n",
      " 2   course_url   623 non-null    object\n",
      " 3   course_id    623 non-null    object\n",
      "dtypes: object(4)\n",
      "memory usage: 19.6+ KB\n"
     ]
    }
   ],
   "source": [
    "df_cc.info()"
   ]
  },
  {
   "cell_type": "code",
   "execution_count": 145,
   "metadata": {},
   "outputs": [
    {
     "data": {
      "text/html": [
       "<div>\n",
       "<style scoped>\n",
       "    .dataframe tbody tr th:only-of-type {\n",
       "        vertical-align: middle;\n",
       "    }\n",
       "\n",
       "    .dataframe tbody tr th {\n",
       "        vertical-align: top;\n",
       "    }\n",
       "\n",
       "    .dataframe thead th {\n",
       "        text-align: right;\n",
       "    }\n",
       "</style>\n",
       "<table border=\"1\" class=\"dataframe\">\n",
       "  <thead>\n",
       "    <tr style=\"text-align: right;\">\n",
       "      <th></th>\n",
       "      <th>name</th>\n",
       "      <th>institution</th>\n",
       "      <th>course_url</th>\n",
       "      <th>course_id</th>\n",
       "    </tr>\n",
       "  </thead>\n",
       "  <tbody>\n",
       "    <tr>\n",
       "      <th>count</th>\n",
       "      <td>623</td>\n",
       "      <td>623</td>\n",
       "      <td>623</td>\n",
       "      <td>623</td>\n",
       "    </tr>\n",
       "    <tr>\n",
       "      <th>unique</th>\n",
       "      <td>622</td>\n",
       "      <td>134</td>\n",
       "      <td>623</td>\n",
       "      <td>623</td>\n",
       "    </tr>\n",
       "    <tr>\n",
       "      <th>top</th>\n",
       "      <td>Introduction to Psychology</td>\n",
       "      <td>University of Pennsylvania</td>\n",
       "      <td>https://www.coursera.org/learn/machine-learning</td>\n",
       "      <td>machine-learning</td>\n",
       "    </tr>\n",
       "    <tr>\n",
       "      <th>freq</th>\n",
       "      <td>2</td>\n",
       "      <td>43</td>\n",
       "      <td>1</td>\n",
       "      <td>1</td>\n",
       "    </tr>\n",
       "  </tbody>\n",
       "</table>\n",
       "</div>"
      ],
      "text/plain": [
       "                              name                 institution  \\\n",
       "count                          623                         623   \n",
       "unique                         622                         134   \n",
       "top     Introduction to Psychology  University of Pennsylvania   \n",
       "freq                             2                          43   \n",
       "\n",
       "                                             course_url         course_id  \n",
       "count                                               623               623  \n",
       "unique                                              623               623  \n",
       "top     https://www.coursera.org/learn/machine-learning  machine-learning  \n",
       "freq                                                  1                 1  "
      ]
     },
     "execution_count": 145,
     "metadata": {},
     "output_type": "execute_result"
    }
   ],
   "source": [
    "df_cc.describe()"
   ]
  },
  {
   "cell_type": "code",
   "execution_count": 146,
   "metadata": {},
   "outputs": [
    {
     "data": {
      "text/plain": [
       "<bound method IndexOpsMixin.value_counts of 0                      machine-learning\n",
       "1                     indigenous-canada\n",
       "2             the-science-of-well-being\n",
       "3        technical-support-fundamentals\n",
       "4              google-cbrs-cpi-training\n",
       "                     ...               \n",
       "618    accounting-data-analytics-python\n",
       "619                        spectroscopy\n",
       "620                 managing-as-a-coach\n",
       "621                  hotel-distribution\n",
       "622                 data-science-course\n",
       "Name: course_id, Length: 623, dtype: object>"
      ]
     },
     "execution_count": 146,
     "metadata": {},
     "output_type": "execute_result"
    }
   ],
   "source": [
    "# Veo los nombres y el formato de los ids de la carrera.\n",
    "\n",
    "df_cc.course_id.value_counts"
   ]
  },
  {
   "cell_type": "code",
   "execution_count": 147,
   "metadata": {},
   "outputs": [
    {
     "data": {
      "text/html": [
       "<div>\n",
       "<style scoped>\n",
       "    .dataframe tbody tr th:only-of-type {\n",
       "        vertical-align: middle;\n",
       "    }\n",
       "\n",
       "    .dataframe tbody tr th {\n",
       "        vertical-align: top;\n",
       "    }\n",
       "\n",
       "    .dataframe thead th {\n",
       "        text-align: right;\n",
       "    }\n",
       "</style>\n",
       "<table border=\"1\" class=\"dataframe\">\n",
       "  <thead>\n",
       "    <tr style=\"text-align: right;\">\n",
       "      <th></th>\n",
       "      <th>name</th>\n",
       "      <th>institution</th>\n",
       "      <th>course_url</th>\n",
       "      <th>course_id</th>\n",
       "    </tr>\n",
       "  </thead>\n",
       "  <tbody>\n",
       "    <tr>\n",
       "      <th>54</th>\n",
       "      <td>Introduction to Psychology</td>\n",
       "      <td>University of Toronto</td>\n",
       "      <td>https://www.coursera.org/learn/introduction-psych</td>\n",
       "      <td>introduction-psych</td>\n",
       "    </tr>\n",
       "  </tbody>\n",
       "</table>\n",
       "</div>"
      ],
      "text/plain": [
       "                          name            institution  \\\n",
       "54  Introduction to Psychology  University of Toronto   \n",
       "\n",
       "                                           course_url           course_id  \n",
       "54  https://www.coursera.org/learn/introduction-psych  introduction-psych  "
      ]
     },
     "execution_count": 147,
     "metadata": {},
     "output_type": "execute_result"
    }
   ],
   "source": [
    "df_cc.loc[df_cc['name'].duplicated()]"
   ]
  },
  {
   "cell_type": "code",
   "execution_count": 148,
   "metadata": {},
   "outputs": [
    {
     "data": {
      "text/html": [
       "<div>\n",
       "<style scoped>\n",
       "    .dataframe tbody tr th:only-of-type {\n",
       "        vertical-align: middle;\n",
       "    }\n",
       "\n",
       "    .dataframe tbody tr th {\n",
       "        vertical-align: top;\n",
       "    }\n",
       "\n",
       "    .dataframe thead th {\n",
       "        text-align: right;\n",
       "    }\n",
       "</style>\n",
       "<table border=\"1\" class=\"dataframe\">\n",
       "  <thead>\n",
       "    <tr style=\"text-align: right;\">\n",
       "      <th></th>\n",
       "      <th>name</th>\n",
       "      <th>institution</th>\n",
       "      <th>course_url</th>\n",
       "      <th>course_id</th>\n",
       "    </tr>\n",
       "  </thead>\n",
       "  <tbody>\n",
       "    <tr>\n",
       "      <th>6</th>\n",
       "      <td>Introduction to Psychology</td>\n",
       "      <td>Yale University</td>\n",
       "      <td>https://www.coursera.org/learn/introduction-ps...</td>\n",
       "      <td>introduction-psychology</td>\n",
       "    </tr>\n",
       "    <tr>\n",
       "      <th>54</th>\n",
       "      <td>Introduction to Psychology</td>\n",
       "      <td>University of Toronto</td>\n",
       "      <td>https://www.coursera.org/learn/introduction-psych</td>\n",
       "      <td>introduction-psych</td>\n",
       "    </tr>\n",
       "  </tbody>\n",
       "</table>\n",
       "</div>"
      ],
      "text/plain": [
       "                          name            institution  \\\n",
       "6   Introduction to Psychology        Yale University   \n",
       "54  Introduction to Psychology  University of Toronto   \n",
       "\n",
       "                                           course_url                course_id  \n",
       "6   https://www.coursera.org/learn/introduction-ps...  introduction-psychology  \n",
       "54  https://www.coursera.org/learn/introduction-psych       introduction-psych  "
      ]
     },
     "execution_count": 148,
     "metadata": {},
     "output_type": "execute_result"
    }
   ],
   "source": [
    "df_cc.loc[df_cc['name'] == 'Introduction to Psychology']"
   ]
  },
  {
   "attachments": {},
   "cell_type": "markdown",
   "metadata": {},
   "source": [
    "Vemos que el curso repetido se debe a que se dicta en dos instituciones diferentes. Por ende no hay un error de duplicación.\n",
    "\n",
    "Por los demás aspectos vemos que el DF está en condiciones óptimas para su análisis."
   ]
  },
  {
   "attachments": {},
   "cell_type": "markdown",
   "metadata": {},
   "source": [
    "***"
   ]
  },
  {
   "attachments": {},
   "cell_type": "markdown",
   "metadata": {},
   "source": [
    "#### 2) *Dataframe Coursera Reviews --> _cr*"
   ]
  },
  {
   "cell_type": "code",
   "execution_count": 149,
   "metadata": {},
   "outputs": [
    {
     "data": {
      "text/html": [
       "<div>\n",
       "<style scoped>\n",
       "    .dataframe tbody tr th:only-of-type {\n",
       "        vertical-align: middle;\n",
       "    }\n",
       "\n",
       "    .dataframe tbody tr th {\n",
       "        vertical-align: top;\n",
       "    }\n",
       "\n",
       "    .dataframe thead th {\n",
       "        text-align: right;\n",
       "    }\n",
       "</style>\n",
       "<table border=\"1\" class=\"dataframe\">\n",
       "  <thead>\n",
       "    <tr style=\"text-align: right;\">\n",
       "      <th></th>\n",
       "      <th>reviews</th>\n",
       "      <th>reviewers</th>\n",
       "      <th>date_reviews</th>\n",
       "      <th>rating</th>\n",
       "      <th>course_id</th>\n",
       "    </tr>\n",
       "  </thead>\n",
       "  <tbody>\n",
       "    <tr>\n",
       "      <th>0</th>\n",
       "      <td>Pretty dry, but I was able to pass with just t...</td>\n",
       "      <td>By Robert S</td>\n",
       "      <td>Feb 12, 2020</td>\n",
       "      <td>4</td>\n",
       "      <td>google-cbrs-cpi-training</td>\n",
       "    </tr>\n",
       "    <tr>\n",
       "      <th>1</th>\n",
       "      <td>would be a better experience if the video and ...</td>\n",
       "      <td>By Gabriel E R</td>\n",
       "      <td>Sep 28, 2020</td>\n",
       "      <td>4</td>\n",
       "      <td>google-cbrs-cpi-training</td>\n",
       "    </tr>\n",
       "    <tr>\n",
       "      <th>2</th>\n",
       "      <td>Information was perfect! The program itself wa...</td>\n",
       "      <td>By Jacob D</td>\n",
       "      <td>Apr 08, 2020</td>\n",
       "      <td>4</td>\n",
       "      <td>google-cbrs-cpi-training</td>\n",
       "    </tr>\n",
       "    <tr>\n",
       "      <th>3</th>\n",
       "      <td>A few grammatical mistakes on test made me do ...</td>\n",
       "      <td>By Dale B</td>\n",
       "      <td>Feb 24, 2020</td>\n",
       "      <td>4</td>\n",
       "      <td>google-cbrs-cpi-training</td>\n",
       "    </tr>\n",
       "    <tr>\n",
       "      <th>4</th>\n",
       "      <td>Excellent course and the training provided was...</td>\n",
       "      <td>By Sean G</td>\n",
       "      <td>Jun 18, 2020</td>\n",
       "      <td>4</td>\n",
       "      <td>google-cbrs-cpi-training</td>\n",
       "    </tr>\n",
       "  </tbody>\n",
       "</table>\n",
       "</div>"
      ],
      "text/plain": [
       "                                             reviews       reviewers  \\\n",
       "0  Pretty dry, but I was able to pass with just t...     By Robert S   \n",
       "1  would be a better experience if the video and ...  By Gabriel E R   \n",
       "2  Information was perfect! The program itself wa...      By Jacob D   \n",
       "3  A few grammatical mistakes on test made me do ...       By Dale B   \n",
       "4  Excellent course and the training provided was...       By Sean G   \n",
       "\n",
       "   date_reviews  rating                 course_id  \n",
       "0  Feb 12, 2020       4  google-cbrs-cpi-training  \n",
       "1  Sep 28, 2020       4  google-cbrs-cpi-training  \n",
       "2  Apr 08, 2020       4  google-cbrs-cpi-training  \n",
       "3  Feb 24, 2020       4  google-cbrs-cpi-training  \n",
       "4  Jun 18, 2020       4  google-cbrs-cpi-training  "
      ]
     },
     "execution_count": 149,
     "metadata": {},
     "output_type": "execute_result"
    }
   ],
   "source": [
    "df_cr.head()"
   ]
  },
  {
   "cell_type": "code",
   "execution_count": 150,
   "metadata": {},
   "outputs": [
    {
     "data": {
      "text/plain": [
       "reviews         Pretty dry, but I was able to pass with just t...\n",
       "reviewers                                             By Robert S\n",
       "date_reviews                                         Feb 12, 2020\n",
       "rating                                                          4\n",
       "course_id                                google-cbrs-cpi-training\n",
       "Name: 0, dtype: object"
      ]
     },
     "execution_count": 150,
     "metadata": {},
     "output_type": "execute_result"
    }
   ],
   "source": [
    "df_cr.loc[0]"
   ]
  },
  {
   "cell_type": "code",
   "execution_count": 151,
   "metadata": {},
   "outputs": [
    {
     "data": {
      "text/plain": [
       "5    1146164\n",
       "4     226702\n",
       "3      48303\n",
       "1      17354\n",
       "2      16188\n",
       "Name: rating, dtype: int64"
      ]
     },
     "execution_count": 151,
     "metadata": {},
     "output_type": "execute_result"
    }
   ],
   "source": [
    "# La variable rating tiene 5 categorías.\n",
    "df_cr.rating.value_counts()"
   ]
  },
  {
   "cell_type": "code",
   "execution_count": 152,
   "metadata": {},
   "outputs": [
    {
     "data": {
      "text/plain": [
       "\"Pretty dry, but I was able to pass with just two complete watches so I'm happy about that.  As usual there were some questions on the final exam that were NO WHERE in the course, which is annoying but far better than many microsoft tests I have taken.  Never found the suplimental material that the course references... but who cares... i passed!\""
      ]
     },
     "execution_count": 152,
     "metadata": {},
     "output_type": "execute_result"
    }
   ],
   "source": [
    "df_cr.iloc[0,0]"
   ]
  },
  {
   "cell_type": "code",
   "execution_count": 153,
   "metadata": {},
   "outputs": [
    {
     "name": "stdout",
     "output_type": "stream",
     "text": [
      "<class 'pandas.core.frame.DataFrame'>\n",
      "RangeIndex: 1454711 entries, 0 to 1454710\n",
      "Data columns (total 5 columns):\n",
      " #   Column        Non-Null Count    Dtype \n",
      "---  ------        --------------    ----- \n",
      " 0   reviews       1454571 non-null  object\n",
      " 1   reviewers     1454711 non-null  object\n",
      " 2   date_reviews  1454711 non-null  object\n",
      " 3   rating        1454711 non-null  int64 \n",
      " 4   course_id     1454711 non-null  object\n",
      "dtypes: int64(1), object(4)\n",
      "memory usage: 55.5+ MB\n"
     ]
    }
   ],
   "source": [
    "df_cr.info()"
   ]
  },
  {
   "cell_type": "code",
   "execution_count": 154,
   "metadata": {},
   "outputs": [
    {
     "data": {
      "text/plain": [
       "reviews         140\n",
       "reviewers         0\n",
       "date_reviews      0\n",
       "rating            0\n",
       "course_id         0\n",
       "dtype: int64"
      ]
     },
     "execution_count": 154,
     "metadata": {},
     "output_type": "execute_result"
    }
   ],
   "source": [
    "# Tengo registros con valores faltantes en las columnas reviews. Las demás columnas están en perfectas condiciones.\n",
    "\n",
    "df_cr.isnull().sum()"
   ]
  },
  {
   "cell_type": "code",
   "execution_count": 155,
   "metadata": {},
   "outputs": [
    {
     "data": {
      "text/plain": [
       "reviews         object\n",
       "reviewers       object\n",
       "date_reviews    object\n",
       "rating           int64\n",
       "course_id       object\n",
       "dtype: object"
      ]
     },
     "execution_count": 155,
     "metadata": {},
     "output_type": "execute_result"
    }
   ],
   "source": [
    "df_cr.astype({'reviews': str}).dtypes"
   ]
  },
  {
   "cell_type": "code",
   "execution_count": 156,
   "metadata": {},
   "outputs": [],
   "source": [
    "# Lleno esos campos vacíos con el valor NA (not available).\n",
    "df_cr['reviews'].fillna('NA',inplace=True)"
   ]
  },
  {
   "cell_type": "code",
   "execution_count": 157,
   "metadata": {},
   "outputs": [
    {
     "data": {
      "text/html": [
       "<div>\n",
       "<style scoped>\n",
       "    .dataframe tbody tr th:only-of-type {\n",
       "        vertical-align: middle;\n",
       "    }\n",
       "\n",
       "    .dataframe tbody tr th {\n",
       "        vertical-align: top;\n",
       "    }\n",
       "\n",
       "    .dataframe thead th {\n",
       "        text-align: right;\n",
       "    }\n",
       "</style>\n",
       "<table border=\"1\" class=\"dataframe\">\n",
       "  <thead>\n",
       "    <tr style=\"text-align: right;\">\n",
       "      <th></th>\n",
       "      <th>reviews</th>\n",
       "      <th>reviewers</th>\n",
       "      <th>date_reviews</th>\n",
       "      <th>rating</th>\n",
       "      <th>course_id</th>\n",
       "    </tr>\n",
       "  </thead>\n",
       "  <tbody>\n",
       "    <tr>\n",
       "      <th>30</th>\n",
       "      <td>Great course</td>\n",
       "      <td>By Mark B</td>\n",
       "      <td>Dec 03, 2019</td>\n",
       "      <td>5</td>\n",
       "      <td>google-cbrs-cpi-training</td>\n",
       "    </tr>\n",
       "    <tr>\n",
       "      <th>31</th>\n",
       "      <td>Solid presentation all the way through. I real...</td>\n",
       "      <td>By Logan D</td>\n",
       "      <td>Sep 03, 2020</td>\n",
       "      <td>5</td>\n",
       "      <td>google-cbrs-cpi-training</td>\n",
       "    </tr>\n",
       "    <tr>\n",
       "      <th>32</th>\n",
       "      <td>Probably the best certification course I've ta...</td>\n",
       "      <td>By Luis M C</td>\n",
       "      <td>Nov 21, 2019</td>\n",
       "      <td>5</td>\n",
       "      <td>google-cbrs-cpi-training</td>\n",
       "    </tr>\n",
       "    <tr>\n",
       "      <th>33</th>\n",
       "      <td>The ProctorU.com system took 2 times the amoun...</td>\n",
       "      <td>By scott w</td>\n",
       "      <td>Sep 28, 2020</td>\n",
       "      <td>5</td>\n",
       "      <td>google-cbrs-cpi-training</td>\n",
       "    </tr>\n",
       "    <tr>\n",
       "      <th>34</th>\n",
       "      <td>Covered all of the required information in an ...</td>\n",
       "      <td>By Ryan H</td>\n",
       "      <td>Aug 26, 2019</td>\n",
       "      <td>5</td>\n",
       "      <td>google-cbrs-cpi-training</td>\n",
       "    </tr>\n",
       "    <tr>\n",
       "      <th>...</th>\n",
       "      <td>...</td>\n",
       "      <td>...</td>\n",
       "      <td>...</td>\n",
       "      <td>...</td>\n",
       "      <td>...</td>\n",
       "    </tr>\n",
       "    <tr>\n",
       "      <th>1454706</th>\n",
       "      <td>g</td>\n",
       "      <td>By Brijesh K</td>\n",
       "      <td>Aug 25, 2020</td>\n",
       "      <td>5</td>\n",
       "      <td>computer-networking</td>\n",
       "    </tr>\n",
       "    <tr>\n",
       "      <th>1454707</th>\n",
       "      <td>.</td>\n",
       "      <td>By Vasavi V M</td>\n",
       "      <td>Jul 02, 2020</td>\n",
       "      <td>5</td>\n",
       "      <td>computer-networking</td>\n",
       "    </tr>\n",
       "    <tr>\n",
       "      <th>1454708</th>\n",
       "      <td>.</td>\n",
       "      <td>By Drishti D</td>\n",
       "      <td>Jun 20, 2020</td>\n",
       "      <td>5</td>\n",
       "      <td>computer-networking</td>\n",
       "    </tr>\n",
       "    <tr>\n",
       "      <th>1454709</th>\n",
       "      <td>.</td>\n",
       "      <td>By FAUSTINE F K</td>\n",
       "      <td>Jun 07, 2020</td>\n",
       "      <td>5</td>\n",
       "      <td>computer-networking</td>\n",
       "    </tr>\n",
       "    <tr>\n",
       "      <th>1454710</th>\n",
       "      <td>G</td>\n",
       "      <td>By Reza S</td>\n",
       "      <td>Aug 12, 2018</td>\n",
       "      <td>5</td>\n",
       "      <td>computer-networking</td>\n",
       "    </tr>\n",
       "  </tbody>\n",
       "</table>\n",
       "<p>996433 rows × 5 columns</p>\n",
       "</div>"
      ],
      "text/plain": [
       "                                                   reviews        reviewers  \\\n",
       "30                                            Great course        By Mark B   \n",
       "31       Solid presentation all the way through. I real...       By Logan D   \n",
       "32       Probably the best certification course I've ta...      By Luis M C   \n",
       "33       The ProctorU.com system took 2 times the amoun...       By scott w   \n",
       "34       Covered all of the required information in an ...        By Ryan H   \n",
       "...                                                    ...              ...   \n",
       "1454706                                                  g     By Brijesh K   \n",
       "1454707                                                  .    By Vasavi V M   \n",
       "1454708                                                  .     By Drishti D   \n",
       "1454709                                                  .  By FAUSTINE F K   \n",
       "1454710                                                  G        By Reza S   \n",
       "\n",
       "         date_reviews  rating                 course_id  \n",
       "30       Dec 03, 2019       5  google-cbrs-cpi-training  \n",
       "31       Sep 03, 2020       5  google-cbrs-cpi-training  \n",
       "32       Nov 21, 2019       5  google-cbrs-cpi-training  \n",
       "33       Sep 28, 2020       5  google-cbrs-cpi-training  \n",
       "34       Aug 26, 2019       5  google-cbrs-cpi-training  \n",
       "...               ...     ...                       ...  \n",
       "1454706  Aug 25, 2020       5       computer-networking  \n",
       "1454707  Jul 02, 2020       5       computer-networking  \n",
       "1454708  Jun 20, 2020       5       computer-networking  \n",
       "1454709  Jun 07, 2020       5       computer-networking  \n",
       "1454710  Aug 12, 2018       5       computer-networking  \n",
       "\n",
       "[996433 rows x 5 columns]"
      ]
     },
     "execution_count": 157,
     "metadata": {},
     "output_type": "execute_result"
    }
   ],
   "source": [
    "# Compruebo la existencia de registros duplicados.\n",
    "\n",
    "df_cr[df_cr['reviews'].duplicated()]"
   ]
  },
  {
   "attachments": {},
   "cell_type": "markdown",
   "metadata": {},
   "source": [
    "Veo que esta estimación no me servirá, ya que mucha gente distinta respondió con valores como \".\" para cumplir con entregar una review. Si borrara los duplicados bajo este criterio, estaría desperdiciando muchísima data.\n",
    "\n",
    "Voy eliminar los registros en los cuales el mismo reviewer dio una misma review sobre un mismo curso. Considero que este criterio de filtro es muy sólido para identificar verdaderos duplicados."
   ]
  },
  {
   "cell_type": "code",
   "execution_count": 158,
   "metadata": {},
   "outputs": [
    {
     "data": {
      "text/html": [
       "<div>\n",
       "<style scoped>\n",
       "    .dataframe tbody tr th:only-of-type {\n",
       "        vertical-align: middle;\n",
       "    }\n",
       "\n",
       "    .dataframe tbody tr th {\n",
       "        vertical-align: top;\n",
       "    }\n",
       "\n",
       "    .dataframe thead th {\n",
       "        text-align: right;\n",
       "    }\n",
       "</style>\n",
       "<table border=\"1\" class=\"dataframe\">\n",
       "  <thead>\n",
       "    <tr style=\"text-align: right;\">\n",
       "      <th></th>\n",
       "      <th>reviews</th>\n",
       "      <th>reviewers</th>\n",
       "      <th>date_reviews</th>\n",
       "      <th>rating</th>\n",
       "      <th>course_id</th>\n",
       "    </tr>\n",
       "  </thead>\n",
       "  <tbody>\n",
       "    <tr>\n",
       "      <th>818738</th>\n",
       "      <td>It was really great experience.</td>\n",
       "      <td>By \\t M N H</td>\n",
       "      <td>Sep 02, 2020</td>\n",
       "      <td>5</td>\n",
       "      <td>grammar-punctuation</td>\n",
       "    </tr>\n",
       "    <tr>\n",
       "      <th>818713</th>\n",
       "      <td>It was really great experience.</td>\n",
       "      <td>By \\t M N H</td>\n",
       "      <td>Sep 02, 2020</td>\n",
       "      <td>5</td>\n",
       "      <td>grammar-punctuation</td>\n",
       "    </tr>\n",
       "    <tr>\n",
       "      <th>818688</th>\n",
       "      <td>It was really great experience.</td>\n",
       "      <td>By \\t M N H</td>\n",
       "      <td>Sep 02, 2020</td>\n",
       "      <td>5</td>\n",
       "      <td>grammar-punctuation</td>\n",
       "    </tr>\n",
       "    <tr>\n",
       "      <th>301798</th>\n",
       "      <td>This course is amazing. Python is so easy lang...</td>\n",
       "      <td>By \\t M R I</td>\n",
       "      <td>Sep 15, 2020</td>\n",
       "      <td>5</td>\n",
       "      <td>python-data</td>\n",
       "    </tr>\n",
       "    <tr>\n",
       "      <th>301748</th>\n",
       "      <td>This course is amazing. Python is so easy lang...</td>\n",
       "      <td>By \\t M R I</td>\n",
       "      <td>Sep 15, 2020</td>\n",
       "      <td>5</td>\n",
       "      <td>python-data</td>\n",
       "    </tr>\n",
       "    <tr>\n",
       "      <th>...</th>\n",
       "      <td>...</td>\n",
       "      <td>...</td>\n",
       "      <td>...</td>\n",
       "      <td>...</td>\n",
       "      <td>...</td>\n",
       "    </tr>\n",
       "    <tr>\n",
       "      <th>1326624</th>\n",
       "      <td>I loved the way of learning and how this cours...</td>\n",
       "      <td>By ���� � �</td>\n",
       "      <td>Jan 19, 2020</td>\n",
       "      <td>5</td>\n",
       "      <td>strategic-management</td>\n",
       "    </tr>\n",
       "    <tr>\n",
       "      <th>1326599</th>\n",
       "      <td>I loved the way of learning and how this cours...</td>\n",
       "      <td>By ���� � �</td>\n",
       "      <td>Jan 19, 2020</td>\n",
       "      <td>5</td>\n",
       "      <td>strategic-management</td>\n",
       "    </tr>\n",
       "    <tr>\n",
       "      <th>264422</th>\n",
       "      <td>thanks providing this excellent course.  these...</td>\n",
       "      <td>By 🐻 �</td>\n",
       "      <td>Aug 22, 2020</td>\n",
       "      <td>5</td>\n",
       "      <td>learning-how-to-learn</td>\n",
       "    </tr>\n",
       "    <tr>\n",
       "      <th>264447</th>\n",
       "      <td>thanks providing this excellent course.  these...</td>\n",
       "      <td>By 🐻 �</td>\n",
       "      <td>Aug 22, 2020</td>\n",
       "      <td>5</td>\n",
       "      <td>learning-how-to-learn</td>\n",
       "    </tr>\n",
       "    <tr>\n",
       "      <th>264397</th>\n",
       "      <td>thanks providing this excellent course.  these...</td>\n",
       "      <td>By 🐻 �</td>\n",
       "      <td>Aug 22, 2020</td>\n",
       "      <td>5</td>\n",
       "      <td>learning-how-to-learn</td>\n",
       "    </tr>\n",
       "  </tbody>\n",
       "</table>\n",
       "<p>1403456 rows × 5 columns</p>\n",
       "</div>"
      ],
      "text/plain": [
       "                                                   reviews    reviewers  \\\n",
       "818738                     It was really great experience.  By \\t M N H   \n",
       "818713                     It was really great experience.  By \\t M N H   \n",
       "818688                     It was really great experience.  By \\t M N H   \n",
       "301798   This course is amazing. Python is so easy lang...  By \\t M R I   \n",
       "301748   This course is amazing. Python is so easy lang...  By \\t M R I   \n",
       "...                                                    ...          ...   \n",
       "1326624  I loved the way of learning and how this cours...  By ���� � �   \n",
       "1326599  I loved the way of learning and how this cours...  By ���� � �   \n",
       "264422   thanks providing this excellent course.  these...       By 🐻 �   \n",
       "264447   thanks providing this excellent course.  these...       By 🐻 �   \n",
       "264397   thanks providing this excellent course.  these...       By 🐻 �   \n",
       "\n",
       "         date_reviews  rating              course_id  \n",
       "818738   Sep 02, 2020       5    grammar-punctuation  \n",
       "818713   Sep 02, 2020       5    grammar-punctuation  \n",
       "818688   Sep 02, 2020       5    grammar-punctuation  \n",
       "301798   Sep 15, 2020       5            python-data  \n",
       "301748   Sep 15, 2020       5            python-data  \n",
       "...               ...     ...                    ...  \n",
       "1326624  Jan 19, 2020       5   strategic-management  \n",
       "1326599  Jan 19, 2020       5   strategic-management  \n",
       "264422   Aug 22, 2020       5  learning-how-to-learn  \n",
       "264447   Aug 22, 2020       5  learning-how-to-learn  \n",
       "264397   Aug 22, 2020       5  learning-how-to-learn  \n",
       "\n",
       "[1403456 rows x 5 columns]"
      ]
     },
     "execution_count": 158,
     "metadata": {},
     "output_type": "execute_result"
    }
   ],
   "source": [
    "df_cr[df_cr.duplicated(['reviews','reviewers','course_id'] , keep=False)].sort_values(by='reviewers') "
   ]
  },
  {
   "attachments": {},
   "cell_type": "markdown",
   "metadata": {},
   "source": [
    "Vemos que gran parte de los registros tienen duplicados exactos. Porcederé a borrar las copias de los registros, guardando una ocurrencia de cada evento."
   ]
  },
  {
   "cell_type": "code",
   "execution_count": 159,
   "metadata": {},
   "outputs": [],
   "source": [
    "df_cr.drop_duplicates(['reviews','reviewers','course_id'] , keep='first' , inplace = True)"
   ]
  },
  {
   "cell_type": "code",
   "execution_count": 160,
   "metadata": {},
   "outputs": [
    {
     "data": {
      "text/plain": [
       "(519928, 5)"
      ]
     },
     "execution_count": 160,
     "metadata": {},
     "output_type": "execute_result"
    }
   ],
   "source": [
    "df_cr.shape"
   ]
  },
  {
   "cell_type": "code",
   "execution_count": 161,
   "metadata": {},
   "outputs": [
    {
     "data": {
      "text/plain": [
       "<bound method IndexOpsMixin.value_counts of 0                      machine-learning\n",
       "1                     indigenous-canada\n",
       "2             the-science-of-well-being\n",
       "3        technical-support-fundamentals\n",
       "4              google-cbrs-cpi-training\n",
       "                     ...               \n",
       "618    accounting-data-analytics-python\n",
       "619                        spectroscopy\n",
       "620                 managing-as-a-coach\n",
       "621                  hotel-distribution\n",
       "622                 data-science-course\n",
       "Name: course_id, Length: 623, dtype: object>"
      ]
     },
     "execution_count": 161,
     "metadata": {},
     "output_type": "execute_result"
    }
   ],
   "source": [
    "# Compruebo que existen la misma cantidad de Id de cursos que en df_cr y el formato es el mismo. \n",
    "# Por lo tanto la información puede unificarse en un solo DF.\n",
    "\n",
    "df_cc.course_id.value_counts"
   ]
  },
  {
   "attachments": {},
   "cell_type": "markdown",
   "metadata": {},
   "source": [
    "***"
   ]
  },
  {
   "attachments": {},
   "cell_type": "markdown",
   "metadata": {},
   "source": [
    "#### 3) *Dataframe EDX Courses --> _ec*"
   ]
  },
  {
   "cell_type": "code",
   "execution_count": 162,
   "metadata": {},
   "outputs": [
    {
     "data": {
      "text/html": [
       "<div>\n",
       "<style scoped>\n",
       "    .dataframe tbody tr th:only-of-type {\n",
       "        vertical-align: middle;\n",
       "    }\n",
       "\n",
       "    .dataframe tbody tr th {\n",
       "        vertical-align: top;\n",
       "    }\n",
       "\n",
       "    .dataframe thead th {\n",
       "        text-align: right;\n",
       "    }\n",
       "</style>\n",
       "<table border=\"1\" class=\"dataframe\">\n",
       "  <thead>\n",
       "    <tr style=\"text-align: right;\">\n",
       "      <th></th>\n",
       "      <th>title</th>\n",
       "      <th>summary</th>\n",
       "      <th>n_enrolled</th>\n",
       "      <th>course_type</th>\n",
       "      <th>institution</th>\n",
       "      <th>instructors</th>\n",
       "      <th>Level</th>\n",
       "      <th>subject</th>\n",
       "      <th>language</th>\n",
       "      <th>subtitles</th>\n",
       "      <th>course_effort</th>\n",
       "      <th>course_length</th>\n",
       "      <th>price</th>\n",
       "      <th>course_description</th>\n",
       "      <th>course_syllabus</th>\n",
       "      <th>course_url</th>\n",
       "    </tr>\n",
       "  </thead>\n",
       "  <tbody>\n",
       "    <tr>\n",
       "      <th>0</th>\n",
       "      <td>How to Learn Online</td>\n",
       "      <td>Learn essential strategies for successful onli...</td>\n",
       "      <td>124,980</td>\n",
       "      <td>Self-paced on your time</td>\n",
       "      <td>edX</td>\n",
       "      <td>Nina Huntemann-Robyn Belair-Ben Piscopo</td>\n",
       "      <td>Introductory</td>\n",
       "      <td>Education &amp; Teacher Training</td>\n",
       "      <td>English</td>\n",
       "      <td>English</td>\n",
       "      <td>2–3 hours per week</td>\n",
       "      <td>2 Weeks</td>\n",
       "      <td>FREE-Add a Verified Certificate for $49 USD</td>\n",
       "      <td>Designed for those who are new to elearning, t...</td>\n",
       "      <td>Welcome - We start with opportunities to meet ...</td>\n",
       "      <td>https://www.edx.org/course/how-to-learn-online</td>\n",
       "    </tr>\n",
       "    <tr>\n",
       "      <th>1</th>\n",
       "      <td>Programming for Everybody (Getting Started wit...</td>\n",
       "      <td>This course is a \"no prerequisite\" introductio...</td>\n",
       "      <td>293,864</td>\n",
       "      <td>Self-paced on your time</td>\n",
       "      <td>The University of Michigan</td>\n",
       "      <td>Charles Severance</td>\n",
       "      <td>Introductory</td>\n",
       "      <td>Computer Science</td>\n",
       "      <td>English</td>\n",
       "      <td>English</td>\n",
       "      <td>2–4 hours per week</td>\n",
       "      <td>7 Weeks</td>\n",
       "      <td>FREE-Add a Verified Certificate for $49 USD</td>\n",
       "      <td>This course aims to teach everyone the basics ...</td>\n",
       "      <td>NaN</td>\n",
       "      <td>https://www.edx.org/course/programming-for-eve...</td>\n",
       "    </tr>\n",
       "    <tr>\n",
       "      <th>2</th>\n",
       "      <td>CS50's Introduction to Computer Science</td>\n",
       "      <td>An introduction to the intellectual enterprise...</td>\n",
       "      <td>2,442,271</td>\n",
       "      <td>Self-paced on your time</td>\n",
       "      <td>Harvard University</td>\n",
       "      <td>David J. Malan-Doug Lloyd-Brian Yu</td>\n",
       "      <td>Introductory</td>\n",
       "      <td>Computer Science</td>\n",
       "      <td>English</td>\n",
       "      <td>English</td>\n",
       "      <td>6–18 hours per week</td>\n",
       "      <td>12 Weeks</td>\n",
       "      <td>FREE-Add a Verified Certificate for $90 USD</td>\n",
       "      <td>This is CS50x , Harvard University's introduct...</td>\n",
       "      <td>NaN</td>\n",
       "      <td>https://www.edx.org/course/cs50s-introduction-...</td>\n",
       "    </tr>\n",
       "    <tr>\n",
       "      <th>3</th>\n",
       "      <td>The Analytics Edge</td>\n",
       "      <td>Through inspiring examples and stories, discov...</td>\n",
       "      <td>129,555</td>\n",
       "      <td>Instructor-led on a course schedule</td>\n",
       "      <td>Massachusetts Institute of Technology</td>\n",
       "      <td>Dimitris Bertsimas-Allison O'Hair-John Silberh...</td>\n",
       "      <td>Intermediate</td>\n",
       "      <td>Data Analysis &amp; Statistics</td>\n",
       "      <td>English</td>\n",
       "      <td>English</td>\n",
       "      <td>10–15 hours per week</td>\n",
       "      <td>13 Weeks</td>\n",
       "      <td>FREE-Add a Verified Certificate for $199 USD</td>\n",
       "      <td>In the last decade, the amount of data availab...</td>\n",
       "      <td>NaN</td>\n",
       "      <td>https://www.edx.org/course/the-analytics-edge</td>\n",
       "    </tr>\n",
       "    <tr>\n",
       "      <th>4</th>\n",
       "      <td>Marketing Analytics: Marketing Measurement Str...</td>\n",
       "      <td>This course is part of a MicroMasters® Program</td>\n",
       "      <td>81,140</td>\n",
       "      <td>Self-paced on your time</td>\n",
       "      <td>University of California, Berkeley</td>\n",
       "      <td>Stephan Sorger</td>\n",
       "      <td>Introductory</td>\n",
       "      <td>Computer Science</td>\n",
       "      <td>English</td>\n",
       "      <td>English</td>\n",
       "      <td>5–7 hours per week</td>\n",
       "      <td>4 Weeks</td>\n",
       "      <td>FREE-Add a Verified Certificate for $249 USD</td>\n",
       "      <td>Begin your journey in a new career in marketin...</td>\n",
       "      <td>NaN</td>\n",
       "      <td>https://www.edx.org/course/marketing-analytics...</td>\n",
       "    </tr>\n",
       "  </tbody>\n",
       "</table>\n",
       "</div>"
      ],
      "text/plain": [
       "                                               title  \\\n",
       "0                                How to Learn Online   \n",
       "1  Programming for Everybody (Getting Started wit...   \n",
       "2            CS50's Introduction to Computer Science   \n",
       "3                                 The Analytics Edge   \n",
       "4  Marketing Analytics: Marketing Measurement Str...   \n",
       "\n",
       "                                             summary n_enrolled  \\\n",
       "0  Learn essential strategies for successful onli...    124,980   \n",
       "1  This course is a \"no prerequisite\" introductio...    293,864   \n",
       "2  An introduction to the intellectual enterprise...  2,442,271   \n",
       "3  Through inspiring examples and stories, discov...    129,555   \n",
       "4     This course is part of a MicroMasters® Program     81,140   \n",
       "\n",
       "                           course_type                            institution  \\\n",
       "0              Self-paced on your time                                    edX   \n",
       "1              Self-paced on your time             The University of Michigan   \n",
       "2              Self-paced on your time                     Harvard University   \n",
       "3  Instructor-led on a course schedule  Massachusetts Institute of Technology   \n",
       "4              Self-paced on your time     University of California, Berkeley   \n",
       "\n",
       "                                         instructors         Level  \\\n",
       "0            Nina Huntemann-Robyn Belair-Ben Piscopo  Introductory   \n",
       "1                                  Charles Severance  Introductory   \n",
       "2                 David J. Malan-Doug Lloyd-Brian Yu  Introductory   \n",
       "3  Dimitris Bertsimas-Allison O'Hair-John Silberh...  Intermediate   \n",
       "4                                     Stephan Sorger  Introductory   \n",
       "\n",
       "                        subject language subtitles         course_effort  \\\n",
       "0  Education & Teacher Training  English   English    2–3 hours per week   \n",
       "1              Computer Science  English   English    2–4 hours per week   \n",
       "2              Computer Science  English   English   6–18 hours per week   \n",
       "3    Data Analysis & Statistics  English   English  10–15 hours per week   \n",
       "4              Computer Science  English   English    5–7 hours per week   \n",
       "\n",
       "  course_length                                         price  \\\n",
       "0       2 Weeks   FREE-Add a Verified Certificate for $49 USD   \n",
       "1       7 Weeks   FREE-Add a Verified Certificate for $49 USD   \n",
       "2      12 Weeks   FREE-Add a Verified Certificate for $90 USD   \n",
       "3      13 Weeks  FREE-Add a Verified Certificate for $199 USD   \n",
       "4       4 Weeks  FREE-Add a Verified Certificate for $249 USD   \n",
       "\n",
       "                                  course_description  \\\n",
       "0  Designed for those who are new to elearning, t...   \n",
       "1  This course aims to teach everyone the basics ...   \n",
       "2  This is CS50x , Harvard University's introduct...   \n",
       "3  In the last decade, the amount of data availab...   \n",
       "4  Begin your journey in a new career in marketin...   \n",
       "\n",
       "                                     course_syllabus  \\\n",
       "0  Welcome - We start with opportunities to meet ...   \n",
       "1                                                NaN   \n",
       "2                                                NaN   \n",
       "3                                                NaN   \n",
       "4                                                NaN   \n",
       "\n",
       "                                          course_url  \n",
       "0     https://www.edx.org/course/how-to-learn-online  \n",
       "1  https://www.edx.org/course/programming-for-eve...  \n",
       "2  https://www.edx.org/course/cs50s-introduction-...  \n",
       "3      https://www.edx.org/course/the-analytics-edge  \n",
       "4  https://www.edx.org/course/marketing-analytics...  "
      ]
     },
     "execution_count": 162,
     "metadata": {},
     "output_type": "execute_result"
    }
   ],
   "source": [
    "df_ec.head()"
   ]
  },
  {
   "cell_type": "code",
   "execution_count": 163,
   "metadata": {},
   "outputs": [
    {
     "data": {
      "text/plain": [
       "title                                               How to Learn Online\n",
       "summary               Learn essential strategies for successful onli...\n",
       "n_enrolled                                                      124,980\n",
       "course_type                                     Self-paced on your time\n",
       "institution                                                         edX\n",
       "instructors                     Nina Huntemann-Robyn Belair-Ben Piscopo\n",
       "Level                                                      Introductory\n",
       "subject                                    Education & Teacher Training\n",
       "language                                                        English\n",
       "subtitles                                                       English\n",
       "course_effort                                        2–3 hours per week\n",
       "course_length                                                   2 Weeks\n",
       "price                       FREE-Add a Verified Certificate for $49 USD\n",
       "course_description    Designed for those who are new to elearning, t...\n",
       "course_syllabus       Welcome - We start with opportunities to meet ...\n",
       "course_url               https://www.edx.org/course/how-to-learn-online\n",
       "Name: 0, dtype: object"
      ]
     },
     "execution_count": 163,
     "metadata": {},
     "output_type": "execute_result"
    }
   ],
   "source": [
    "df_ec.loc[0]"
   ]
  },
  {
   "cell_type": "code",
   "execution_count": 164,
   "metadata": {},
   "outputs": [
    {
     "data": {
      "text/plain": [
       "\"Welcome - We start with opportunities to meet your instructors and fellow learners. Self-care for Learning - In this module, we then explore baseline self-care strategies that will help you maintain a healthy mind for effective online learning, the connections between memory and learning, and the importance of sleep. Space, Time, and Technology - In this module we address the challenges involved with creating a space for learning, including managing your technology. We also cover techniques for time management and keeping a routine. Learning Strategies - This module will help you get the most out your online learning experience. We cover effective study strategies and practices, making plans and setting priorities, and practicing self-regulation skills. Communication and Community - In this module, we talk about the importance of social learning. We cover strategies for communication, collaborating, and building connections with your instructors and fellow learners. What's Next? - Get started learning online!\""
      ]
     },
     "execution_count": 164,
     "metadata": {},
     "output_type": "execute_result"
    }
   ],
   "source": [
    "df_ec.loc[0,'course_syllabus']"
   ]
  },
  {
   "cell_type": "code",
   "execution_count": 165,
   "metadata": {},
   "outputs": [
    {
     "name": "stdout",
     "output_type": "stream",
     "text": [
      "<class 'pandas.core.frame.DataFrame'>\n",
      "RangeIndex: 975 entries, 0 to 974\n",
      "Data columns (total 16 columns):\n",
      " #   Column              Non-Null Count  Dtype \n",
      "---  ------              --------------  ----- \n",
      " 0   title               975 non-null    object\n",
      " 1   summary             922 non-null    object\n",
      " 2   n_enrolled          855 non-null    object\n",
      " 3   course_type         975 non-null    object\n",
      " 4   institution         975 non-null    object\n",
      " 5   instructors         972 non-null    object\n",
      " 6   Level               975 non-null    object\n",
      " 7   subject             975 non-null    object\n",
      " 8   language            975 non-null    object\n",
      " 9   subtitles           972 non-null    object\n",
      " 10  course_effort       975 non-null    object\n",
      " 11  course_length       975 non-null    object\n",
      " 12  price               975 non-null    object\n",
      " 13  course_description  935 non-null    object\n",
      " 14  course_syllabus     417 non-null    object\n",
      " 15  course_url          975 non-null    object\n",
      "dtypes: object(16)\n",
      "memory usage: 122.0+ KB\n"
     ]
    }
   ],
   "source": [
    "df_ec.info()"
   ]
  },
  {
   "cell_type": "code",
   "execution_count": 166,
   "metadata": {},
   "outputs": [
    {
     "data": {
      "text/plain": [
       "title                   0\n",
       "summary                53\n",
       "n_enrolled            120\n",
       "course_type             0\n",
       "institution             0\n",
       "instructors             3\n",
       "Level                   0\n",
       "subject                 0\n",
       "language                0\n",
       "subtitles               3\n",
       "course_effort           0\n",
       "course_length           0\n",
       "price                   0\n",
       "course_description     40\n",
       "course_syllabus       558\n",
       "course_url              0\n",
       "dtype: int64"
      ]
     },
     "execution_count": 166,
     "metadata": {},
     "output_type": "execute_result"
    }
   ],
   "source": [
    "df_ec.isnull().sum()"
   ]
  },
  {
   "attachments": {},
   "cell_type": "markdown",
   "metadata": {},
   "source": [
    "***"
   ]
  },
  {
   "attachments": {},
   "cell_type": "markdown",
   "metadata": {},
   "source": [
    "#### 4) *Dataframe Udemy Courses --> _uc*"
   ]
  },
  {
   "cell_type": "code",
   "execution_count": 167,
   "metadata": {},
   "outputs": [
    {
     "data": {
      "text/html": [
       "<div>\n",
       "<style scoped>\n",
       "    .dataframe tbody tr th:only-of-type {\n",
       "        vertical-align: middle;\n",
       "    }\n",
       "\n",
       "    .dataframe tbody tr th {\n",
       "        vertical-align: top;\n",
       "    }\n",
       "\n",
       "    .dataframe thead th {\n",
       "        text-align: right;\n",
       "    }\n",
       "</style>\n",
       "<table border=\"1\" class=\"dataframe\">\n",
       "  <thead>\n",
       "    <tr style=\"text-align: right;\">\n",
       "      <th></th>\n",
       "      <th>course_id</th>\n",
       "      <th>course_title</th>\n",
       "      <th>url</th>\n",
       "      <th>is_paid</th>\n",
       "      <th>price</th>\n",
       "      <th>num_subscribers</th>\n",
       "      <th>num_reviews</th>\n",
       "      <th>num_lectures</th>\n",
       "      <th>level</th>\n",
       "      <th>content_duration</th>\n",
       "      <th>published_timestamp</th>\n",
       "      <th>subject</th>\n",
       "    </tr>\n",
       "  </thead>\n",
       "  <tbody>\n",
       "    <tr>\n",
       "      <th>0</th>\n",
       "      <td>1070968</td>\n",
       "      <td>Ultimate Investment Banking Course</td>\n",
       "      <td>https://www.udemy.com/ultimate-investment-bank...</td>\n",
       "      <td>True</td>\n",
       "      <td>200</td>\n",
       "      <td>2147</td>\n",
       "      <td>23</td>\n",
       "      <td>51</td>\n",
       "      <td>All Levels</td>\n",
       "      <td>1.5</td>\n",
       "      <td>2017-01-18T20:58:58Z</td>\n",
       "      <td>Business Finance</td>\n",
       "    </tr>\n",
       "    <tr>\n",
       "      <th>1</th>\n",
       "      <td>1113822</td>\n",
       "      <td>Complete GST Course &amp; Certification - Grow You...</td>\n",
       "      <td>https://www.udemy.com/goods-and-services-tax/</td>\n",
       "      <td>True</td>\n",
       "      <td>75</td>\n",
       "      <td>2792</td>\n",
       "      <td>923</td>\n",
       "      <td>274</td>\n",
       "      <td>All Levels</td>\n",
       "      <td>39.0</td>\n",
       "      <td>2017-03-09T16:34:20Z</td>\n",
       "      <td>Business Finance</td>\n",
       "    </tr>\n",
       "    <tr>\n",
       "      <th>2</th>\n",
       "      <td>1006314</td>\n",
       "      <td>Financial Modeling for Business Analysts and C...</td>\n",
       "      <td>https://www.udemy.com/financial-modeling-for-b...</td>\n",
       "      <td>True</td>\n",
       "      <td>45</td>\n",
       "      <td>2174</td>\n",
       "      <td>74</td>\n",
       "      <td>51</td>\n",
       "      <td>Intermediate Level</td>\n",
       "      <td>2.5</td>\n",
       "      <td>2016-12-19T19:26:30Z</td>\n",
       "      <td>Business Finance</td>\n",
       "    </tr>\n",
       "  </tbody>\n",
       "</table>\n",
       "</div>"
      ],
      "text/plain": [
       "   course_id                                       course_title  \\\n",
       "0    1070968                 Ultimate Investment Banking Course   \n",
       "1    1113822  Complete GST Course & Certification - Grow You...   \n",
       "2    1006314  Financial Modeling for Business Analysts and C...   \n",
       "\n",
       "                                                 url  is_paid  price  \\\n",
       "0  https://www.udemy.com/ultimate-investment-bank...     True    200   \n",
       "1      https://www.udemy.com/goods-and-services-tax/     True     75   \n",
       "2  https://www.udemy.com/financial-modeling-for-b...     True     45   \n",
       "\n",
       "   num_subscribers  num_reviews  num_lectures               level  \\\n",
       "0             2147           23            51          All Levels   \n",
       "1             2792          923           274          All Levels   \n",
       "2             2174           74            51  Intermediate Level   \n",
       "\n",
       "   content_duration   published_timestamp           subject  \n",
       "0               1.5  2017-01-18T20:58:58Z  Business Finance  \n",
       "1              39.0  2017-03-09T16:34:20Z  Business Finance  \n",
       "2               2.5  2016-12-19T19:26:30Z  Business Finance  "
      ]
     },
     "execution_count": 167,
     "metadata": {},
     "output_type": "execute_result"
    }
   ],
   "source": [
    "df_uc.head(3)"
   ]
  },
  {
   "cell_type": "code",
   "execution_count": 168,
   "metadata": {},
   "outputs": [
    {
     "data": {
      "text/plain": [
       "course_id                                                        1070968\n",
       "course_title                          Ultimate Investment Banking Course\n",
       "url                    https://www.udemy.com/ultimate-investment-bank...\n",
       "is_paid                                                             True\n",
       "price                                                                200\n",
       "num_subscribers                                                     2147\n",
       "num_reviews                                                           23\n",
       "num_lectures                                                          51\n",
       "level                                                         All Levels\n",
       "content_duration                                                     1.5\n",
       "published_timestamp                                 2017-01-18T20:58:58Z\n",
       "subject                                                 Business Finance\n",
       "Name: 0, dtype: object"
      ]
     },
     "execution_count": 168,
     "metadata": {},
     "output_type": "execute_result"
    }
   ],
   "source": [
    "df_uc.loc[0]"
   ]
  },
  {
   "cell_type": "code",
   "execution_count": 169,
   "metadata": {},
   "outputs": [
    {
     "name": "stdout",
     "output_type": "stream",
     "text": [
      "<class 'pandas.core.frame.DataFrame'>\n",
      "RangeIndex: 3678 entries, 0 to 3677\n",
      "Data columns (total 12 columns):\n",
      " #   Column               Non-Null Count  Dtype  \n",
      "---  ------               --------------  -----  \n",
      " 0   course_id            3678 non-null   int64  \n",
      " 1   course_title         3678 non-null   object \n",
      " 2   url                  3678 non-null   object \n",
      " 3   is_paid              3678 non-null   bool   \n",
      " 4   price                3678 non-null   int64  \n",
      " 5   num_subscribers      3678 non-null   int64  \n",
      " 6   num_reviews          3678 non-null   int64  \n",
      " 7   num_lectures         3678 non-null   int64  \n",
      " 8   level                3678 non-null   object \n",
      " 9   content_duration     3678 non-null   float64\n",
      " 10  published_timestamp  3678 non-null   object \n",
      " 11  subject              3678 non-null   object \n",
      "dtypes: bool(1), float64(1), int64(5), object(5)\n",
      "memory usage: 319.8+ KB\n"
     ]
    }
   ],
   "source": [
    "df_uc.info()"
   ]
  },
  {
   "cell_type": "code",
   "execution_count": 170,
   "metadata": {},
   "outputs": [
    {
     "data": {
      "text/html": [
       "<div>\n",
       "<style scoped>\n",
       "    .dataframe tbody tr th:only-of-type {\n",
       "        vertical-align: middle;\n",
       "    }\n",
       "\n",
       "    .dataframe tbody tr th {\n",
       "        vertical-align: top;\n",
       "    }\n",
       "\n",
       "    .dataframe thead th {\n",
       "        text-align: right;\n",
       "    }\n",
       "</style>\n",
       "<table border=\"1\" class=\"dataframe\">\n",
       "  <thead>\n",
       "    <tr style=\"text-align: right;\">\n",
       "      <th></th>\n",
       "      <th>course_id</th>\n",
       "      <th>price</th>\n",
       "      <th>num_subscribers</th>\n",
       "      <th>num_reviews</th>\n",
       "      <th>num_lectures</th>\n",
       "      <th>content_duration</th>\n",
       "    </tr>\n",
       "  </thead>\n",
       "  <tbody>\n",
       "    <tr>\n",
       "      <th>count</th>\n",
       "      <td>3.678000e+03</td>\n",
       "      <td>3678.000000</td>\n",
       "      <td>3678.000000</td>\n",
       "      <td>3678.000000</td>\n",
       "      <td>3678.000000</td>\n",
       "      <td>3678.000000</td>\n",
       "    </tr>\n",
       "    <tr>\n",
       "      <th>mean</th>\n",
       "      <td>6.759720e+05</td>\n",
       "      <td>66.049483</td>\n",
       "      <td>3197.150625</td>\n",
       "      <td>156.259108</td>\n",
       "      <td>40.108755</td>\n",
       "      <td>4.094517</td>\n",
       "    </tr>\n",
       "    <tr>\n",
       "      <th>std</th>\n",
       "      <td>3.432732e+05</td>\n",
       "      <td>61.005755</td>\n",
       "      <td>9504.117010</td>\n",
       "      <td>935.452044</td>\n",
       "      <td>50.383346</td>\n",
       "      <td>6.053840</td>\n",
       "    </tr>\n",
       "    <tr>\n",
       "      <th>min</th>\n",
       "      <td>8.324000e+03</td>\n",
       "      <td>0.000000</td>\n",
       "      <td>0.000000</td>\n",
       "      <td>0.000000</td>\n",
       "      <td>0.000000</td>\n",
       "      <td>0.000000</td>\n",
       "    </tr>\n",
       "    <tr>\n",
       "      <th>25%</th>\n",
       "      <td>4.076925e+05</td>\n",
       "      <td>20.000000</td>\n",
       "      <td>111.000000</td>\n",
       "      <td>4.000000</td>\n",
       "      <td>15.000000</td>\n",
       "      <td>1.000000</td>\n",
       "    </tr>\n",
       "    <tr>\n",
       "      <th>50%</th>\n",
       "      <td>6.879170e+05</td>\n",
       "      <td>45.000000</td>\n",
       "      <td>911.500000</td>\n",
       "      <td>18.000000</td>\n",
       "      <td>25.000000</td>\n",
       "      <td>2.000000</td>\n",
       "    </tr>\n",
       "    <tr>\n",
       "      <th>75%</th>\n",
       "      <td>9.613555e+05</td>\n",
       "      <td>95.000000</td>\n",
       "      <td>2546.000000</td>\n",
       "      <td>67.000000</td>\n",
       "      <td>45.750000</td>\n",
       "      <td>4.500000</td>\n",
       "    </tr>\n",
       "    <tr>\n",
       "      <th>max</th>\n",
       "      <td>1.282064e+06</td>\n",
       "      <td>200.000000</td>\n",
       "      <td>268923.000000</td>\n",
       "      <td>27445.000000</td>\n",
       "      <td>779.000000</td>\n",
       "      <td>78.500000</td>\n",
       "    </tr>\n",
       "  </tbody>\n",
       "</table>\n",
       "</div>"
      ],
      "text/plain": [
       "          course_id        price  num_subscribers   num_reviews  num_lectures  \\\n",
       "count  3.678000e+03  3678.000000      3678.000000   3678.000000   3678.000000   \n",
       "mean   6.759720e+05    66.049483      3197.150625    156.259108     40.108755   \n",
       "std    3.432732e+05    61.005755      9504.117010    935.452044     50.383346   \n",
       "min    8.324000e+03     0.000000         0.000000      0.000000      0.000000   \n",
       "25%    4.076925e+05    20.000000       111.000000      4.000000     15.000000   \n",
       "50%    6.879170e+05    45.000000       911.500000     18.000000     25.000000   \n",
       "75%    9.613555e+05    95.000000      2546.000000     67.000000     45.750000   \n",
       "max    1.282064e+06   200.000000    268923.000000  27445.000000    779.000000   \n",
       "\n",
       "       content_duration  \n",
       "count       3678.000000  \n",
       "mean           4.094517  \n",
       "std            6.053840  \n",
       "min            0.000000  \n",
       "25%            1.000000  \n",
       "50%            2.000000  \n",
       "75%            4.500000  \n",
       "max           78.500000  "
      ]
     },
     "execution_count": 170,
     "metadata": {},
     "output_type": "execute_result"
    }
   ],
   "source": [
    "df_uc.describe()"
   ]
  },
  {
   "cell_type": "markdown",
   "metadata": {},
   "source": []
  },
  {
   "attachments": {},
   "cell_type": "markdown",
   "metadata": {},
   "source": [
    "***\n",
    "***"
   ]
  },
  {
   "cell_type": "markdown",
   "metadata": {},
   "source": []
  },
  {
   "attachments": {},
   "cell_type": "markdown",
   "metadata": {},
   "source": [
    "### *TRANSFORMACIÓN Y UNIFICACIÓN DE CRITERIOS EN LOS DF*"
   ]
  },
  {
   "attachments": {},
   "cell_type": "markdown",
   "metadata": {},
   "source": [
    "#### 1) *Coursera*"
   ]
  },
  {
   "attachments": {},
   "cell_type": "markdown",
   "metadata": {},
   "source": [
    "Procedo a unificar los DF de la plataforma Coursera en uno solo."
   ]
  },
  {
   "cell_type": "code",
   "execution_count": 171,
   "metadata": {},
   "outputs": [],
   "source": [
    "# Unifico ambos DFs realizando un merge en la columna 'course_id'.\n",
    "\n",
    "df_co = df_cc.merge(df_cr, on = 'course_id' , how='right')"
   ]
  },
  {
   "cell_type": "code",
   "execution_count": 172,
   "metadata": {},
   "outputs": [
    {
     "data": {
      "text/html": [
       "<div>\n",
       "<style scoped>\n",
       "    .dataframe tbody tr th:only-of-type {\n",
       "        vertical-align: middle;\n",
       "    }\n",
       "\n",
       "    .dataframe tbody tr th {\n",
       "        vertical-align: top;\n",
       "    }\n",
       "\n",
       "    .dataframe thead th {\n",
       "        text-align: right;\n",
       "    }\n",
       "</style>\n",
       "<table border=\"1\" class=\"dataframe\">\n",
       "  <thead>\n",
       "    <tr style=\"text-align: right;\">\n",
       "      <th></th>\n",
       "      <th>name</th>\n",
       "      <th>institution</th>\n",
       "      <th>course_url</th>\n",
       "      <th>course_id</th>\n",
       "      <th>reviews</th>\n",
       "      <th>reviewers</th>\n",
       "      <th>date_reviews</th>\n",
       "      <th>rating</th>\n",
       "    </tr>\n",
       "  </thead>\n",
       "  <tbody>\n",
       "    <tr>\n",
       "      <th>0</th>\n",
       "      <td>Become a CBRS Certified Professional Installer...</td>\n",
       "      <td>Google - Spectrum Sharing</td>\n",
       "      <td>https://www.coursera.org/learn/google-cbrs-cpi...</td>\n",
       "      <td>google-cbrs-cpi-training</td>\n",
       "      <td>Pretty dry, but I was able to pass with just t...</td>\n",
       "      <td>By Robert S</td>\n",
       "      <td>Feb 12, 2020</td>\n",
       "      <td>4</td>\n",
       "    </tr>\n",
       "    <tr>\n",
       "      <th>1</th>\n",
       "      <td>Become a CBRS Certified Professional Installer...</td>\n",
       "      <td>Google - Spectrum Sharing</td>\n",
       "      <td>https://www.coursera.org/learn/google-cbrs-cpi...</td>\n",
       "      <td>google-cbrs-cpi-training</td>\n",
       "      <td>would be a better experience if the video and ...</td>\n",
       "      <td>By Gabriel E R</td>\n",
       "      <td>Sep 28, 2020</td>\n",
       "      <td>4</td>\n",
       "    </tr>\n",
       "    <tr>\n",
       "      <th>2</th>\n",
       "      <td>Become a CBRS Certified Professional Installer...</td>\n",
       "      <td>Google - Spectrum Sharing</td>\n",
       "      <td>https://www.coursera.org/learn/google-cbrs-cpi...</td>\n",
       "      <td>google-cbrs-cpi-training</td>\n",
       "      <td>Information was perfect! The program itself wa...</td>\n",
       "      <td>By Jacob D</td>\n",
       "      <td>Apr 08, 2020</td>\n",
       "      <td>4</td>\n",
       "    </tr>\n",
       "    <tr>\n",
       "      <th>3</th>\n",
       "      <td>Become a CBRS Certified Professional Installer...</td>\n",
       "      <td>Google - Spectrum Sharing</td>\n",
       "      <td>https://www.coursera.org/learn/google-cbrs-cpi...</td>\n",
       "      <td>google-cbrs-cpi-training</td>\n",
       "      <td>A few grammatical mistakes on test made me do ...</td>\n",
       "      <td>By Dale B</td>\n",
       "      <td>Feb 24, 2020</td>\n",
       "      <td>4</td>\n",
       "    </tr>\n",
       "    <tr>\n",
       "      <th>4</th>\n",
       "      <td>Become a CBRS Certified Professional Installer...</td>\n",
       "      <td>Google - Spectrum Sharing</td>\n",
       "      <td>https://www.coursera.org/learn/google-cbrs-cpi...</td>\n",
       "      <td>google-cbrs-cpi-training</td>\n",
       "      <td>Excellent course and the training provided was...</td>\n",
       "      <td>By Sean G</td>\n",
       "      <td>Jun 18, 2020</td>\n",
       "      <td>4</td>\n",
       "    </tr>\n",
       "  </tbody>\n",
       "</table>\n",
       "</div>"
      ],
      "text/plain": [
       "                                                name  \\\n",
       "0  Become a CBRS Certified Professional Installer...   \n",
       "1  Become a CBRS Certified Professional Installer...   \n",
       "2  Become a CBRS Certified Professional Installer...   \n",
       "3  Become a CBRS Certified Professional Installer...   \n",
       "4  Become a CBRS Certified Professional Installer...   \n",
       "\n",
       "                 institution  \\\n",
       "0  Google - Spectrum Sharing   \n",
       "1  Google - Spectrum Sharing   \n",
       "2  Google - Spectrum Sharing   \n",
       "3  Google - Spectrum Sharing   \n",
       "4  Google - Spectrum Sharing   \n",
       "\n",
       "                                          course_url  \\\n",
       "0  https://www.coursera.org/learn/google-cbrs-cpi...   \n",
       "1  https://www.coursera.org/learn/google-cbrs-cpi...   \n",
       "2  https://www.coursera.org/learn/google-cbrs-cpi...   \n",
       "3  https://www.coursera.org/learn/google-cbrs-cpi...   \n",
       "4  https://www.coursera.org/learn/google-cbrs-cpi...   \n",
       "\n",
       "                  course_id  \\\n",
       "0  google-cbrs-cpi-training   \n",
       "1  google-cbrs-cpi-training   \n",
       "2  google-cbrs-cpi-training   \n",
       "3  google-cbrs-cpi-training   \n",
       "4  google-cbrs-cpi-training   \n",
       "\n",
       "                                             reviews       reviewers  \\\n",
       "0  Pretty dry, but I was able to pass with just t...     By Robert S   \n",
       "1  would be a better experience if the video and ...  By Gabriel E R   \n",
       "2  Information was perfect! The program itself wa...      By Jacob D   \n",
       "3  A few grammatical mistakes on test made me do ...       By Dale B   \n",
       "4  Excellent course and the training provided was...       By Sean G   \n",
       "\n",
       "   date_reviews  rating  \n",
       "0  Feb 12, 2020       4  \n",
       "1  Sep 28, 2020       4  \n",
       "2  Apr 08, 2020       4  \n",
       "3  Feb 24, 2020       4  \n",
       "4  Jun 18, 2020       4  "
      ]
     },
     "execution_count": 172,
     "metadata": {},
     "output_type": "execute_result"
    }
   ],
   "source": [
    "df_co.head()"
   ]
  },
  {
   "cell_type": "code",
   "execution_count": 173,
   "metadata": {},
   "outputs": [
    {
     "name": "stdout",
     "output_type": "stream",
     "text": [
      "<class 'pandas.core.frame.DataFrame'>\n",
      "Int64Index: 519928 entries, 0 to 519927\n",
      "Data columns (total 8 columns):\n",
      " #   Column        Non-Null Count   Dtype \n",
      "---  ------        --------------   ----- \n",
      " 0   name          519928 non-null  object\n",
      " 1   institution   519928 non-null  object\n",
      " 2   course_url    519928 non-null  object\n",
      " 3   course_id     519928 non-null  object\n",
      " 4   reviews       519928 non-null  object\n",
      " 5   reviewers     519928 non-null  object\n",
      " 6   date_reviews  519928 non-null  object\n",
      " 7   rating        519928 non-null  int64 \n",
      "dtypes: int64(1), object(7)\n",
      "memory usage: 35.7+ MB\n"
     ]
    }
   ],
   "source": [
    "df_co.info()"
   ]
  },
  {
   "cell_type": "code",
   "execution_count": 174,
   "metadata": {},
   "outputs": [
    {
     "data": {
      "text/plain": [
       "name            Become a CBRS Certified Professional Installer...\n",
       "institution                             Google - Spectrum Sharing\n",
       "course_url      https://www.coursera.org/learn/google-cbrs-cpi...\n",
       "course_id                                google-cbrs-cpi-training\n",
       "reviews         Pretty dry, but I was able to pass with just t...\n",
       "reviewers                                             By Robert S\n",
       "date_reviews                                         Feb 12, 2020\n",
       "rating                                                          4\n",
       "Name: 0, dtype: object"
      ]
     },
     "execution_count": 174,
     "metadata": {},
     "output_type": "execute_result"
    }
   ],
   "source": [
    "df_co.loc[0]"
   ]
  },
  {
   "attachments": {},
   "cell_type": "markdown",
   "metadata": {},
   "source": [
    "Una vez realizadas varias verificaciones, vemos que el DF unificado está en optimas condiciones."
   ]
  },
  {
   "attachments": {},
   "cell_type": "markdown",
   "metadata": {},
   "source": [
    "Elimino la columna course_url que es irrelevante para el análisis posterior."
   ]
  },
  {
   "cell_type": "code",
   "execution_count": 175,
   "metadata": {},
   "outputs": [],
   "source": [
    "df_co.drop(['course_url'], axis=1, inplace=True)"
   ]
  },
  {
   "attachments": {},
   "cell_type": "markdown",
   "metadata": {},
   "source": [
    "Estimaré la cantidad de cursos vendidos en función de las reviews de cada curso"
   ]
  },
  {
   "cell_type": "code",
   "execution_count": 176,
   "metadata": {},
   "outputs": [],
   "source": [
    "a = df_co.groupby(['course_id']).count()"
   ]
  },
  {
   "cell_type": "code",
   "execution_count": 177,
   "metadata": {},
   "outputs": [
    {
     "data": {
      "text/html": [
       "<div>\n",
       "<style scoped>\n",
       "    .dataframe tbody tr th:only-of-type {\n",
       "        vertical-align: middle;\n",
       "    }\n",
       "\n",
       "    .dataframe tbody tr th {\n",
       "        vertical-align: top;\n",
       "    }\n",
       "\n",
       "    .dataframe thead th {\n",
       "        text-align: right;\n",
       "    }\n",
       "</style>\n",
       "<table border=\"1\" class=\"dataframe\">\n",
       "  <thead>\n",
       "    <tr style=\"text-align: right;\">\n",
       "      <th></th>\n",
       "      <th>name</th>\n",
       "      <th>institution</th>\n",
       "      <th>reviews</th>\n",
       "      <th>reviewers</th>\n",
       "      <th>date_reviews</th>\n",
       "      <th>rating</th>\n",
       "    </tr>\n",
       "    <tr>\n",
       "      <th>course_id</th>\n",
       "      <th></th>\n",
       "      <th></th>\n",
       "      <th></th>\n",
       "      <th></th>\n",
       "      <th></th>\n",
       "      <th></th>\n",
       "    </tr>\n",
       "  </thead>\n",
       "  <tbody>\n",
       "    <tr>\n",
       "      <th>aboriginal-education</th>\n",
       "      <td>67</td>\n",
       "      <td>67</td>\n",
       "      <td>67</td>\n",
       "      <td>67</td>\n",
       "      <td>67</td>\n",
       "      <td>67</td>\n",
       "    </tr>\n",
       "    <tr>\n",
       "      <th>access-control-sscp</th>\n",
       "      <td>45</td>\n",
       "      <td>45</td>\n",
       "      <td>45</td>\n",
       "      <td>45</td>\n",
       "      <td>45</td>\n",
       "      <td>45</td>\n",
       "    </tr>\n",
       "    <tr>\n",
       "      <th>accounting-analytics</th>\n",
       "      <td>468</td>\n",
       "      <td>468</td>\n",
       "      <td>468</td>\n",
       "      <td>468</td>\n",
       "      <td>468</td>\n",
       "      <td>468</td>\n",
       "    </tr>\n",
       "    <tr>\n",
       "      <th>accounting-data-analytics-python</th>\n",
       "      <td>8</td>\n",
       "      <td>8</td>\n",
       "      <td>8</td>\n",
       "      <td>8</td>\n",
       "      <td>8</td>\n",
       "      <td>8</td>\n",
       "    </tr>\n",
       "    <tr>\n",
       "      <th>actualizacion-manejo-diabetes-tipo-2</th>\n",
       "      <td>253</td>\n",
       "      <td>253</td>\n",
       "      <td>253</td>\n",
       "      <td>253</td>\n",
       "      <td>253</td>\n",
       "      <td>253</td>\n",
       "    </tr>\n",
       "    <tr>\n",
       "      <th>...</th>\n",
       "      <td>...</td>\n",
       "      <td>...</td>\n",
       "      <td>...</td>\n",
       "      <td>...</td>\n",
       "      <td>...</td>\n",
       "      <td>...</td>\n",
       "    </tr>\n",
       "    <tr>\n",
       "      <th>womens-health-human-rights</th>\n",
       "      <td>242</td>\n",
       "      <td>242</td>\n",
       "      <td>242</td>\n",
       "      <td>242</td>\n",
       "      <td>242</td>\n",
       "      <td>242</td>\n",
       "    </tr>\n",
       "    <tr>\n",
       "      <th>write-a-feature-length-screenplay-for-film-or-television</th>\n",
       "      <td>32</td>\n",
       "      <td>32</td>\n",
       "      <td>32</td>\n",
       "      <td>32</td>\n",
       "      <td>32</td>\n",
       "      <td>32</td>\n",
       "    </tr>\n",
       "    <tr>\n",
       "      <th>write-your-first-novel</th>\n",
       "      <td>20</td>\n",
       "      <td>20</td>\n",
       "      <td>20</td>\n",
       "      <td>20</td>\n",
       "      <td>20</td>\n",
       "      <td>20</td>\n",
       "    </tr>\n",
       "    <tr>\n",
       "      <th>writing-editing-words</th>\n",
       "      <td>105</td>\n",
       "      <td>105</td>\n",
       "      <td>105</td>\n",
       "      <td>105</td>\n",
       "      <td>105</td>\n",
       "      <td>105</td>\n",
       "    </tr>\n",
       "    <tr>\n",
       "      <th>writing-for-business</th>\n",
       "      <td>811</td>\n",
       "      <td>811</td>\n",
       "      <td>811</td>\n",
       "      <td>811</td>\n",
       "      <td>811</td>\n",
       "      <td>811</td>\n",
       "    </tr>\n",
       "  </tbody>\n",
       "</table>\n",
       "<p>604 rows × 6 columns</p>\n",
       "</div>"
      ],
      "text/plain": [
       "                                                    name  institution  \\\n",
       "course_id                                                               \n",
       "aboriginal-education                                  67           67   \n",
       "access-control-sscp                                   45           45   \n",
       "accounting-analytics                                 468          468   \n",
       "accounting-data-analytics-python                       8            8   \n",
       "actualizacion-manejo-diabetes-tipo-2                 253          253   \n",
       "...                                                  ...          ...   \n",
       "womens-health-human-rights                           242          242   \n",
       "write-a-feature-length-screenplay-for-film-or-t...    32           32   \n",
       "write-your-first-novel                                20           20   \n",
       "writing-editing-words                                105          105   \n",
       "writing-for-business                                 811          811   \n",
       "\n",
       "                                                    reviews  reviewers  \\\n",
       "course_id                                                                \n",
       "aboriginal-education                                     67         67   \n",
       "access-control-sscp                                      45         45   \n",
       "accounting-analytics                                    468        468   \n",
       "accounting-data-analytics-python                          8          8   \n",
       "actualizacion-manejo-diabetes-tipo-2                    253        253   \n",
       "...                                                     ...        ...   \n",
       "womens-health-human-rights                              242        242   \n",
       "write-a-feature-length-screenplay-for-film-or-t...       32         32   \n",
       "write-your-first-novel                                   20         20   \n",
       "writing-editing-words                                   105        105   \n",
       "writing-for-business                                    811        811   \n",
       "\n",
       "                                                    date_reviews  rating  \n",
       "course_id                                                                 \n",
       "aboriginal-education                                          67      67  \n",
       "access-control-sscp                                           45      45  \n",
       "accounting-analytics                                         468     468  \n",
       "accounting-data-analytics-python                               8       8  \n",
       "actualizacion-manejo-diabetes-tipo-2                         253     253  \n",
       "...                                                          ...     ...  \n",
       "womens-health-human-rights                                   242     242  \n",
       "write-a-feature-length-screenplay-for-film-or-t...            32      32  \n",
       "write-your-first-novel                                        20      20  \n",
       "writing-editing-words                                        105     105  \n",
       "writing-for-business                                         811     811  \n",
       "\n",
       "[604 rows x 6 columns]"
      ]
     },
     "execution_count": 177,
     "metadata": {},
     "output_type": "execute_result"
    }
   ],
   "source": [
    "a"
   ]
  },
  {
   "attachments": {},
   "cell_type": "markdown",
   "metadata": {},
   "source": [
    "Suponiendo que al final de cada curso se le pide de forma obligatoria a los alumnos que den una review, puedo estimar de forma bastante insesgada que la cantidad de reviewers de cada curso son quienes lo tomaron.\n",
    "Paso seguido, añado la columna 'ventas_q' a df_co y le ingesto los datos de la columna reviewers del df de apoyo a."
   ]
  },
  {
   "cell_type": "code",
   "execution_count": 178,
   "metadata": {},
   "outputs": [],
   "source": [
    "df_co = df_co.merge(a['reviewers'], on = 'course_id' , how='right')"
   ]
  },
  {
   "cell_type": "code",
   "execution_count": 179,
   "metadata": {},
   "outputs": [
    {
     "data": {
      "text/html": [
       "<div>\n",
       "<style scoped>\n",
       "    .dataframe tbody tr th:only-of-type {\n",
       "        vertical-align: middle;\n",
       "    }\n",
       "\n",
       "    .dataframe tbody tr th {\n",
       "        vertical-align: top;\n",
       "    }\n",
       "\n",
       "    .dataframe thead th {\n",
       "        text-align: right;\n",
       "    }\n",
       "</style>\n",
       "<table border=\"1\" class=\"dataframe\">\n",
       "  <thead>\n",
       "    <tr style=\"text-align: right;\">\n",
       "      <th></th>\n",
       "      <th>name</th>\n",
       "      <th>institution</th>\n",
       "      <th>course_id</th>\n",
       "      <th>reviews</th>\n",
       "      <th>reviewers_x</th>\n",
       "      <th>date_reviews</th>\n",
       "      <th>rating</th>\n",
       "      <th>reviewers_y</th>\n",
       "    </tr>\n",
       "  </thead>\n",
       "  <tbody>\n",
       "    <tr>\n",
       "      <th>0</th>\n",
       "      <td>Aboriginal Worldviews and Education</td>\n",
       "      <td>University of Toronto</td>\n",
       "      <td>aboriginal-education</td>\n",
       "      <td>This course has great intentions and decent co...</td>\n",
       "      <td>By Colton W</td>\n",
       "      <td>May 22, 2020</td>\n",
       "      <td>1</td>\n",
       "      <td>67</td>\n",
       "    </tr>\n",
       "    <tr>\n",
       "      <th>1</th>\n",
       "      <td>Aboriginal Worldviews and Education</td>\n",
       "      <td>University of Toronto</td>\n",
       "      <td>aboriginal-education</td>\n",
       "      <td>This course is outdated, material needs to be ...</td>\n",
       "      <td>By Kinusan D S</td>\n",
       "      <td>May 07, 2019</td>\n",
       "      <td>2</td>\n",
       "      <td>67</td>\n",
       "    </tr>\n",
       "    <tr>\n",
       "      <th>2</th>\n",
       "      <td>Aboriginal Worldviews and Education</td>\n",
       "      <td>University of Toronto</td>\n",
       "      <td>aboriginal-education</td>\n",
       "      <td>This course is quite short and does not includ...</td>\n",
       "      <td>By Colleen T</td>\n",
       "      <td>Jun 03, 2020</td>\n",
       "      <td>2</td>\n",
       "      <td>67</td>\n",
       "    </tr>\n",
       "    <tr>\n",
       "      <th>3</th>\n",
       "      <td>Aboriginal Worldviews and Education</td>\n",
       "      <td>University of Toronto</td>\n",
       "      <td>aboriginal-education</td>\n",
       "      <td>Very dry and boring class for aboriginal studi...</td>\n",
       "      <td>By Jonathan G</td>\n",
       "      <td>Dec 15, 2019</td>\n",
       "      <td>2</td>\n",
       "      <td>67</td>\n",
       "    </tr>\n",
       "    <tr>\n",
       "      <th>4</th>\n",
       "      <td>Aboriginal Worldviews and Education</td>\n",
       "      <td>University of Toronto</td>\n",
       "      <td>aboriginal-education</td>\n",
       "      <td>The information presented in the course was gr...</td>\n",
       "      <td>By Val H</td>\n",
       "      <td>Jul 01, 2017</td>\n",
       "      <td>3</td>\n",
       "      <td>67</td>\n",
       "    </tr>\n",
       "  </tbody>\n",
       "</table>\n",
       "</div>"
      ],
      "text/plain": [
       "                                  name            institution  \\\n",
       "0  Aboriginal Worldviews and Education  University of Toronto   \n",
       "1  Aboriginal Worldviews and Education  University of Toronto   \n",
       "2  Aboriginal Worldviews and Education  University of Toronto   \n",
       "3  Aboriginal Worldviews and Education  University of Toronto   \n",
       "4  Aboriginal Worldviews and Education  University of Toronto   \n",
       "\n",
       "              course_id                                            reviews  \\\n",
       "0  aboriginal-education  This course has great intentions and decent co...   \n",
       "1  aboriginal-education  This course is outdated, material needs to be ...   \n",
       "2  aboriginal-education  This course is quite short and does not includ...   \n",
       "3  aboriginal-education  Very dry and boring class for aboriginal studi...   \n",
       "4  aboriginal-education  The information presented in the course was gr...   \n",
       "\n",
       "      reviewers_x  date_reviews  rating  reviewers_y  \n",
       "0     By Colton W  May 22, 2020       1           67  \n",
       "1  By Kinusan D S  May 07, 2019       2           67  \n",
       "2    By Colleen T  Jun 03, 2020       2           67  \n",
       "3   By Jonathan G  Dec 15, 2019       2           67  \n",
       "4        By Val H  Jul 01, 2017       3           67  "
      ]
     },
     "execution_count": 179,
     "metadata": {},
     "output_type": "execute_result"
    }
   ],
   "source": [
    "df_co.head()"
   ]
  },
  {
   "cell_type": "code",
   "execution_count": 180,
   "metadata": {},
   "outputs": [
    {
     "data": {
      "text/plain": [
       "(519928, 8)"
      ]
     },
     "execution_count": 180,
     "metadata": {},
     "output_type": "execute_result"
    }
   ],
   "source": [
    "df_co.shape"
   ]
  },
  {
   "cell_type": "code",
   "execution_count": 181,
   "metadata": {},
   "outputs": [],
   "source": [
    "df_co.rename(str.lower, axis='columns')\n",
    "df_co.rename(columns={\"name\": \"nombre\", \"institution\": \"institucion\", \"reviewers_x\": \"estudiante\", \"reviewers_y\": \"ventas_q\"}, inplace=True)"
   ]
  },
  {
   "attachments": {},
   "cell_type": "markdown",
   "metadata": {},
   "source": [
    "Extraeré del campo date_reviews, el año y el mes de finalización del curso."
   ]
  },
  {
   "cell_type": "code",
   "execution_count": 182,
   "metadata": {},
   "outputs": [],
   "source": [
    "# Primero convierto el campo a un formato datetime\n",
    "df_co['date_reviews'] = pd.to_datetime(df_co['date_reviews'])"
   ]
  },
  {
   "cell_type": "code",
   "execution_count": 183,
   "metadata": {},
   "outputs": [],
   "source": [
    "# Hago las modificaciones creando los campos anio y mes\n",
    "df_co['anio'] = df_co['date_reviews'].dt.year\n",
    "df_co['mes'] = df_co['date_reviews'].dt.month_name(locale='Spanish')"
   ]
  },
  {
   "cell_type": "code",
   "execution_count": 184,
   "metadata": {},
   "outputs": [],
   "source": [
    "# Utilizada la información de la columna, procedo a eliminarla junto a 'course_id' y 'reviews' que tampoco la necesito más.\n",
    "\n",
    "df_co.drop(['date_reviews','course_id','reviews'], axis=1, inplace=True)"
   ]
  },
  {
   "attachments": {},
   "cell_type": "markdown",
   "metadata": {},
   "source": [
    "Detección de Outliers sobre los campos numéricos."
   ]
  },
  {
   "cell_type": "code",
   "execution_count": 185,
   "metadata": {},
   "outputs": [
    {
     "data": {
      "text/plain": [
       "<AxesSubplot: xlabel='rating'>"
      ]
     },
     "execution_count": 185,
     "metadata": {},
     "output_type": "execute_result"
    },
    {
     "data": {
      "image/png": "[encoded data removed]",
      "text/plain": [
       "<Figure size 640x480 with 1 Axes>"
      ]
     },
     "metadata": {},
     "output_type": "display_data"
    }
   ],
   "source": [
    "# Grafico a variable rating. Confirmamos que está en óptimas condiciones.\n",
    "\n",
    "sns.boxplot(x=\"rating\", data=df_co)"
   ]
  },
  {
   "cell_type": "code",
   "execution_count": 186,
   "metadata": {},
   "outputs": [
    {
     "data": {
      "text/plain": [
       "<AxesSubplot: xlabel='ventas_q'>"
      ]
     },
     "execution_count": 186,
     "metadata": {},
     "output_type": "execute_result"
    },
    {
     "data": {
      "image/png": "[encoded data removed]",
      "text/plain": [
       "<Figure size 640x480 with 1 Axes>"
      ]
     },
     "metadata": {},
     "output_type": "display_data"
    }
   ],
   "source": [
    "# Grafico a variable ventas_q.\n",
    "\n",
    "sns.boxplot(x=\"ventas_q\", data=df_co)"
   ]
  },
  {
   "cell_type": "code",
   "execution_count": 187,
   "metadata": {},
   "outputs": [],
   "source": [
    "#Finalmente creo una columna que identifique que todos estos registros pertenecen a la plataforma coursera.\n",
    "\n",
    "df_co['plataforma'] = 'coursera'"
   ]
  },
  {
   "cell_type": "code",
   "execution_count": 188,
   "metadata": {},
   "outputs": [
    {
     "data": {
      "text/html": [
       "<div>\n",
       "<style scoped>\n",
       "    .dataframe tbody tr th:only-of-type {\n",
       "        vertical-align: middle;\n",
       "    }\n",
       "\n",
       "    .dataframe tbody tr th {\n",
       "        vertical-align: top;\n",
       "    }\n",
       "\n",
       "    .dataframe thead th {\n",
       "        text-align: right;\n",
       "    }\n",
       "</style>\n",
       "<table border=\"1\" class=\"dataframe\">\n",
       "  <thead>\n",
       "    <tr style=\"text-align: right;\">\n",
       "      <th></th>\n",
       "      <th>nombre</th>\n",
       "      <th>institucion</th>\n",
       "      <th>estudiante</th>\n",
       "      <th>rating</th>\n",
       "      <th>ventas_q</th>\n",
       "      <th>anio</th>\n",
       "      <th>mes</th>\n",
       "      <th>plataforma</th>\n",
       "    </tr>\n",
       "  </thead>\n",
       "  <tbody>\n",
       "    <tr>\n",
       "      <th>0</th>\n",
       "      <td>Aboriginal Worldviews and Education</td>\n",
       "      <td>University of Toronto</td>\n",
       "      <td>By Colton W</td>\n",
       "      <td>1</td>\n",
       "      <td>67</td>\n",
       "      <td>2020</td>\n",
       "      <td>Mayo</td>\n",
       "      <td>coursera</td>\n",
       "    </tr>\n",
       "    <tr>\n",
       "      <th>1</th>\n",
       "      <td>Aboriginal Worldviews and Education</td>\n",
       "      <td>University of Toronto</td>\n",
       "      <td>By Kinusan D S</td>\n",
       "      <td>2</td>\n",
       "      <td>67</td>\n",
       "      <td>2019</td>\n",
       "      <td>Mayo</td>\n",
       "      <td>coursera</td>\n",
       "    </tr>\n",
       "    <tr>\n",
       "      <th>2</th>\n",
       "      <td>Aboriginal Worldviews and Education</td>\n",
       "      <td>University of Toronto</td>\n",
       "      <td>By Colleen T</td>\n",
       "      <td>2</td>\n",
       "      <td>67</td>\n",
       "      <td>2020</td>\n",
       "      <td>Junio</td>\n",
       "      <td>coursera</td>\n",
       "    </tr>\n",
       "    <tr>\n",
       "      <th>3</th>\n",
       "      <td>Aboriginal Worldviews and Education</td>\n",
       "      <td>University of Toronto</td>\n",
       "      <td>By Jonathan G</td>\n",
       "      <td>2</td>\n",
       "      <td>67</td>\n",
       "      <td>2019</td>\n",
       "      <td>Diciembre</td>\n",
       "      <td>coursera</td>\n",
       "    </tr>\n",
       "    <tr>\n",
       "      <th>4</th>\n",
       "      <td>Aboriginal Worldviews and Education</td>\n",
       "      <td>University of Toronto</td>\n",
       "      <td>By Val H</td>\n",
       "      <td>3</td>\n",
       "      <td>67</td>\n",
       "      <td>2017</td>\n",
       "      <td>Julio</td>\n",
       "      <td>coursera</td>\n",
       "    </tr>\n",
       "  </tbody>\n",
       "</table>\n",
       "</div>"
      ],
      "text/plain": [
       "                                nombre            institucion      estudiante  \\\n",
       "0  Aboriginal Worldviews and Education  University of Toronto     By Colton W   \n",
       "1  Aboriginal Worldviews and Education  University of Toronto  By Kinusan D S   \n",
       "2  Aboriginal Worldviews and Education  University of Toronto    By Colleen T   \n",
       "3  Aboriginal Worldviews and Education  University of Toronto   By Jonathan G   \n",
       "4  Aboriginal Worldviews and Education  University of Toronto        By Val H   \n",
       "\n",
       "   rating  ventas_q  anio        mes plataforma  \n",
       "0       1        67  2020       Mayo   coursera  \n",
       "1       2        67  2019       Mayo   coursera  \n",
       "2       2        67  2020      Junio   coursera  \n",
       "3       2        67  2019  Diciembre   coursera  \n",
       "4       3        67  2017      Julio   coursera  "
      ]
     },
     "execution_count": 188,
     "metadata": {},
     "output_type": "execute_result"
    }
   ],
   "source": [
    "# Chequeo que se hayan implementado todos los cambios.\n",
    "df_co.head()"
   ]
  },
  {
   "cell_type": "markdown",
   "metadata": {},
   "source": []
  },
  {
   "attachments": {},
   "cell_type": "markdown",
   "metadata": {},
   "source": [
    "***"
   ]
  },
  {
   "cell_type": "markdown",
   "metadata": {},
   "source": []
  },
  {
   "attachments": {},
   "cell_type": "markdown",
   "metadata": {},
   "source": [
    "#### 2) *EDX*"
   ]
  },
  {
   "cell_type": "code",
   "execution_count": 189,
   "metadata": {},
   "outputs": [
    {
     "data": {
      "text/html": [
       "<div>\n",
       "<style scoped>\n",
       "    .dataframe tbody tr th:only-of-type {\n",
       "        vertical-align: middle;\n",
       "    }\n",
       "\n",
       "    .dataframe tbody tr th {\n",
       "        vertical-align: top;\n",
       "    }\n",
       "\n",
       "    .dataframe thead th {\n",
       "        text-align: right;\n",
       "    }\n",
       "</style>\n",
       "<table border=\"1\" class=\"dataframe\">\n",
       "  <thead>\n",
       "    <tr style=\"text-align: right;\">\n",
       "      <th></th>\n",
       "      <th>title</th>\n",
       "      <th>summary</th>\n",
       "      <th>n_enrolled</th>\n",
       "      <th>course_type</th>\n",
       "      <th>institution</th>\n",
       "      <th>instructors</th>\n",
       "      <th>Level</th>\n",
       "      <th>subject</th>\n",
       "      <th>language</th>\n",
       "      <th>subtitles</th>\n",
       "      <th>course_effort</th>\n",
       "      <th>course_length</th>\n",
       "      <th>price</th>\n",
       "      <th>course_description</th>\n",
       "      <th>course_syllabus</th>\n",
       "      <th>course_url</th>\n",
       "    </tr>\n",
       "  </thead>\n",
       "  <tbody>\n",
       "    <tr>\n",
       "      <th>0</th>\n",
       "      <td>How to Learn Online</td>\n",
       "      <td>Learn essential strategies for successful onli...</td>\n",
       "      <td>124,980</td>\n",
       "      <td>Self-paced on your time</td>\n",
       "      <td>edX</td>\n",
       "      <td>Nina Huntemann-Robyn Belair-Ben Piscopo</td>\n",
       "      <td>Introductory</td>\n",
       "      <td>Education &amp; Teacher Training</td>\n",
       "      <td>English</td>\n",
       "      <td>English</td>\n",
       "      <td>2–3 hours per week</td>\n",
       "      <td>2 Weeks</td>\n",
       "      <td>FREE-Add a Verified Certificate for $49 USD</td>\n",
       "      <td>Designed for those who are new to elearning, t...</td>\n",
       "      <td>Welcome - We start with opportunities to meet ...</td>\n",
       "      <td>https://www.edx.org/course/how-to-learn-online</td>\n",
       "    </tr>\n",
       "    <tr>\n",
       "      <th>1</th>\n",
       "      <td>Programming for Everybody (Getting Started wit...</td>\n",
       "      <td>This course is a \"no prerequisite\" introductio...</td>\n",
       "      <td>293,864</td>\n",
       "      <td>Self-paced on your time</td>\n",
       "      <td>The University of Michigan</td>\n",
       "      <td>Charles Severance</td>\n",
       "      <td>Introductory</td>\n",
       "      <td>Computer Science</td>\n",
       "      <td>English</td>\n",
       "      <td>English</td>\n",
       "      <td>2–4 hours per week</td>\n",
       "      <td>7 Weeks</td>\n",
       "      <td>FREE-Add a Verified Certificate for $49 USD</td>\n",
       "      <td>This course aims to teach everyone the basics ...</td>\n",
       "      <td>NaN</td>\n",
       "      <td>https://www.edx.org/course/programming-for-eve...</td>\n",
       "    </tr>\n",
       "  </tbody>\n",
       "</table>\n",
       "</div>"
      ],
      "text/plain": [
       "                                               title  \\\n",
       "0                                How to Learn Online   \n",
       "1  Programming for Everybody (Getting Started wit...   \n",
       "\n",
       "                                             summary n_enrolled  \\\n",
       "0  Learn essential strategies for successful onli...    124,980   \n",
       "1  This course is a \"no prerequisite\" introductio...    293,864   \n",
       "\n",
       "               course_type                 institution  \\\n",
       "0  Self-paced on your time                         edX   \n",
       "1  Self-paced on your time  The University of Michigan   \n",
       "\n",
       "                               instructors         Level  \\\n",
       "0  Nina Huntemann-Robyn Belair-Ben Piscopo  Introductory   \n",
       "1                        Charles Severance  Introductory   \n",
       "\n",
       "                        subject language subtitles       course_effort  \\\n",
       "0  Education & Teacher Training  English   English  2–3 hours per week   \n",
       "1              Computer Science  English   English  2–4 hours per week   \n",
       "\n",
       "  course_length                                        price  \\\n",
       "0       2 Weeks  FREE-Add a Verified Certificate for $49 USD   \n",
       "1       7 Weeks  FREE-Add a Verified Certificate for $49 USD   \n",
       "\n",
       "                                  course_description  \\\n",
       "0  Designed for those who are new to elearning, t...   \n",
       "1  This course aims to teach everyone the basics ...   \n",
       "\n",
       "                                     course_syllabus  \\\n",
       "0  Welcome - We start with opportunities to meet ...   \n",
       "1                                                NaN   \n",
       "\n",
       "                                          course_url  \n",
       "0     https://www.edx.org/course/how-to-learn-online  \n",
       "1  https://www.edx.org/course/programming-for-eve...  "
      ]
     },
     "execution_count": 189,
     "metadata": {},
     "output_type": "execute_result"
    }
   ],
   "source": [
    "df_ec.head(2)"
   ]
  },
  {
   "cell_type": "code",
   "execution_count": 190,
   "metadata": {},
   "outputs": [
    {
     "data": {
      "text/plain": [
       "title                                               How to Learn Online\n",
       "summary               Learn essential strategies for successful onli...\n",
       "n_enrolled                                                      124,980\n",
       "course_type                                     Self-paced on your time\n",
       "institution                                                         edX\n",
       "instructors                     Nina Huntemann-Robyn Belair-Ben Piscopo\n",
       "Level                                                      Introductory\n",
       "subject                                    Education & Teacher Training\n",
       "language                                                        English\n",
       "subtitles                                                       English\n",
       "course_effort                                        2–3 hours per week\n",
       "course_length                                                   2 Weeks\n",
       "price                       FREE-Add a Verified Certificate for $49 USD\n",
       "course_description    Designed for those who are new to elearning, t...\n",
       "course_syllabus       Welcome - We start with opportunities to meet ...\n",
       "course_url               https://www.edx.org/course/how-to-learn-online\n",
       "Name: 0, dtype: object"
      ]
     },
     "execution_count": 190,
     "metadata": {},
     "output_type": "execute_result"
    }
   ],
   "source": [
    "df_ec.loc[0]"
   ]
  },
  {
   "cell_type": "code",
   "execution_count": 191,
   "metadata": {},
   "outputs": [],
   "source": [
    "df_ec.rename(columns={\"title\": \"nombre\", \"n_enrolled\": \"ventas_q\", \"course_type\":\"formato\", \"subject\": \"tema\", \"Level\":\"nivel\", \"course_effort\":\"hs_semana\" , \"course_length\":\"semanas\", \"price\":\"precio\",  \"language\": \"idioma\", \"institution\": \"institucion\"}, inplace=True)"
   ]
  },
  {
   "cell_type": "code",
   "execution_count": 192,
   "metadata": {},
   "outputs": [],
   "source": [
    "# Elimino las columnas innecesarias.\n",
    "\n",
    "df_ec.drop(['course_url', \"summary\", \"course_description\", \"course_syllabus\", \"instructors\",  \"subtitles\"], axis=1, inplace=True)"
   ]
  },
  {
   "cell_type": "code",
   "execution_count": 193,
   "metadata": {},
   "outputs": [
    {
     "data": {
      "text/html": [
       "<div>\n",
       "<style scoped>\n",
       "    .dataframe tbody tr th:only-of-type {\n",
       "        vertical-align: middle;\n",
       "    }\n",
       "\n",
       "    .dataframe tbody tr th {\n",
       "        vertical-align: top;\n",
       "    }\n",
       "\n",
       "    .dataframe thead th {\n",
       "        text-align: right;\n",
       "    }\n",
       "</style>\n",
       "<table border=\"1\" class=\"dataframe\">\n",
       "  <thead>\n",
       "    <tr style=\"text-align: right;\">\n",
       "      <th></th>\n",
       "      <th>nombre</th>\n",
       "      <th>ventas_q</th>\n",
       "      <th>formato</th>\n",
       "      <th>institucion</th>\n",
       "      <th>nivel</th>\n",
       "      <th>tema</th>\n",
       "      <th>idioma</th>\n",
       "      <th>hs_semana</th>\n",
       "      <th>semanas</th>\n",
       "      <th>precio</th>\n",
       "    </tr>\n",
       "  </thead>\n",
       "  <tbody>\n",
       "    <tr>\n",
       "      <th>count</th>\n",
       "      <td>975</td>\n",
       "      <td>855</td>\n",
       "      <td>975</td>\n",
       "      <td>975</td>\n",
       "      <td>975</td>\n",
       "      <td>975</td>\n",
       "      <td>975</td>\n",
       "      <td>975</td>\n",
       "      <td>975</td>\n",
       "      <td>975</td>\n",
       "    </tr>\n",
       "    <tr>\n",
       "      <th>unique</th>\n",
       "      <td>972</td>\n",
       "      <td>849</td>\n",
       "      <td>2</td>\n",
       "      <td>111</td>\n",
       "      <td>3</td>\n",
       "      <td>31</td>\n",
       "      <td>9</td>\n",
       "      <td>53</td>\n",
       "      <td>18</td>\n",
       "      <td>47</td>\n",
       "    </tr>\n",
       "    <tr>\n",
       "      <th>top</th>\n",
       "      <td>Introduction to Probability</td>\n",
       "      <td>97,291</td>\n",
       "      <td>Self-paced on your time</td>\n",
       "      <td>Harvard University</td>\n",
       "      <td>Introductory</td>\n",
       "      <td>Computer Science</td>\n",
       "      <td>English</td>\n",
       "      <td>2–4 hours per week</td>\n",
       "      <td>4 Weeks</td>\n",
       "      <td>FREE-Add a Verified Certificate for $49 USD</td>\n",
       "    </tr>\n",
       "    <tr>\n",
       "      <th>freq</th>\n",
       "      <td>2</td>\n",
       "      <td>2</td>\n",
       "      <td>917</td>\n",
       "      <td>104</td>\n",
       "      <td>621</td>\n",
       "      <td>166</td>\n",
       "      <td>777</td>\n",
       "      <td>108</td>\n",
       "      <td>194</td>\n",
       "      <td>270</td>\n",
       "    </tr>\n",
       "  </tbody>\n",
       "</table>\n",
       "</div>"
      ],
      "text/plain": [
       "                             nombre ventas_q                  formato  \\\n",
       "count                           975      855                      975   \n",
       "unique                          972      849                        2   \n",
       "top     Introduction to Probability   97,291  Self-paced on your time   \n",
       "freq                              2        2                      917   \n",
       "\n",
       "               institucion         nivel              tema   idioma  \\\n",
       "count                  975           975               975      975   \n",
       "unique                 111             3                31        9   \n",
       "top     Harvard University  Introductory  Computer Science  English   \n",
       "freq                   104           621               166      777   \n",
       "\n",
       "                 hs_semana  semanas  \\\n",
       "count                  975      975   \n",
       "unique                  53       18   \n",
       "top     2–4 hours per week  4 Weeks   \n",
       "freq                   108      194   \n",
       "\n",
       "                                             precio  \n",
       "count                                           975  \n",
       "unique                                           47  \n",
       "top     FREE-Add a Verified Certificate for $49 USD  \n",
       "freq                                            270  "
      ]
     },
     "execution_count": 193,
     "metadata": {},
     "output_type": "execute_result"
    }
   ],
   "source": [
    "df_ec.describe()"
   ]
  },
  {
   "cell_type": "code",
   "execution_count": 194,
   "metadata": {},
   "outputs": [
    {
     "data": {
      "text/plain": [
       "3"
      ]
     },
     "execution_count": 194,
     "metadata": {},
     "output_type": "execute_result"
    }
   ],
   "source": [
    "# Voy a chequear por registros duplicados\n",
    "\n",
    "df_ec['nombre'].duplicated().sum()"
   ]
  },
  {
   "cell_type": "code",
   "execution_count": 195,
   "metadata": {},
   "outputs": [
    {
     "data": {
      "text/html": [
       "<div>\n",
       "<style scoped>\n",
       "    .dataframe tbody tr th:only-of-type {\n",
       "        vertical-align: middle;\n",
       "    }\n",
       "\n",
       "    .dataframe tbody tr th {\n",
       "        vertical-align: top;\n",
       "    }\n",
       "\n",
       "    .dataframe thead th {\n",
       "        text-align: right;\n",
       "    }\n",
       "</style>\n",
       "<table border=\"1\" class=\"dataframe\">\n",
       "  <thead>\n",
       "    <tr style=\"text-align: right;\">\n",
       "      <th></th>\n",
       "      <th>nombre</th>\n",
       "      <th>ventas_q</th>\n",
       "      <th>formato</th>\n",
       "      <th>institucion</th>\n",
       "      <th>nivel</th>\n",
       "      <th>tema</th>\n",
       "      <th>idioma</th>\n",
       "      <th>hs_semana</th>\n",
       "      <th>semanas</th>\n",
       "      <th>precio</th>\n",
       "    </tr>\n",
       "  </thead>\n",
       "  <tbody>\n",
       "    <tr>\n",
       "      <th>161</th>\n",
       "      <td>Introduction to Marketing</td>\n",
       "      <td>169,126</td>\n",
       "      <td>Self-paced on your time</td>\n",
       "      <td>University of British Columbia</td>\n",
       "      <td>Introductory</td>\n",
       "      <td>Business &amp; Management</td>\n",
       "      <td>English</td>\n",
       "      <td>3–5 hours per week</td>\n",
       "      <td>6 Weeks</td>\n",
       "      <td>FREE-Add a Verified Certificate for $150 USD</td>\n",
       "    </tr>\n",
       "    <tr>\n",
       "      <th>561</th>\n",
       "      <td>Introduction to Marketing</td>\n",
       "      <td>NaN</td>\n",
       "      <td>Self-paced on your time</td>\n",
       "      <td>The University of Edinburgh</td>\n",
       "      <td>Introductory</td>\n",
       "      <td>Business &amp; Management</td>\n",
       "      <td>English</td>\n",
       "      <td>2–3 hours per week</td>\n",
       "      <td>6 Weeks</td>\n",
       "      <td>FREE-Add a Verified Certificate for $149 USD</td>\n",
       "    </tr>\n",
       "    <tr>\n",
       "      <th>59</th>\n",
       "      <td>Introduction to Probability</td>\n",
       "      <td>97,291</td>\n",
       "      <td>Self-paced on your time</td>\n",
       "      <td>Harvard University</td>\n",
       "      <td>Intermediate</td>\n",
       "      <td>Data Analysis &amp; Statistics</td>\n",
       "      <td>English</td>\n",
       "      <td>5–10 hours per week</td>\n",
       "      <td>10 Weeks</td>\n",
       "      <td>FREE-Add a Verified Certificate for $99 USD</td>\n",
       "    </tr>\n",
       "    <tr>\n",
       "      <th>95</th>\n",
       "      <td>Introduction to Probability</td>\n",
       "      <td>97,291</td>\n",
       "      <td>Self-paced on your time</td>\n",
       "      <td>Harvard University</td>\n",
       "      <td>Intermediate</td>\n",
       "      <td>Data Analysis &amp; Statistics</td>\n",
       "      <td>English</td>\n",
       "      <td>5–10 hours per week</td>\n",
       "      <td>10 Weeks</td>\n",
       "      <td>FREE-Add a Verified Certificate for $99 USD</td>\n",
       "    </tr>\n",
       "    <tr>\n",
       "      <th>159</th>\n",
       "      <td>Marketing Management</td>\n",
       "      <td>80,010</td>\n",
       "      <td>Self-paced on your time</td>\n",
       "      <td>Indian Institute of Management Bangalore</td>\n",
       "      <td>Intermediate</td>\n",
       "      <td>Business &amp; Management</td>\n",
       "      <td>English</td>\n",
       "      <td>2–4 hours per week</td>\n",
       "      <td>9 Weeks</td>\n",
       "      <td>FREE-Add a Verified Certificate for $150 USD</td>\n",
       "    </tr>\n",
       "    <tr>\n",
       "      <th>388</th>\n",
       "      <td>Marketing Management</td>\n",
       "      <td>43,415</td>\n",
       "      <td>Instructor-led on a course schedule</td>\n",
       "      <td>The University of Maryland, College Park-Unive...</td>\n",
       "      <td>Advanced</td>\n",
       "      <td>Business &amp; Management</td>\n",
       "      <td>English</td>\n",
       "      <td>8–10 hours per week</td>\n",
       "      <td>7 Weeks</td>\n",
       "      <td>FREE-Add a Verified Certificate for $214 USD</td>\n",
       "    </tr>\n",
       "  </tbody>\n",
       "</table>\n",
       "</div>"
      ],
      "text/plain": [
       "                          nombre ventas_q  \\\n",
       "161    Introduction to Marketing  169,126   \n",
       "561    Introduction to Marketing      NaN   \n",
       "59   Introduction to Probability   97,291   \n",
       "95   Introduction to Probability   97,291   \n",
       "159         Marketing Management   80,010   \n",
       "388         Marketing Management   43,415   \n",
       "\n",
       "                                 formato  \\\n",
       "161              Self-paced on your time   \n",
       "561              Self-paced on your time   \n",
       "59               Self-paced on your time   \n",
       "95               Self-paced on your time   \n",
       "159              Self-paced on your time   \n",
       "388  Instructor-led on a course schedule   \n",
       "\n",
       "                                           institucion         nivel  \\\n",
       "161                     University of British Columbia  Introductory   \n",
       "561                        The University of Edinburgh  Introductory   \n",
       "59                                  Harvard University  Intermediate   \n",
       "95                                  Harvard University  Intermediate   \n",
       "159           Indian Institute of Management Bangalore  Intermediate   \n",
       "388  The University of Maryland, College Park-Unive...      Advanced   \n",
       "\n",
       "                           tema   idioma            hs_semana   semanas  \\\n",
       "161       Business & Management  English   3–5 hours per week   6 Weeks   \n",
       "561       Business & Management  English   2–3 hours per week   6 Weeks   \n",
       "59   Data Analysis & Statistics  English  5–10 hours per week  10 Weeks   \n",
       "95   Data Analysis & Statistics  English  5–10 hours per week  10 Weeks   \n",
       "159       Business & Management  English   2–4 hours per week   9 Weeks   \n",
       "388       Business & Management  English  8–10 hours per week   7 Weeks   \n",
       "\n",
       "                                           precio  \n",
       "161  FREE-Add a Verified Certificate for $150 USD  \n",
       "561  FREE-Add a Verified Certificate for $149 USD  \n",
       "59    FREE-Add a Verified Certificate for $99 USD  \n",
       "95    FREE-Add a Verified Certificate for $99 USD  \n",
       "159  FREE-Add a Verified Certificate for $150 USD  \n",
       "388  FREE-Add a Verified Certificate for $214 USD  "
      ]
     },
     "execution_count": 195,
     "metadata": {},
     "output_type": "execute_result"
    }
   ],
   "source": [
    "df_ec[df_ec['nombre'].duplicated(keep = False)].sort_values(by='nombre')"
   ]
  },
  {
   "attachments": {},
   "cell_type": "markdown",
   "metadata": {},
   "source": [
    "Veo que el único curso que está repetido es Introduction to probability. Los demás son versiones de diferentes universidades y niveles pero con el mismo nombre."
   ]
  },
  {
   "cell_type": "code",
   "execution_count": 196,
   "metadata": {},
   "outputs": [],
   "source": [
    "# Procedo a eliminarlo.\n",
    "\n",
    "df_ec.drop(95, inplace=True)"
   ]
  },
  {
   "cell_type": "code",
   "execution_count": 197,
   "metadata": {},
   "outputs": [
    {
     "data": {
      "text/plain": [
       "nombre           0\n",
       "ventas_q       120\n",
       "formato          0\n",
       "institucion      0\n",
       "nivel            0\n",
       "tema             0\n",
       "idioma           0\n",
       "hs_semana        0\n",
       "semanas          0\n",
       "precio           0\n",
       "dtype: int64"
      ]
     },
     "execution_count": 197,
     "metadata": {},
     "output_type": "execute_result"
    }
   ],
   "source": [
    "# Chequeo valores nulos\n",
    "df_ec.isnull().sum()"
   ]
  },
  {
   "attachments": {},
   "cell_type": "markdown",
   "metadata": {},
   "source": [
    "Decido pasar los nulos en la columna ventas_q como '0', lo cual implica que no hubieron asistentes al curso. Al no tener datos sobre reviewers o reviews en esta tabla, ni siquiera puedo estimar una cantidad."
   ]
  },
  {
   "cell_type": "code",
   "execution_count": 198,
   "metadata": {},
   "outputs": [],
   "source": [
    "df_ec['ventas_q'].fillna('0', inplace=True)"
   ]
  },
  {
   "attachments": {},
   "cell_type": "markdown",
   "metadata": {},
   "source": [
    "Operación sobre la columna precio."
   ]
  },
  {
   "cell_type": "code",
   "execution_count": 199,
   "metadata": {},
   "outputs": [],
   "source": [
    "# Extraigo el campo numérico de la columa precio que me otorga el guarismo que necesito, y lo reescribo sobre la columna 'price'.\n",
    "\n",
    "df_ec = df_ec.assign(precio = lambda x: x['precio'].str.extract('(\\d+)')) "
   ]
  },
  {
   "attachments": {},
   "cell_type": "markdown",
   "metadata": {},
   "source": [
    "Operación sobre la columa semanas."
   ]
  },
  {
   "cell_type": "code",
   "execution_count": 200,
   "metadata": {},
   "outputs": [],
   "source": [
    "# Idem sobre la columna semanas.\n",
    "\n",
    "df_ec = df_ec.assign(semanas = lambda x: x['semanas'].str.extract('(\\d+)')) "
   ]
  },
  {
   "attachments": {},
   "cell_type": "markdown",
   "metadata": {},
   "source": [
    "Operación sobre la columa hs/semana"
   ]
  },
  {
   "cell_type": "code",
   "execution_count": 201,
   "metadata": {},
   "outputs": [],
   "source": [
    "df_ec = df_ec.assign( hs_semana = lambda x: x['hs_semana'].str.extract('(\\d+)')) "
   ]
  },
  {
   "cell_type": "code",
   "execution_count": 202,
   "metadata": {},
   "outputs": [
    {
     "name": "stdout",
     "output_type": "stream",
     "text": [
      "<class 'str'>\n",
      "<class 'str'>\n"
     ]
    }
   ],
   "source": [
    "# Procedo a crear la columna 'duracion', calculada por las horas semanles multiplicadas por las semanas de duración del curso.\n",
    "# Para eso primero me sercioro de que los tipos de datos sean aptos para la operación.\n",
    "\n",
    "print(type(df_ec['semanas'][0]))\n",
    "print(type(df_ec['hs_semana'][0]))"
   ]
  },
  {
   "cell_type": "code",
   "execution_count": 203,
   "metadata": {},
   "outputs": [],
   "source": [
    "df_ec['hs_semana'] = df_ec['hs_semana'].astype('int')\n",
    "df_ec['semanas'] = df_ec['semanas'].astype('int')"
   ]
  },
  {
   "cell_type": "code",
   "execution_count": 204,
   "metadata": {},
   "outputs": [],
   "source": [
    "df_ec['duracion'] = df_ec['hs_semana'] * df_ec['semanas']"
   ]
  },
  {
   "cell_type": "code",
   "execution_count": 205,
   "metadata": {},
   "outputs": [
    {
     "data": {
      "text/html": [
       "<div>\n",
       "<style scoped>\n",
       "    .dataframe tbody tr th:only-of-type {\n",
       "        vertical-align: middle;\n",
       "    }\n",
       "\n",
       "    .dataframe tbody tr th {\n",
       "        vertical-align: top;\n",
       "    }\n",
       "\n",
       "    .dataframe thead th {\n",
       "        text-align: right;\n",
       "    }\n",
       "</style>\n",
       "<table border=\"1\" class=\"dataframe\">\n",
       "  <thead>\n",
       "    <tr style=\"text-align: right;\">\n",
       "      <th></th>\n",
       "      <th>nombre</th>\n",
       "      <th>ventas_q</th>\n",
       "      <th>formato</th>\n",
       "      <th>institucion</th>\n",
       "      <th>nivel</th>\n",
       "      <th>tema</th>\n",
       "      <th>idioma</th>\n",
       "      <th>hs_semana</th>\n",
       "      <th>semanas</th>\n",
       "      <th>precio</th>\n",
       "      <th>duracion</th>\n",
       "    </tr>\n",
       "  </thead>\n",
       "  <tbody>\n",
       "    <tr>\n",
       "      <th>0</th>\n",
       "      <td>How to Learn Online</td>\n",
       "      <td>124,980</td>\n",
       "      <td>Self-paced on your time</td>\n",
       "      <td>edX</td>\n",
       "      <td>Introductory</td>\n",
       "      <td>Education &amp; Teacher Training</td>\n",
       "      <td>English</td>\n",
       "      <td>2</td>\n",
       "      <td>2</td>\n",
       "      <td>49</td>\n",
       "      <td>4</td>\n",
       "    </tr>\n",
       "    <tr>\n",
       "      <th>1</th>\n",
       "      <td>Programming for Everybody (Getting Started wit...</td>\n",
       "      <td>293,864</td>\n",
       "      <td>Self-paced on your time</td>\n",
       "      <td>The University of Michigan</td>\n",
       "      <td>Introductory</td>\n",
       "      <td>Computer Science</td>\n",
       "      <td>English</td>\n",
       "      <td>2</td>\n",
       "      <td>7</td>\n",
       "      <td>49</td>\n",
       "      <td>14</td>\n",
       "    </tr>\n",
       "  </tbody>\n",
       "</table>\n",
       "</div>"
      ],
      "text/plain": [
       "                                              nombre ventas_q  \\\n",
       "0                                How to Learn Online  124,980   \n",
       "1  Programming for Everybody (Getting Started wit...  293,864   \n",
       "\n",
       "                   formato                 institucion         nivel  \\\n",
       "0  Self-paced on your time                         edX  Introductory   \n",
       "1  Self-paced on your time  The University of Michigan  Introductory   \n",
       "\n",
       "                           tema   idioma  hs_semana  semanas precio  duracion  \n",
       "0  Education & Teacher Training  English          2        2     49         4  \n",
       "1              Computer Science  English          2        7     49        14  "
      ]
     },
     "execution_count": 205,
     "metadata": {},
     "output_type": "execute_result"
    }
   ],
   "source": [
    "# Compruebo que las transformaciones están correctamemte realizadas.\n",
    "\n",
    "df_ec.head(2)"
   ]
  },
  {
   "cell_type": "code",
   "execution_count": 206,
   "metadata": {},
   "outputs": [],
   "source": [
    "# Elimino las columnas que utilicé para crear 'duracion'.\n",
    "\n",
    "df_ec.drop(['hs_semana', 'semanas'], axis=1, inplace=True)"
   ]
  },
  {
   "cell_type": "code",
   "execution_count": 207,
   "metadata": {},
   "outputs": [],
   "source": [
    "#Finalmente creo una columna que identifique que todos estos registros pertenecen a la plataforma edx.\n",
    "\n",
    "df_ec['plataforma'] = 'edx'"
   ]
  },
  {
   "cell_type": "code",
   "execution_count": 208,
   "metadata": {},
   "outputs": [
    {
     "data": {
      "text/html": [
       "<div>\n",
       "<style scoped>\n",
       "    .dataframe tbody tr th:only-of-type {\n",
       "        vertical-align: middle;\n",
       "    }\n",
       "\n",
       "    .dataframe tbody tr th {\n",
       "        vertical-align: top;\n",
       "    }\n",
       "\n",
       "    .dataframe thead th {\n",
       "        text-align: right;\n",
       "    }\n",
       "</style>\n",
       "<table border=\"1\" class=\"dataframe\">\n",
       "  <thead>\n",
       "    <tr style=\"text-align: right;\">\n",
       "      <th></th>\n",
       "      <th>nombre</th>\n",
       "      <th>ventas_q</th>\n",
       "      <th>formato</th>\n",
       "      <th>institucion</th>\n",
       "      <th>nivel</th>\n",
       "      <th>tema</th>\n",
       "      <th>idioma</th>\n",
       "      <th>precio</th>\n",
       "      <th>duracion</th>\n",
       "      <th>plataforma</th>\n",
       "    </tr>\n",
       "  </thead>\n",
       "  <tbody>\n",
       "    <tr>\n",
       "      <th>0</th>\n",
       "      <td>How to Learn Online</td>\n",
       "      <td>124,980</td>\n",
       "      <td>Self-paced on your time</td>\n",
       "      <td>edX</td>\n",
       "      <td>Introductory</td>\n",
       "      <td>Education &amp; Teacher Training</td>\n",
       "      <td>English</td>\n",
       "      <td>49</td>\n",
       "      <td>4</td>\n",
       "      <td>edx</td>\n",
       "    </tr>\n",
       "    <tr>\n",
       "      <th>1</th>\n",
       "      <td>Programming for Everybody (Getting Started wit...</td>\n",
       "      <td>293,864</td>\n",
       "      <td>Self-paced on your time</td>\n",
       "      <td>The University of Michigan</td>\n",
       "      <td>Introductory</td>\n",
       "      <td>Computer Science</td>\n",
       "      <td>English</td>\n",
       "      <td>49</td>\n",
       "      <td>14</td>\n",
       "      <td>edx</td>\n",
       "    </tr>\n",
       "  </tbody>\n",
       "</table>\n",
       "</div>"
      ],
      "text/plain": [
       "                                              nombre ventas_q  \\\n",
       "0                                How to Learn Online  124,980   \n",
       "1  Programming for Everybody (Getting Started wit...  293,864   \n",
       "\n",
       "                   formato                 institucion         nivel  \\\n",
       "0  Self-paced on your time                         edX  Introductory   \n",
       "1  Self-paced on your time  The University of Michigan  Introductory   \n",
       "\n",
       "                           tema   idioma precio  duracion plataforma  \n",
       "0  Education & Teacher Training  English     49         4        edx  \n",
       "1              Computer Science  English     49        14        edx  "
      ]
     },
     "execution_count": 208,
     "metadata": {},
     "output_type": "execute_result"
    }
   ],
   "source": [
    "df_ec.head(2)"
   ]
  },
  {
   "attachments": {},
   "cell_type": "markdown",
   "metadata": {},
   "source": [
    "Transformo las columas precio y ventas_q a formato numérico para poder trabajarlas."
   ]
  },
  {
   "cell_type": "code",
   "execution_count": 209,
   "metadata": {},
   "outputs": [],
   "source": [
    "#Cambio las comas por puntos y el tipo de variable.\n",
    "\n",
    "df_ec['precio'] = df_ec['precio'].str.replace(',','')\n",
    "df_ec['precio'] = df_ec['precio'].astype('int')\n"
   ]
  },
  {
   "cell_type": "code",
   "execution_count": 210,
   "metadata": {},
   "outputs": [
    {
     "data": {
      "text/plain": [
       "<AxesSubplot: xlabel='precio'>"
      ]
     },
     "execution_count": 210,
     "metadata": {},
     "output_type": "execute_result"
    },
    {
     "data": {
      "image/png": "[encoded data removed]",
      "text/plain": [
       "<Figure size 640x480 with 1 Axes>"
      ]
     },
     "metadata": {},
     "output_type": "display_data"
    }
   ],
   "source": [
    "# Chequeo la posible existencia de outliers.\n",
    "\n",
    "sns.boxplot(x ='precio', data = df_ec)"
   ]
  },
  {
   "cell_type": "code",
   "execution_count": 211,
   "metadata": {},
   "outputs": [],
   "source": [
    "#Cambio las comas por puntos y el tipo de variable.\n",
    "\n",
    "df_ec['ventas_q'] = df_ec['ventas_q'].str.replace(',','')\n",
    "df_ec['ventas_q'] = df_ec['ventas_q'].astype('int')"
   ]
  },
  {
   "cell_type": "code",
   "execution_count": 212,
   "metadata": {},
   "outputs": [
    {
     "data": {
      "text/plain": [
       "<AxesSubplot: xlabel='ventas_q'>"
      ]
     },
     "execution_count": 212,
     "metadata": {},
     "output_type": "execute_result"
    },
    {
     "data": {
      "image/png": "[encoded data removed]",
      "text/plain": [
       "<Figure size 640x480 with 1 Axes>"
      ]
     },
     "metadata": {},
     "output_type": "display_data"
    }
   ],
   "source": [
    "sns.boxplot(x=\"ventas_q\", data=df_ec)"
   ]
  },
  {
   "cell_type": "code",
   "execution_count": 213,
   "metadata": {},
   "outputs": [
    {
     "data": {
      "text/html": [
       "<div>\n",
       "<style scoped>\n",
       "    .dataframe tbody tr th:only-of-type {\n",
       "        vertical-align: middle;\n",
       "    }\n",
       "\n",
       "    .dataframe tbody tr th {\n",
       "        vertical-align: top;\n",
       "    }\n",
       "\n",
       "    .dataframe thead th {\n",
       "        text-align: right;\n",
       "    }\n",
       "</style>\n",
       "<table border=\"1\" class=\"dataframe\">\n",
       "  <thead>\n",
       "    <tr style=\"text-align: right;\">\n",
       "      <th></th>\n",
       "      <th>nombre</th>\n",
       "      <th>ventas_q</th>\n",
       "      <th>formato</th>\n",
       "      <th>institucion</th>\n",
       "      <th>nivel</th>\n",
       "      <th>tema</th>\n",
       "      <th>idioma</th>\n",
       "      <th>precio</th>\n",
       "      <th>duracion</th>\n",
       "      <th>plataforma</th>\n",
       "    </tr>\n",
       "  </thead>\n",
       "  <tbody>\n",
       "    <tr>\n",
       "      <th>2</th>\n",
       "      <td>CS50's Introduction to Computer Science</td>\n",
       "      <td>2442271</td>\n",
       "      <td>Self-paced on your time</td>\n",
       "      <td>Harvard University</td>\n",
       "      <td>Introductory</td>\n",
       "      <td>Computer Science</td>\n",
       "      <td>English</td>\n",
       "      <td>90</td>\n",
       "      <td>72</td>\n",
       "      <td>edx</td>\n",
       "    </tr>\n",
       "    <tr>\n",
       "      <th>29</th>\n",
       "      <td>IELTS Academic Test Preparation</td>\n",
       "      <td>1103777</td>\n",
       "      <td>Self-paced on your time</td>\n",
       "      <td>The University of Queensland</td>\n",
       "      <td>Introductory</td>\n",
       "      <td>Communication</td>\n",
       "      <td>English</td>\n",
       "      <td>99</td>\n",
       "      <td>40</td>\n",
       "      <td>edx</td>\n",
       "    </tr>\n",
       "    <tr>\n",
       "      <th>31</th>\n",
       "      <td>TOEFL® Test Preparation: The Insider’s Guide</td>\n",
       "      <td>1022489</td>\n",
       "      <td>Self-paced on your time</td>\n",
       "      <td>Educational Testing Service</td>\n",
       "      <td>Introductory</td>\n",
       "      <td>Communication</td>\n",
       "      <td>English</td>\n",
       "      <td>49</td>\n",
       "      <td>12</td>\n",
       "      <td>edx</td>\n",
       "    </tr>\n",
       "  </tbody>\n",
       "</table>\n",
       "</div>"
      ],
      "text/plain": [
       "                                          nombre  ventas_q  \\\n",
       "2        CS50's Introduction to Computer Science   2442271   \n",
       "29               IELTS Academic Test Preparation   1103777   \n",
       "31  TOEFL® Test Preparation: The Insider’s Guide   1022489   \n",
       "\n",
       "                    formato                   institucion         nivel  \\\n",
       "2   Self-paced on your time            Harvard University  Introductory   \n",
       "29  Self-paced on your time  The University of Queensland  Introductory   \n",
       "31  Self-paced on your time   Educational Testing Service  Introductory   \n",
       "\n",
       "                tema   idioma  precio  duracion plataforma  \n",
       "2   Computer Science  English      90        72        edx  \n",
       "29     Communication  English      99        40        edx  \n",
       "31     Communication  English      49        12        edx  "
      ]
     },
     "execution_count": 213,
     "metadata": {},
     "output_type": "execute_result"
    }
   ],
   "source": [
    "# Veo que hay algunos valores muy elevados, procedo a chequearlos y confirmo en la página de la empresa que efectivamente esos valores son correctos.\n",
    "\n",
    "df_ec[df_ec['ventas_q'] > 1000000]"
   ]
  },
  {
   "attachments": {},
   "cell_type": "markdown",
   "metadata": {},
   "source": [
    "Creo la columna ventas_usd, que me brindará la facturación de cada curso."
   ]
  },
  {
   "cell_type": "code",
   "execution_count": 214,
   "metadata": {},
   "outputs": [],
   "source": [
    "df_ec['ventas_usd'] = df_ec['ventas_q'] * df_ec['precio']"
   ]
  },
  {
   "cell_type": "code",
   "execution_count": 215,
   "metadata": {},
   "outputs": [
    {
     "data": {
      "text/plain": [
       "English          776\n",
       "Español          176\n",
       "Français           7\n",
       "Italiano           4\n",
       "中文                 4\n",
       "Português          4\n",
       "日本語                1\n",
       "اللغة العربية      1\n",
       "Deutsch            1\n",
       "Name: idioma, dtype: int64"
      ]
     },
     "execution_count": 215,
     "metadata": {},
     "output_type": "execute_result"
    }
   ],
   "source": [
    "df_ec['idioma'].value_counts()"
   ]
  },
  {
   "cell_type": "code",
   "execution_count": 216,
   "metadata": {},
   "outputs": [
    {
     "data": {
      "text/html": [
       "<div>\n",
       "<style scoped>\n",
       "    .dataframe tbody tr th:only-of-type {\n",
       "        vertical-align: middle;\n",
       "    }\n",
       "\n",
       "    .dataframe tbody tr th {\n",
       "        vertical-align: top;\n",
       "    }\n",
       "\n",
       "    .dataframe thead th {\n",
       "        text-align: right;\n",
       "    }\n",
       "</style>\n",
       "<table border=\"1\" class=\"dataframe\">\n",
       "  <thead>\n",
       "    <tr style=\"text-align: right;\">\n",
       "      <th></th>\n",
       "      <th>nombre</th>\n",
       "      <th>ventas_q</th>\n",
       "      <th>formato</th>\n",
       "      <th>institucion</th>\n",
       "      <th>nivel</th>\n",
       "      <th>tema</th>\n",
       "      <th>idioma</th>\n",
       "      <th>precio</th>\n",
       "      <th>duracion</th>\n",
       "      <th>plataforma</th>\n",
       "      <th>ventas_usd</th>\n",
       "    </tr>\n",
       "  </thead>\n",
       "  <tbody>\n",
       "    <tr>\n",
       "      <th>0</th>\n",
       "      <td>How to Learn Online</td>\n",
       "      <td>124980</td>\n",
       "      <td>Self-paced on your time</td>\n",
       "      <td>edX</td>\n",
       "      <td>Introductory</td>\n",
       "      <td>Education &amp; Teacher Training</td>\n",
       "      <td>English</td>\n",
       "      <td>49</td>\n",
       "      <td>4</td>\n",
       "      <td>edx</td>\n",
       "      <td>6124020</td>\n",
       "    </tr>\n",
       "    <tr>\n",
       "      <th>1</th>\n",
       "      <td>Programming for Everybody (Getting Started wit...</td>\n",
       "      <td>293864</td>\n",
       "      <td>Self-paced on your time</td>\n",
       "      <td>The University of Michigan</td>\n",
       "      <td>Introductory</td>\n",
       "      <td>Computer Science</td>\n",
       "      <td>English</td>\n",
       "      <td>49</td>\n",
       "      <td>14</td>\n",
       "      <td>edx</td>\n",
       "      <td>14399336</td>\n",
       "    </tr>\n",
       "    <tr>\n",
       "      <th>2</th>\n",
       "      <td>CS50's Introduction to Computer Science</td>\n",
       "      <td>2442271</td>\n",
       "      <td>Self-paced on your time</td>\n",
       "      <td>Harvard University</td>\n",
       "      <td>Introductory</td>\n",
       "      <td>Computer Science</td>\n",
       "      <td>English</td>\n",
       "      <td>90</td>\n",
       "      <td>72</td>\n",
       "      <td>edx</td>\n",
       "      <td>219804390</td>\n",
       "    </tr>\n",
       "    <tr>\n",
       "      <th>3</th>\n",
       "      <td>The Analytics Edge</td>\n",
       "      <td>129555</td>\n",
       "      <td>Instructor-led on a course schedule</td>\n",
       "      <td>Massachusetts Institute of Technology</td>\n",
       "      <td>Intermediate</td>\n",
       "      <td>Data Analysis &amp; Statistics</td>\n",
       "      <td>English</td>\n",
       "      <td>199</td>\n",
       "      <td>130</td>\n",
       "      <td>edx</td>\n",
       "      <td>25781445</td>\n",
       "    </tr>\n",
       "    <tr>\n",
       "      <th>4</th>\n",
       "      <td>Marketing Analytics: Marketing Measurement Str...</td>\n",
       "      <td>81140</td>\n",
       "      <td>Self-paced on your time</td>\n",
       "      <td>University of California, Berkeley</td>\n",
       "      <td>Introductory</td>\n",
       "      <td>Computer Science</td>\n",
       "      <td>English</td>\n",
       "      <td>249</td>\n",
       "      <td>20</td>\n",
       "      <td>edx</td>\n",
       "      <td>20203860</td>\n",
       "    </tr>\n",
       "  </tbody>\n",
       "</table>\n",
       "</div>"
      ],
      "text/plain": [
       "                                              nombre  ventas_q  \\\n",
       "0                                How to Learn Online    124980   \n",
       "1  Programming for Everybody (Getting Started wit...    293864   \n",
       "2            CS50's Introduction to Computer Science   2442271   \n",
       "3                                 The Analytics Edge    129555   \n",
       "4  Marketing Analytics: Marketing Measurement Str...     81140   \n",
       "\n",
       "                               formato                            institucion  \\\n",
       "0              Self-paced on your time                                    edX   \n",
       "1              Self-paced on your time             The University of Michigan   \n",
       "2              Self-paced on your time                     Harvard University   \n",
       "3  Instructor-led on a course schedule  Massachusetts Institute of Technology   \n",
       "4              Self-paced on your time     University of California, Berkeley   \n",
       "\n",
       "          nivel                          tema   idioma  precio  duracion  \\\n",
       "0  Introductory  Education & Teacher Training  English      49         4   \n",
       "1  Introductory              Computer Science  English      49        14   \n",
       "2  Introductory              Computer Science  English      90        72   \n",
       "3  Intermediate    Data Analysis & Statistics  English     199       130   \n",
       "4  Introductory              Computer Science  English     249        20   \n",
       "\n",
       "  plataforma  ventas_usd  \n",
       "0        edx     6124020  \n",
       "1        edx    14399336  \n",
       "2        edx   219804390  \n",
       "3        edx    25781445  \n",
       "4        edx    20203860  "
      ]
     },
     "execution_count": 216,
     "metadata": {},
     "output_type": "execute_result"
    }
   ],
   "source": [
    "df_ec.head()"
   ]
  },
  {
   "attachments": {},
   "cell_type": "markdown",
   "metadata": {},
   "source": [
    "***"
   ]
  },
  {
   "cell_type": "markdown",
   "metadata": {},
   "source": []
  },
  {
   "attachments": {},
   "cell_type": "markdown",
   "metadata": {},
   "source": [
    "### 3) *Udemy*"
   ]
  },
  {
   "cell_type": "code",
   "execution_count": 217,
   "metadata": {},
   "outputs": [
    {
     "data": {
      "text/html": [
       "<div>\n",
       "<style scoped>\n",
       "    .dataframe tbody tr th:only-of-type {\n",
       "        vertical-align: middle;\n",
       "    }\n",
       "\n",
       "    .dataframe tbody tr th {\n",
       "        vertical-align: top;\n",
       "    }\n",
       "\n",
       "    .dataframe thead th {\n",
       "        text-align: right;\n",
       "    }\n",
       "</style>\n",
       "<table border=\"1\" class=\"dataframe\">\n",
       "  <thead>\n",
       "    <tr style=\"text-align: right;\">\n",
       "      <th></th>\n",
       "      <th>course_id</th>\n",
       "      <th>course_title</th>\n",
       "      <th>url</th>\n",
       "      <th>is_paid</th>\n",
       "      <th>price</th>\n",
       "      <th>num_subscribers</th>\n",
       "      <th>num_reviews</th>\n",
       "      <th>num_lectures</th>\n",
       "      <th>level</th>\n",
       "      <th>content_duration</th>\n",
       "      <th>published_timestamp</th>\n",
       "      <th>subject</th>\n",
       "    </tr>\n",
       "  </thead>\n",
       "  <tbody>\n",
       "    <tr>\n",
       "      <th>0</th>\n",
       "      <td>1070968</td>\n",
       "      <td>Ultimate Investment Banking Course</td>\n",
       "      <td>https://www.udemy.com/ultimate-investment-bank...</td>\n",
       "      <td>True</td>\n",
       "      <td>200</td>\n",
       "      <td>2147</td>\n",
       "      <td>23</td>\n",
       "      <td>51</td>\n",
       "      <td>All Levels</td>\n",
       "      <td>1.5</td>\n",
       "      <td>2017-01-18T20:58:58Z</td>\n",
       "      <td>Business Finance</td>\n",
       "    </tr>\n",
       "    <tr>\n",
       "      <th>1</th>\n",
       "      <td>1113822</td>\n",
       "      <td>Complete GST Course &amp; Certification - Grow You...</td>\n",
       "      <td>https://www.udemy.com/goods-and-services-tax/</td>\n",
       "      <td>True</td>\n",
       "      <td>75</td>\n",
       "      <td>2792</td>\n",
       "      <td>923</td>\n",
       "      <td>274</td>\n",
       "      <td>All Levels</td>\n",
       "      <td>39.0</td>\n",
       "      <td>2017-03-09T16:34:20Z</td>\n",
       "      <td>Business Finance</td>\n",
       "    </tr>\n",
       "    <tr>\n",
       "      <th>2</th>\n",
       "      <td>1006314</td>\n",
       "      <td>Financial Modeling for Business Analysts and C...</td>\n",
       "      <td>https://www.udemy.com/financial-modeling-for-b...</td>\n",
       "      <td>True</td>\n",
       "      <td>45</td>\n",
       "      <td>2174</td>\n",
       "      <td>74</td>\n",
       "      <td>51</td>\n",
       "      <td>Intermediate Level</td>\n",
       "      <td>2.5</td>\n",
       "      <td>2016-12-19T19:26:30Z</td>\n",
       "      <td>Business Finance</td>\n",
       "    </tr>\n",
       "  </tbody>\n",
       "</table>\n",
       "</div>"
      ],
      "text/plain": [
       "   course_id                                       course_title  \\\n",
       "0    1070968                 Ultimate Investment Banking Course   \n",
       "1    1113822  Complete GST Course & Certification - Grow You...   \n",
       "2    1006314  Financial Modeling for Business Analysts and C...   \n",
       "\n",
       "                                                 url  is_paid  price  \\\n",
       "0  https://www.udemy.com/ultimate-investment-bank...     True    200   \n",
       "1      https://www.udemy.com/goods-and-services-tax/     True     75   \n",
       "2  https://www.udemy.com/financial-modeling-for-b...     True     45   \n",
       "\n",
       "   num_subscribers  num_reviews  num_lectures               level  \\\n",
       "0             2147           23            51          All Levels   \n",
       "1             2792          923           274          All Levels   \n",
       "2             2174           74            51  Intermediate Level   \n",
       "\n",
       "   content_duration   published_timestamp           subject  \n",
       "0               1.5  2017-01-18T20:58:58Z  Business Finance  \n",
       "1              39.0  2017-03-09T16:34:20Z  Business Finance  \n",
       "2               2.5  2016-12-19T19:26:30Z  Business Finance  "
      ]
     },
     "execution_count": 217,
     "metadata": {},
     "output_type": "execute_result"
    }
   ],
   "source": [
    "df_uc.head(3)"
   ]
  },
  {
   "cell_type": "code",
   "execution_count": 218,
   "metadata": {},
   "outputs": [
    {
     "name": "stdout",
     "output_type": "stream",
     "text": [
      "<class 'pandas.core.frame.DataFrame'>\n",
      "RangeIndex: 3678 entries, 0 to 3677\n",
      "Data columns (total 12 columns):\n",
      " #   Column               Non-Null Count  Dtype  \n",
      "---  ------               --------------  -----  \n",
      " 0   course_id            3678 non-null   int64  \n",
      " 1   course_title         3678 non-null   object \n",
      " 2   url                  3678 non-null   object \n",
      " 3   is_paid              3678 non-null   bool   \n",
      " 4   price                3678 non-null   int64  \n",
      " 5   num_subscribers      3678 non-null   int64  \n",
      " 6   num_reviews          3678 non-null   int64  \n",
      " 7   num_lectures         3678 non-null   int64  \n",
      " 8   level                3678 non-null   object \n",
      " 9   content_duration     3678 non-null   float64\n",
      " 10  published_timestamp  3678 non-null   object \n",
      " 11  subject              3678 non-null   object \n",
      "dtypes: bool(1), float64(1), int64(5), object(5)\n",
      "memory usage: 319.8+ KB\n"
     ]
    }
   ],
   "source": [
    "# Vemos que el DF no presenta valores nulos\n",
    "df_uc.info()"
   ]
  },
  {
   "cell_type": "code",
   "execution_count": 219,
   "metadata": {},
   "outputs": [],
   "source": [
    "df_uc.rename(columns={\"course_title\": \"nombre\", \"num_subscribers\": \"ventas_q\", \"course_type\":\"formato\", \"subject\": \"tema\", \"level\":\"nivel\", \"course_effort\":\"hs/semana\" , \"content_duration\":\"duracion\", \"price\":\"precio\", 'num_lectures': \"clases_q\" }, inplace=True)"
   ]
  },
  {
   "cell_type": "code",
   "execution_count": 220,
   "metadata": {},
   "outputs": [],
   "source": [
    "#Finalmente creo una columna que identifique que todos estos registros pertenecen a la plataforma coursera.\n",
    "\n",
    "df_uc['plataforma'] = 'udemy'\n"
   ]
  },
  {
   "attachments": {},
   "cell_type": "markdown",
   "metadata": {},
   "source": [
    "Extraeré del campo 'published_timestamp', el año y el mes de finalización del curso."
   ]
  },
  {
   "cell_type": "code",
   "execution_count": 221,
   "metadata": {},
   "outputs": [],
   "source": [
    "# Primero convierto el campo a un formato datetime\n",
    "df_uc['published_timestamp'] = pd.to_datetime(df_uc['published_timestamp'])"
   ]
  },
  {
   "cell_type": "code",
   "execution_count": 222,
   "metadata": {},
   "outputs": [],
   "source": [
    "# Hago las modificaciones creando los campos anio y mes\n",
    "df_uc['anio'] = df_uc['published_timestamp'].dt.year\n",
    "df_uc['mes'] = df_uc['published_timestamp'].dt.month_name(locale='Spanish')"
   ]
  },
  {
   "cell_type": "code",
   "execution_count": 223,
   "metadata": {},
   "outputs": [],
   "source": [
    "# Utilizada la información de la columna, procedo a eliminarla junto a las otras que no aportan al análisis.\n",
    "\n",
    "df_uc.drop(['course_id'], axis=1, inplace=True) \n",
    "df_uc.drop(['published_timestamp'], axis=1, inplace=True)\n",
    "df_uc.drop(['url'], axis=1, inplace=True)\n",
    "df_uc.drop(['is_paid'], axis=1, inplace=True)\n",
    "df_uc.drop(['num_reviews'], axis=1, inplace=True) \n"
   ]
  },
  {
   "cell_type": "code",
   "execution_count": 224,
   "metadata": {},
   "outputs": [
    {
     "name": "stdout",
     "output_type": "stream",
     "text": [
      "<class 'pandas.core.frame.DataFrame'>\n",
      "RangeIndex: 3678 entries, 0 to 3677\n",
      "Data columns (total 10 columns):\n",
      " #   Column      Non-Null Count  Dtype  \n",
      "---  ------      --------------  -----  \n",
      " 0   nombre      3678 non-null   object \n",
      " 1   precio      3678 non-null   int64  \n",
      " 2   ventas_q    3678 non-null   int64  \n",
      " 3   clases_q    3678 non-null   int64  \n",
      " 4   nivel       3678 non-null   object \n",
      " 5   duracion    3678 non-null   float64\n",
      " 6   tema        3678 non-null   object \n",
      " 7   plataforma  3678 non-null   object \n",
      " 8   anio        3678 non-null   int64  \n",
      " 9   mes         3678 non-null   object \n",
      "dtypes: float64(1), int64(4), object(5)\n",
      "memory usage: 287.5+ KB\n"
     ]
    }
   ],
   "source": [
    "df_uc.info()"
   ]
  },
  {
   "attachments": {},
   "cell_type": "markdown",
   "metadata": {},
   "source": [
    "Chequeo la existencia de duplicados"
   ]
  },
  {
   "cell_type": "code",
   "execution_count": 225,
   "metadata": {},
   "outputs": [
    {
     "data": {
      "text/plain": [
       "6"
      ]
     },
     "execution_count": 225,
     "metadata": {},
     "output_type": "execute_result"
    }
   ],
   "source": [
    "df_uc.duplicated().sum()"
   ]
  },
  {
   "cell_type": "code",
   "execution_count": 226,
   "metadata": {},
   "outputs": [
    {
     "data": {
      "text/html": [
       "<div>\n",
       "<style scoped>\n",
       "    .dataframe tbody tr th:only-of-type {\n",
       "        vertical-align: middle;\n",
       "    }\n",
       "\n",
       "    .dataframe tbody tr th {\n",
       "        vertical-align: top;\n",
       "    }\n",
       "\n",
       "    .dataframe thead th {\n",
       "        text-align: right;\n",
       "    }\n",
       "</style>\n",
       "<table border=\"1\" class=\"dataframe\">\n",
       "  <thead>\n",
       "    <tr style=\"text-align: right;\">\n",
       "      <th></th>\n",
       "      <th>nombre</th>\n",
       "      <th>precio</th>\n",
       "      <th>ventas_q</th>\n",
       "      <th>clases_q</th>\n",
       "      <th>nivel</th>\n",
       "      <th>duracion</th>\n",
       "      <th>tema</th>\n",
       "      <th>plataforma</th>\n",
       "      <th>anio</th>\n",
       "      <th>mes</th>\n",
       "    </tr>\n",
       "  </thead>\n",
       "  <tbody>\n",
       "    <tr>\n",
       "      <th>463</th>\n",
       "      <td>CFA Level 2- Quantitative Methods</td>\n",
       "      <td>40</td>\n",
       "      <td>0</td>\n",
       "      <td>35</td>\n",
       "      <td>All Levels</td>\n",
       "      <td>5.500000</td>\n",
       "      <td>Business Finance</td>\n",
       "      <td>udemy</td>\n",
       "      <td>2017</td>\n",
       "      <td>Julio</td>\n",
       "    </tr>\n",
       "    <tr>\n",
       "      <th>1100</th>\n",
       "      <td>CFA Level 2- Quantitative Methods</td>\n",
       "      <td>40</td>\n",
       "      <td>0</td>\n",
       "      <td>35</td>\n",
       "      <td>All Levels</td>\n",
       "      <td>5.500000</td>\n",
       "      <td>Business Finance</td>\n",
       "      <td>udemy</td>\n",
       "      <td>2017</td>\n",
       "      <td>Julio</td>\n",
       "    </tr>\n",
       "    <tr>\n",
       "      <th>453</th>\n",
       "      <td>Essentials of money value: Get a financial Life !</td>\n",
       "      <td>20</td>\n",
       "      <td>0</td>\n",
       "      <td>20</td>\n",
       "      <td>All Levels</td>\n",
       "      <td>0.616667</td>\n",
       "      <td>Business Finance</td>\n",
       "      <td>udemy</td>\n",
       "      <td>2016</td>\n",
       "      <td>Mayo</td>\n",
       "    </tr>\n",
       "    <tr>\n",
       "      <th>787</th>\n",
       "      <td>Essentials of money value: Get a financial Life !</td>\n",
       "      <td>20</td>\n",
       "      <td>0</td>\n",
       "      <td>20</td>\n",
       "      <td>All Levels</td>\n",
       "      <td>0.616667</td>\n",
       "      <td>Business Finance</td>\n",
       "      <td>udemy</td>\n",
       "      <td>2016</td>\n",
       "      <td>Mayo</td>\n",
       "    </tr>\n",
       "    <tr>\n",
       "      <th>454</th>\n",
       "      <td>Introduction to Forex Trading Business For Beg...</td>\n",
       "      <td>20</td>\n",
       "      <td>0</td>\n",
       "      <td>27</td>\n",
       "      <td>Beginner Level</td>\n",
       "      <td>1.500000</td>\n",
       "      <td>Business Finance</td>\n",
       "      <td>udemy</td>\n",
       "      <td>2017</td>\n",
       "      <td>Abril</td>\n",
       "    </tr>\n",
       "    <tr>\n",
       "      <th>788</th>\n",
       "      <td>Introduction to Forex Trading Business For Beg...</td>\n",
       "      <td>20</td>\n",
       "      <td>0</td>\n",
       "      <td>27</td>\n",
       "      <td>Beginner Level</td>\n",
       "      <td>1.500000</td>\n",
       "      <td>Business Finance</td>\n",
       "      <td>udemy</td>\n",
       "      <td>2017</td>\n",
       "      <td>Abril</td>\n",
       "    </tr>\n",
       "    <tr>\n",
       "      <th>2478</th>\n",
       "      <td>Learn Web Designing &amp; HTML5/CSS3 Essentials in...</td>\n",
       "      <td>75</td>\n",
       "      <td>43285</td>\n",
       "      <td>24</td>\n",
       "      <td>All Levels</td>\n",
       "      <td>4.000000</td>\n",
       "      <td>Web Development</td>\n",
       "      <td>udemy</td>\n",
       "      <td>2013</td>\n",
       "      <td>Enero</td>\n",
       "    </tr>\n",
       "    <tr>\n",
       "      <th>2561</th>\n",
       "      <td>Learn Web Designing &amp; HTML5/CSS3 Essentials in...</td>\n",
       "      <td>75</td>\n",
       "      <td>43285</td>\n",
       "      <td>24</td>\n",
       "      <td>All Levels</td>\n",
       "      <td>4.000000</td>\n",
       "      <td>Web Development</td>\n",
       "      <td>udemy</td>\n",
       "      <td>2013</td>\n",
       "      <td>Enero</td>\n",
       "    </tr>\n",
       "    <tr>\n",
       "      <th>1234</th>\n",
       "      <td>MicroStation - Células</td>\n",
       "      <td>20</td>\n",
       "      <td>0</td>\n",
       "      <td>9</td>\n",
       "      <td>Beginner Level</td>\n",
       "      <td>0.616667</td>\n",
       "      <td>Graphic Design</td>\n",
       "      <td>udemy</td>\n",
       "      <td>2014</td>\n",
       "      <td>Abril</td>\n",
       "    </tr>\n",
       "    <tr>\n",
       "      <th>1473</th>\n",
       "      <td>MicroStation - Células</td>\n",
       "      <td>20</td>\n",
       "      <td>0</td>\n",
       "      <td>9</td>\n",
       "      <td>Beginner Level</td>\n",
       "      <td>0.616667</td>\n",
       "      <td>Graphic Design</td>\n",
       "      <td>udemy</td>\n",
       "      <td>2014</td>\n",
       "      <td>Abril</td>\n",
       "    </tr>\n",
       "    <tr>\n",
       "      <th>778</th>\n",
       "      <td>Understanding Financial Statements</td>\n",
       "      <td>25</td>\n",
       "      <td>0</td>\n",
       "      <td>10</td>\n",
       "      <td>All Levels</td>\n",
       "      <td>1.000000</td>\n",
       "      <td>Business Finance</td>\n",
       "      <td>udemy</td>\n",
       "      <td>2016</td>\n",
       "      <td>Diciembre</td>\n",
       "    </tr>\n",
       "    <tr>\n",
       "      <th>894</th>\n",
       "      <td>Understanding Financial Statements</td>\n",
       "      <td>25</td>\n",
       "      <td>0</td>\n",
       "      <td>10</td>\n",
       "      <td>All Levels</td>\n",
       "      <td>1.000000</td>\n",
       "      <td>Business Finance</td>\n",
       "      <td>udemy</td>\n",
       "      <td>2016</td>\n",
       "      <td>Diciembre</td>\n",
       "    </tr>\n",
       "  </tbody>\n",
       "</table>\n",
       "</div>"
      ],
      "text/plain": [
       "                                                 nombre  precio  ventas_q  \\\n",
       "463                   CFA Level 2- Quantitative Methods      40         0   \n",
       "1100                  CFA Level 2- Quantitative Methods      40         0   \n",
       "453   Essentials of money value: Get a financial Life !      20         0   \n",
       "787   Essentials of money value: Get a financial Life !      20         0   \n",
       "454   Introduction to Forex Trading Business For Beg...      20         0   \n",
       "788   Introduction to Forex Trading Business For Beg...      20         0   \n",
       "2478  Learn Web Designing & HTML5/CSS3 Essentials in...      75     43285   \n",
       "2561  Learn Web Designing & HTML5/CSS3 Essentials in...      75     43285   \n",
       "1234                             MicroStation - Células      20         0   \n",
       "1473                             MicroStation - Células      20         0   \n",
       "778                  Understanding Financial Statements      25         0   \n",
       "894                  Understanding Financial Statements      25         0   \n",
       "\n",
       "      clases_q           nivel  duracion              tema plataforma  anio  \\\n",
       "463         35      All Levels  5.500000  Business Finance      udemy  2017   \n",
       "1100        35      All Levels  5.500000  Business Finance      udemy  2017   \n",
       "453         20      All Levels  0.616667  Business Finance      udemy  2016   \n",
       "787         20      All Levels  0.616667  Business Finance      udemy  2016   \n",
       "454         27  Beginner Level  1.500000  Business Finance      udemy  2017   \n",
       "788         27  Beginner Level  1.500000  Business Finance      udemy  2017   \n",
       "2478        24      All Levels  4.000000   Web Development      udemy  2013   \n",
       "2561        24      All Levels  4.000000   Web Development      udemy  2013   \n",
       "1234         9  Beginner Level  0.616667    Graphic Design      udemy  2014   \n",
       "1473         9  Beginner Level  0.616667    Graphic Design      udemy  2014   \n",
       "778         10      All Levels  1.000000  Business Finance      udemy  2016   \n",
       "894         10      All Levels  1.000000  Business Finance      udemy  2016   \n",
       "\n",
       "            mes  \n",
       "463       Julio  \n",
       "1100      Julio  \n",
       "453        Mayo  \n",
       "787        Mayo  \n",
       "454       Abril  \n",
       "788       Abril  \n",
       "2478      Enero  \n",
       "2561      Enero  \n",
       "1234      Abril  \n",
       "1473      Abril  \n",
       "778   Diciembre  \n",
       "894   Diciembre  "
      ]
     },
     "execution_count": 226,
     "metadata": {},
     "output_type": "execute_result"
    }
   ],
   "source": [
    "df_uc[df_uc.duplicated(keep=False)].sort_values(by='nombre')"
   ]
  },
  {
   "cell_type": "code",
   "execution_count": 227,
   "metadata": {},
   "outputs": [
    {
     "data": {
      "text/plain": [
       "Index(['nombre', 'precio', 'ventas_q', 'clases_q', 'nivel', 'duracion', 'tema',\n",
       "       'plataforma', 'anio', 'mes'],\n",
       "      dtype='object')"
      ]
     },
     "execution_count": 227,
     "metadata": {},
     "output_type": "execute_result"
    }
   ],
   "source": [
    "df_uc.columns"
   ]
  },
  {
   "cell_type": "code",
   "execution_count": 228,
   "metadata": {},
   "outputs": [],
   "source": [
    "# Al confirmar que efectivamente están repetidos procedo a eliminarlos.\n",
    "\n",
    "df_uc.drop_duplicates(keep='first' , inplace = True)"
   ]
  },
  {
   "cell_type": "code",
   "execution_count": 229,
   "metadata": {},
   "outputs": [
    {
     "data": {
      "text/html": [
       "<div>\n",
       "<style scoped>\n",
       "    .dataframe tbody tr th:only-of-type {\n",
       "        vertical-align: middle;\n",
       "    }\n",
       "\n",
       "    .dataframe tbody tr th {\n",
       "        vertical-align: top;\n",
       "    }\n",
       "\n",
       "    .dataframe thead th {\n",
       "        text-align: right;\n",
       "    }\n",
       "</style>\n",
       "<table border=\"1\" class=\"dataframe\">\n",
       "  <thead>\n",
       "    <tr style=\"text-align: right;\">\n",
       "      <th></th>\n",
       "      <th>nombre</th>\n",
       "      <th>precio</th>\n",
       "      <th>ventas_q</th>\n",
       "      <th>clases_q</th>\n",
       "      <th>nivel</th>\n",
       "      <th>duracion</th>\n",
       "      <th>tema</th>\n",
       "      <th>plataforma</th>\n",
       "      <th>anio</th>\n",
       "      <th>mes</th>\n",
       "    </tr>\n",
       "  </thead>\n",
       "  <tbody>\n",
       "    <tr>\n",
       "      <th>2062</th>\n",
       "      <td>Acoustic Blues Guitar Lessons</td>\n",
       "      <td>0</td>\n",
       "      <td>8217</td>\n",
       "      <td>10</td>\n",
       "      <td>Intermediate Level</td>\n",
       "      <td>1.000000</td>\n",
       "      <td>Musical Instruments</td>\n",
       "      <td>udemy</td>\n",
       "      <td>2013</td>\n",
       "      <td>Septiembre</td>\n",
       "    </tr>\n",
       "    <tr>\n",
       "      <th>2067</th>\n",
       "      <td>Acoustic Blues Guitar Lessons</td>\n",
       "      <td>125</td>\n",
       "      <td>1284</td>\n",
       "      <td>40</td>\n",
       "      <td>Intermediate Level</td>\n",
       "      <td>12.500000</td>\n",
       "      <td>Musical Instruments</td>\n",
       "      <td>udemy</td>\n",
       "      <td>2013</td>\n",
       "      <td>Noviembre</td>\n",
       "    </tr>\n",
       "    <tr>\n",
       "      <th>2158</th>\n",
       "      <td>Acoustic Blues Guitar Lessons</td>\n",
       "      <td>75</td>\n",
       "      <td>189</td>\n",
       "      <td>101</td>\n",
       "      <td>Intermediate Level</td>\n",
       "      <td>4.500000</td>\n",
       "      <td>Musical Instruments</td>\n",
       "      <td>udemy</td>\n",
       "      <td>2016</td>\n",
       "      <td>Enero</td>\n",
       "    </tr>\n",
       "    <tr>\n",
       "      <th>2130</th>\n",
       "      <td>Aprende a tocar el acordeón de botones</td>\n",
       "      <td>50</td>\n",
       "      <td>22</td>\n",
       "      <td>21</td>\n",
       "      <td>All Levels</td>\n",
       "      <td>3.500000</td>\n",
       "      <td>Musical Instruments</td>\n",
       "      <td>udemy</td>\n",
       "      <td>2014</td>\n",
       "      <td>Mayo</td>\n",
       "    </tr>\n",
       "    <tr>\n",
       "      <th>2332</th>\n",
       "      <td>Aprende a tocar el acordeón de botones</td>\n",
       "      <td>50</td>\n",
       "      <td>20</td>\n",
       "      <td>24</td>\n",
       "      <td>Beginner Level</td>\n",
       "      <td>2.000000</td>\n",
       "      <td>Musical Instruments</td>\n",
       "      <td>udemy</td>\n",
       "      <td>2017</td>\n",
       "      <td>Mayo</td>\n",
       "    </tr>\n",
       "    <tr>\n",
       "      <th>1301</th>\n",
       "      <td>Creating an animated greeting card via Google ...</td>\n",
       "      <td>20</td>\n",
       "      <td>1504</td>\n",
       "      <td>9</td>\n",
       "      <td>Beginner Level</td>\n",
       "      <td>1.500000</td>\n",
       "      <td>Graphic Design</td>\n",
       "      <td>udemy</td>\n",
       "      <td>2016</td>\n",
       "      <td>Enero</td>\n",
       "    </tr>\n",
       "    <tr>\n",
       "      <th>1334</th>\n",
       "      <td>Creating an animated greeting card via Google ...</td>\n",
       "      <td>20</td>\n",
       "      <td>549</td>\n",
       "      <td>8</td>\n",
       "      <td>Beginner Level</td>\n",
       "      <td>1.000000</td>\n",
       "      <td>Graphic Design</td>\n",
       "      <td>udemy</td>\n",
       "      <td>2016</td>\n",
       "      <td>Abril</td>\n",
       "    </tr>\n",
       "    <tr>\n",
       "      <th>1447</th>\n",
       "      <td>Creating an animated greeting card via Google ...</td>\n",
       "      <td>20</td>\n",
       "      <td>770</td>\n",
       "      <td>8</td>\n",
       "      <td>Intermediate Level</td>\n",
       "      <td>1.000000</td>\n",
       "      <td>Graphic Design</td>\n",
       "      <td>udemy</td>\n",
       "      <td>2016</td>\n",
       "      <td>Mayo</td>\n",
       "    </tr>\n",
       "    <tr>\n",
       "      <th>2375</th>\n",
       "      <td>Drum Lessons For Beginners</td>\n",
       "      <td>95</td>\n",
       "      <td>14</td>\n",
       "      <td>34</td>\n",
       "      <td>Beginner Level</td>\n",
       "      <td>2.500000</td>\n",
       "      <td>Musical Instruments</td>\n",
       "      <td>udemy</td>\n",
       "      <td>2016</td>\n",
       "      <td>Abril</td>\n",
       "    </tr>\n",
       "    <tr>\n",
       "      <th>2445</th>\n",
       "      <td>Drum Lessons For Beginners</td>\n",
       "      <td>50</td>\n",
       "      <td>70</td>\n",
       "      <td>17</td>\n",
       "      <td>Beginner Level</td>\n",
       "      <td>1.500000</td>\n",
       "      <td>Musical Instruments</td>\n",
       "      <td>udemy</td>\n",
       "      <td>2014</td>\n",
       "      <td>Mayo</td>\n",
       "    </tr>\n",
       "    <tr>\n",
       "      <th>3107</th>\n",
       "      <td>How to Make a Wordpress Website 2017</td>\n",
       "      <td>0</td>\n",
       "      <td>12293</td>\n",
       "      <td>18</td>\n",
       "      <td>All Levels</td>\n",
       "      <td>3.000000</td>\n",
       "      <td>Web Development</td>\n",
       "      <td>udemy</td>\n",
       "      <td>2015</td>\n",
       "      <td>Enero</td>\n",
       "    </tr>\n",
       "    <tr>\n",
       "      <th>3274</th>\n",
       "      <td>How to Make a Wordpress Website 2017</td>\n",
       "      <td>0</td>\n",
       "      <td>2437</td>\n",
       "      <td>10</td>\n",
       "      <td>Beginner Level</td>\n",
       "      <td>0.566667</td>\n",
       "      <td>Web Development</td>\n",
       "      <td>udemy</td>\n",
       "      <td>2016</td>\n",
       "      <td>Junio</td>\n",
       "    </tr>\n",
       "    <tr>\n",
       "      <th>2607</th>\n",
       "      <td>Introduction to Web Development</td>\n",
       "      <td>50</td>\n",
       "      <td>5921</td>\n",
       "      <td>42</td>\n",
       "      <td>Beginner Level</td>\n",
       "      <td>4.500000</td>\n",
       "      <td>Web Development</td>\n",
       "      <td>udemy</td>\n",
       "      <td>2014</td>\n",
       "      <td>Marzo</td>\n",
       "    </tr>\n",
       "    <tr>\n",
       "      <th>2660</th>\n",
       "      <td>Introduction to Web Development</td>\n",
       "      <td>20</td>\n",
       "      <td>18143</td>\n",
       "      <td>15</td>\n",
       "      <td>Beginner Level</td>\n",
       "      <td>2.000000</td>\n",
       "      <td>Web Development</td>\n",
       "      <td>udemy</td>\n",
       "      <td>2013</td>\n",
       "      <td>Octubre</td>\n",
       "    </tr>\n",
       "    <tr>\n",
       "      <th>2806</th>\n",
       "      <td>The Complete Web Developer Masterclass: Beginn...</td>\n",
       "      <td>195</td>\n",
       "      <td>37141</td>\n",
       "      <td>316</td>\n",
       "      <td>All Levels</td>\n",
       "      <td>51.000000</td>\n",
       "      <td>Web Development</td>\n",
       "      <td>udemy</td>\n",
       "      <td>2016</td>\n",
       "      <td>Mayo</td>\n",
       "    </tr>\n",
       "    <tr>\n",
       "      <th>2877</th>\n",
       "      <td>The Complete Web Developer Masterclass: Beginn...</td>\n",
       "      <td>20</td>\n",
       "      <td>1030</td>\n",
       "      <td>30</td>\n",
       "      <td>All Levels</td>\n",
       "      <td>2.500000</td>\n",
       "      <td>Web Development</td>\n",
       "      <td>udemy</td>\n",
       "      <td>2017</td>\n",
       "      <td>Mayo</td>\n",
       "    </tr>\n",
       "  </tbody>\n",
       "</table>\n",
       "</div>"
      ],
      "text/plain": [
       "                                                 nombre  precio  ventas_q  \\\n",
       "2062                      Acoustic Blues Guitar Lessons       0      8217   \n",
       "2067                      Acoustic Blues Guitar Lessons     125      1284   \n",
       "2158                      Acoustic Blues Guitar Lessons      75       189   \n",
       "2130             Aprende a tocar el acordeón de botones      50        22   \n",
       "2332             Aprende a tocar el acordeón de botones      50        20   \n",
       "1301  Creating an animated greeting card via Google ...      20      1504   \n",
       "1334  Creating an animated greeting card via Google ...      20       549   \n",
       "1447  Creating an animated greeting card via Google ...      20       770   \n",
       "2375                         Drum Lessons For Beginners      95        14   \n",
       "2445                         Drum Lessons For Beginners      50        70   \n",
       "3107               How to Make a Wordpress Website 2017       0     12293   \n",
       "3274               How to Make a Wordpress Website 2017       0      2437   \n",
       "2607                    Introduction to Web Development      50      5921   \n",
       "2660                    Introduction to Web Development      20     18143   \n",
       "2806  The Complete Web Developer Masterclass: Beginn...     195     37141   \n",
       "2877  The Complete Web Developer Masterclass: Beginn...      20      1030   \n",
       "\n",
       "      clases_q               nivel   duracion                 tema plataforma  \\\n",
       "2062        10  Intermediate Level   1.000000  Musical Instruments      udemy   \n",
       "2067        40  Intermediate Level  12.500000  Musical Instruments      udemy   \n",
       "2158       101  Intermediate Level   4.500000  Musical Instruments      udemy   \n",
       "2130        21          All Levels   3.500000  Musical Instruments      udemy   \n",
       "2332        24      Beginner Level   2.000000  Musical Instruments      udemy   \n",
       "1301         9      Beginner Level   1.500000       Graphic Design      udemy   \n",
       "1334         8      Beginner Level   1.000000       Graphic Design      udemy   \n",
       "1447         8  Intermediate Level   1.000000       Graphic Design      udemy   \n",
       "2375        34      Beginner Level   2.500000  Musical Instruments      udemy   \n",
       "2445        17      Beginner Level   1.500000  Musical Instruments      udemy   \n",
       "3107        18          All Levels   3.000000      Web Development      udemy   \n",
       "3274        10      Beginner Level   0.566667      Web Development      udemy   \n",
       "2607        42      Beginner Level   4.500000      Web Development      udemy   \n",
       "2660        15      Beginner Level   2.000000      Web Development      udemy   \n",
       "2806       316          All Levels  51.000000      Web Development      udemy   \n",
       "2877        30          All Levels   2.500000      Web Development      udemy   \n",
       "\n",
       "      anio         mes  \n",
       "2062  2013  Septiembre  \n",
       "2067  2013   Noviembre  \n",
       "2158  2016       Enero  \n",
       "2130  2014        Mayo  \n",
       "2332  2017        Mayo  \n",
       "1301  2016       Enero  \n",
       "1334  2016       Abril  \n",
       "1447  2016        Mayo  \n",
       "2375  2016       Abril  \n",
       "2445  2014        Mayo  \n",
       "3107  2015       Enero  \n",
       "3274  2016       Junio  \n",
       "2607  2014       Marzo  \n",
       "2660  2013     Octubre  \n",
       "2806  2016        Mayo  \n",
       "2877  2017        Mayo  "
      ]
     },
     "execution_count": 229,
     "metadata": {},
     "output_type": "execute_result"
    }
   ],
   "source": [
    "# Chequeo especificamente en la columna de los cursos. Veo que no son el mismo producto.\n",
    "df_uc[df_uc.duplicated(['nombre'] , keep=False)].sort_values(by='nombre')"
   ]
  },
  {
   "attachments": {},
   "cell_type": "markdown",
   "metadata": {},
   "source": [
    "Veo que son todos productos diversos, aunque presentan ciertas similitudes en algunos campos."
   ]
  },
  {
   "attachments": {},
   "cell_type": "markdown",
   "metadata": {},
   "source": [
    "Chequeo la existencia de outliers en los campos precio, ventas_q y duración."
   ]
  },
  {
   "cell_type": "code",
   "execution_count": 230,
   "metadata": {},
   "outputs": [
    {
     "data": {
      "text/plain": [
       "<AxesSubplot: xlabel='precio'>"
      ]
     },
     "execution_count": 230,
     "metadata": {},
     "output_type": "execute_result"
    },
    {
     "data": {
      "image/png": "[encoded data removed]",
      "text/plain": [
       "<Figure size 640x480 with 1 Axes>"
      ]
     },
     "metadata": {},
     "output_type": "display_data"
    }
   ],
   "source": [
    "sns.boxplot(x=\"precio\", data=df_uc)"
   ]
  },
  {
   "cell_type": "code",
   "execution_count": 231,
   "metadata": {},
   "outputs": [
    {
     "data": {
      "text/plain": [
       "<AxesSubplot: xlabel='ventas_q'>"
      ]
     },
     "execution_count": 231,
     "metadata": {},
     "output_type": "execute_result"
    },
    {
     "data": {
      "image/png": "[encoded data removed]",
      "text/plain": [
       "<Figure size 640x480 with 1 Axes>"
      ]
     },
     "metadata": {},
     "output_type": "display_data"
    }
   ],
   "source": [
    "sns.boxplot(x=\"ventas_q\", data=df_uc)"
   ]
  },
  {
   "cell_type": "code",
   "execution_count": 232,
   "metadata": {},
   "outputs": [
    {
     "data": {
      "text/html": [
       "<div>\n",
       "<style scoped>\n",
       "    .dataframe tbody tr th:only-of-type {\n",
       "        vertical-align: middle;\n",
       "    }\n",
       "\n",
       "    .dataframe tbody tr th {\n",
       "        vertical-align: top;\n",
       "    }\n",
       "\n",
       "    .dataframe thead th {\n",
       "        text-align: right;\n",
       "    }\n",
       "</style>\n",
       "<table border=\"1\" class=\"dataframe\">\n",
       "  <thead>\n",
       "    <tr style=\"text-align: right;\">\n",
       "      <th></th>\n",
       "      <th>nombre</th>\n",
       "      <th>precio</th>\n",
       "      <th>ventas_q</th>\n",
       "      <th>clases_q</th>\n",
       "      <th>nivel</th>\n",
       "      <th>duracion</th>\n",
       "      <th>tema</th>\n",
       "      <th>plataforma</th>\n",
       "      <th>anio</th>\n",
       "      <th>mes</th>\n",
       "    </tr>\n",
       "  </thead>\n",
       "  <tbody>\n",
       "    <tr>\n",
       "      <th>1896</th>\n",
       "      <td>Free Beginner Electric Guitar Lessons</td>\n",
       "      <td>0</td>\n",
       "      <td>101154</td>\n",
       "      <td>95</td>\n",
       "      <td>Beginner Level</td>\n",
       "      <td>4.5</td>\n",
       "      <td>Musical Instruments</td>\n",
       "      <td>udemy</td>\n",
       "      <td>2012</td>\n",
       "      <td>Junio</td>\n",
       "    </tr>\n",
       "    <tr>\n",
       "      <th>2783</th>\n",
       "      <td>Build Your First Website in 1 Week with HTML5 ...</td>\n",
       "      <td>0</td>\n",
       "      <td>120291</td>\n",
       "      <td>30</td>\n",
       "      <td>Beginner Level</td>\n",
       "      <td>3.0</td>\n",
       "      <td>Web Development</td>\n",
       "      <td>udemy</td>\n",
       "      <td>2014</td>\n",
       "      <td>Abril</td>\n",
       "    </tr>\n",
       "    <tr>\n",
       "      <th>2827</th>\n",
       "      <td>Learn HTML5 Programming From Scratch</td>\n",
       "      <td>0</td>\n",
       "      <td>268923</td>\n",
       "      <td>45</td>\n",
       "      <td>All Levels</td>\n",
       "      <td>10.5</td>\n",
       "      <td>Web Development</td>\n",
       "      <td>udemy</td>\n",
       "      <td>2013</td>\n",
       "      <td>Febrero</td>\n",
       "    </tr>\n",
       "    <tr>\n",
       "      <th>3032</th>\n",
       "      <td>Coding for Entrepreneurs Basic</td>\n",
       "      <td>0</td>\n",
       "      <td>161029</td>\n",
       "      <td>27</td>\n",
       "      <td>Beginner Level</td>\n",
       "      <td>3.5</td>\n",
       "      <td>Web Development</td>\n",
       "      <td>udemy</td>\n",
       "      <td>2013</td>\n",
       "      <td>Junio</td>\n",
       "    </tr>\n",
       "    <tr>\n",
       "      <th>3230</th>\n",
       "      <td>The Web Developer Bootcamp</td>\n",
       "      <td>200</td>\n",
       "      <td>121584</td>\n",
       "      <td>342</td>\n",
       "      <td>All Levels</td>\n",
       "      <td>43.0</td>\n",
       "      <td>Web Development</td>\n",
       "      <td>udemy</td>\n",
       "      <td>2015</td>\n",
       "      <td>Noviembre</td>\n",
       "    </tr>\n",
       "    <tr>\n",
       "      <th>3232</th>\n",
       "      <td>The Complete Web Developer Course 2.0</td>\n",
       "      <td>200</td>\n",
       "      <td>114512</td>\n",
       "      <td>304</td>\n",
       "      <td>All Levels</td>\n",
       "      <td>30.5</td>\n",
       "      <td>Web Development</td>\n",
       "      <td>udemy</td>\n",
       "      <td>2016</td>\n",
       "      <td>Marzo</td>\n",
       "    </tr>\n",
       "  </tbody>\n",
       "</table>\n",
       "</div>"
      ],
      "text/plain": [
       "                                                 nombre  precio  ventas_q  \\\n",
       "1896              Free Beginner Electric Guitar Lessons       0    101154   \n",
       "2783  Build Your First Website in 1 Week with HTML5 ...       0    120291   \n",
       "2827               Learn HTML5 Programming From Scratch       0    268923   \n",
       "3032                     Coding for Entrepreneurs Basic       0    161029   \n",
       "3230                         The Web Developer Bootcamp     200    121584   \n",
       "3232              The Complete Web Developer Course 2.0     200    114512   \n",
       "\n",
       "      clases_q           nivel  duracion                 tema plataforma  \\\n",
       "1896        95  Beginner Level       4.5  Musical Instruments      udemy   \n",
       "2783        30  Beginner Level       3.0      Web Development      udemy   \n",
       "2827        45      All Levels      10.5      Web Development      udemy   \n",
       "3032        27  Beginner Level       3.5      Web Development      udemy   \n",
       "3230       342      All Levels      43.0      Web Development      udemy   \n",
       "3232       304      All Levels      30.5      Web Development      udemy   \n",
       "\n",
       "      anio        mes  \n",
       "1896  2012      Junio  \n",
       "2783  2014      Abril  \n",
       "2827  2013    Febrero  \n",
       "3032  2013      Junio  \n",
       "3230  2015  Noviembre  \n",
       "3232  2016      Marzo  "
      ]
     },
     "execution_count": 232,
     "metadata": {},
     "output_type": "execute_result"
    }
   ],
   "source": [
    "# Luego de testear los datos en la página oficial de Udemy, puedo corroborar que los valores son verídicos.\n",
    "df_uc[df_uc['ventas_q'] > 100000]"
   ]
  },
  {
   "cell_type": "markdown",
   "metadata": {},
   "source": []
  },
  {
   "cell_type": "code",
   "execution_count": 233,
   "metadata": {},
   "outputs": [
    {
     "data": {
      "text/plain": [
       "<AxesSubplot: xlabel='duracion'>"
      ]
     },
     "execution_count": 233,
     "metadata": {},
     "output_type": "execute_result"
    },
    {
     "data": {
      "image/png": "[encoded data removed]",
      "text/plain": [
       "<Figure size 640x480 with 1 Axes>"
      ]
     },
     "metadata": {},
     "output_type": "display_data"
    }
   ],
   "source": [
    "sns.boxplot(x=\"duracion\", data=df_uc)"
   ]
  },
  {
   "attachments": {},
   "cell_type": "markdown",
   "metadata": {},
   "source": [
    "Ahora crearé la columna ventas_usd."
   ]
  },
  {
   "cell_type": "code",
   "execution_count": 234,
   "metadata": {},
   "outputs": [],
   "source": [
    "df_uc['ventas_usd'] = df_uc['ventas_q'] * df_uc['precio']"
   ]
  },
  {
   "attachments": {},
   "cell_type": "markdown",
   "metadata": {},
   "source": [
    "Utilizando la biblioteca langdetect, procedo a detectar el idioma del curso al identificar en idioma de su nombre."
   ]
  },
  {
   "cell_type": "code",
   "execution_count": 235,
   "metadata": {},
   "outputs": [],
   "source": [
    "df_uc['idioma'] = df_uc['nombre'].apply(detect)"
   ]
  },
  {
   "cell_type": "code",
   "execution_count": 236,
   "metadata": {},
   "outputs": [
    {
     "data": {
      "text/plain": [
       "en       3042\n",
       "es        141\n",
       "de         91\n",
       "pt         66\n",
       "ca         54\n",
       "no         45\n",
       "fr         43\n",
       "it         42\n",
       "ja         30\n",
       "tl         19\n",
       "nl         19\n",
       "ro         11\n",
       "af         10\n",
       "ar          9\n",
       "sv          9\n",
       "da          9\n",
       "id          5\n",
       "et          5\n",
       "zh-cn       4\n",
       "tr          4\n",
       "ru          3\n",
       "pl          2\n",
       "sw          2\n",
       "vi          2\n",
       "th          2\n",
       "hr          2\n",
       "ko          1\n",
       "Name: idioma, dtype: int64"
      ]
     },
     "execution_count": 236,
     "metadata": {},
     "output_type": "execute_result"
    }
   ],
   "source": [
    "df_uc['idioma'].value_counts()"
   ]
  },
  {
   "cell_type": "code",
   "execution_count": 237,
   "metadata": {},
   "outputs": [
    {
     "data": {
      "text/plain": [
       "English          776\n",
       "Español          176\n",
       "Français           7\n",
       "Italiano           4\n",
       "中文                 4\n",
       "Português          4\n",
       "日本語                1\n",
       "اللغة العربية      1\n",
       "Deutsch            1\n",
       "Name: idioma, dtype: int64"
      ]
     },
     "execution_count": 237,
     "metadata": {},
     "output_type": "execute_result"
    }
   ],
   "source": [
    "# Chequeo cuales son los valores de las categorías idioma en el DF de EDX, para homogeneizar criterios.\n",
    "\n",
    "df_ec['idioma'].value_counts()"
   ]
  },
  {
   "cell_type": "code",
   "execution_count": 238,
   "metadata": {},
   "outputs": [],
   "source": [
    "df_uc['idioma'].replace({'en':'English','es':'Spanish','de':'Deutsch','pt':'Português','fr':'Français','it':'Italiano','ca':'Catalán'},inplace=True)"
   ]
  },
  {
   "cell_type": "code",
   "execution_count": 239,
   "metadata": {},
   "outputs": [
    {
     "data": {
      "text/html": [
       "<div>\n",
       "<style scoped>\n",
       "    .dataframe tbody tr th:only-of-type {\n",
       "        vertical-align: middle;\n",
       "    }\n",
       "\n",
       "    .dataframe tbody tr th {\n",
       "        vertical-align: top;\n",
       "    }\n",
       "\n",
       "    .dataframe thead th {\n",
       "        text-align: right;\n",
       "    }\n",
       "</style>\n",
       "<table border=\"1\" class=\"dataframe\">\n",
       "  <thead>\n",
       "    <tr style=\"text-align: right;\">\n",
       "      <th></th>\n",
       "      <th>nombre</th>\n",
       "      <th>precio</th>\n",
       "      <th>ventas_q</th>\n",
       "      <th>clases_q</th>\n",
       "      <th>nivel</th>\n",
       "      <th>duracion</th>\n",
       "      <th>tema</th>\n",
       "      <th>plataforma</th>\n",
       "      <th>anio</th>\n",
       "      <th>mes</th>\n",
       "      <th>ventas_usd</th>\n",
       "      <th>idioma</th>\n",
       "    </tr>\n",
       "  </thead>\n",
       "  <tbody>\n",
       "    <tr>\n",
       "      <th>0</th>\n",
       "      <td>Ultimate Investment Banking Course</td>\n",
       "      <td>200</td>\n",
       "      <td>2147</td>\n",
       "      <td>51</td>\n",
       "      <td>All Levels</td>\n",
       "      <td>1.5</td>\n",
       "      <td>Business Finance</td>\n",
       "      <td>udemy</td>\n",
       "      <td>2017</td>\n",
       "      <td>Enero</td>\n",
       "      <td>429400</td>\n",
       "      <td>English</td>\n",
       "    </tr>\n",
       "    <tr>\n",
       "      <th>1</th>\n",
       "      <td>Complete GST Course &amp; Certification - Grow You...</td>\n",
       "      <td>75</td>\n",
       "      <td>2792</td>\n",
       "      <td>274</td>\n",
       "      <td>All Levels</td>\n",
       "      <td>39.0</td>\n",
       "      <td>Business Finance</td>\n",
       "      <td>udemy</td>\n",
       "      <td>2017</td>\n",
       "      <td>Marzo</td>\n",
       "      <td>209400</td>\n",
       "      <td>English</td>\n",
       "    </tr>\n",
       "    <tr>\n",
       "      <th>2</th>\n",
       "      <td>Financial Modeling for Business Analysts and C...</td>\n",
       "      <td>45</td>\n",
       "      <td>2174</td>\n",
       "      <td>51</td>\n",
       "      <td>Intermediate Level</td>\n",
       "      <td>2.5</td>\n",
       "      <td>Business Finance</td>\n",
       "      <td>udemy</td>\n",
       "      <td>2016</td>\n",
       "      <td>Diciembre</td>\n",
       "      <td>97830</td>\n",
       "      <td>English</td>\n",
       "    </tr>\n",
       "    <tr>\n",
       "      <th>3</th>\n",
       "      <td>Beginner to Pro - Financial Analysis in Excel ...</td>\n",
       "      <td>95</td>\n",
       "      <td>2451</td>\n",
       "      <td>36</td>\n",
       "      <td>All Levels</td>\n",
       "      <td>3.0</td>\n",
       "      <td>Business Finance</td>\n",
       "      <td>udemy</td>\n",
       "      <td>2017</td>\n",
       "      <td>Mayo</td>\n",
       "      <td>232845</td>\n",
       "      <td>English</td>\n",
       "    </tr>\n",
       "    <tr>\n",
       "      <th>4</th>\n",
       "      <td>How To Maximize Your Profits Trading Options</td>\n",
       "      <td>200</td>\n",
       "      <td>1276</td>\n",
       "      <td>26</td>\n",
       "      <td>Intermediate Level</td>\n",
       "      <td>2.0</td>\n",
       "      <td>Business Finance</td>\n",
       "      <td>udemy</td>\n",
       "      <td>2016</td>\n",
       "      <td>Diciembre</td>\n",
       "      <td>255200</td>\n",
       "      <td>English</td>\n",
       "    </tr>\n",
       "  </tbody>\n",
       "</table>\n",
       "</div>"
      ],
      "text/plain": [
       "                                              nombre  precio  ventas_q  \\\n",
       "0                 Ultimate Investment Banking Course     200      2147   \n",
       "1  Complete GST Course & Certification - Grow You...      75      2792   \n",
       "2  Financial Modeling for Business Analysts and C...      45      2174   \n",
       "3  Beginner to Pro - Financial Analysis in Excel ...      95      2451   \n",
       "4       How To Maximize Your Profits Trading Options     200      1276   \n",
       "\n",
       "   clases_q               nivel  duracion              tema plataforma  anio  \\\n",
       "0        51          All Levels       1.5  Business Finance      udemy  2017   \n",
       "1       274          All Levels      39.0  Business Finance      udemy  2017   \n",
       "2        51  Intermediate Level       2.5  Business Finance      udemy  2016   \n",
       "3        36          All Levels       3.0  Business Finance      udemy  2017   \n",
       "4        26  Intermediate Level       2.0  Business Finance      udemy  2016   \n",
       "\n",
       "         mes  ventas_usd   idioma  \n",
       "0      Enero      429400  English  \n",
       "1      Marzo      209400  English  \n",
       "2  Diciembre       97830  English  \n",
       "3       Mayo      232845  English  \n",
       "4  Diciembre      255200  English  "
      ]
     },
     "execution_count": 239,
     "metadata": {},
     "output_type": "execute_result"
    }
   ],
   "source": [
    "df_uc.head()"
   ]
  },
  {
   "attachments": {},
   "cell_type": "markdown",
   "metadata": {},
   "source": [
    "***\n",
    "***"
   ]
  },
  {
   "cell_type": "markdown",
   "metadata": {},
   "source": []
  },
  {
   "attachments": {},
   "cell_type": "markdown",
   "metadata": {},
   "source": [
    "Una vez finalizada esta etapa, solo resta guardar los archivos en formato .csv para su posterior utilización en PowerBI. Los detalles que queden por modificar, los haré en dicha plataforma."
   ]
  },
  {
   "cell_type": "code",
   "execution_count": 240,
   "metadata": {},
   "outputs": [
    {
     "data": {
      "text/plain": [
       "Index(['nombre', 'institucion', 'estudiante', 'rating', 'ventas_q', 'anio',\n",
       "       'mes', 'plataforma'],\n",
       "      dtype='object')"
      ]
     },
     "execution_count": 240,
     "metadata": {},
     "output_type": "execute_result"
    }
   ],
   "source": [
    "df_co.columns"
   ]
  },
  {
   "cell_type": "code",
   "execution_count": 241,
   "metadata": {},
   "outputs": [
    {
     "data": {
      "text/plain": [
       "Index(['nombre', 'ventas_q', 'formato', 'institucion', 'nivel', 'tema',\n",
       "       'idioma', 'precio', 'duracion', 'plataforma', 'ventas_usd'],\n",
       "      dtype='object')"
      ]
     },
     "execution_count": 241,
     "metadata": {},
     "output_type": "execute_result"
    }
   ],
   "source": [
    "df_ec.columns"
   ]
  },
  {
   "cell_type": "code",
   "execution_count": 242,
   "metadata": {},
   "outputs": [
    {
     "data": {
      "text/plain": [
       "Index(['nombre', 'precio', 'ventas_q', 'clases_q', 'nivel', 'duracion', 'tema',\n",
       "       'plataforma', 'anio', 'mes', 'ventas_usd', 'idioma'],\n",
       "      dtype='object')"
      ]
     },
     "execution_count": 242,
     "metadata": {},
     "output_type": "execute_result"
    }
   ],
   "source": [
    "df_uc.columns"
   ]
  },
  {
   "cell_type": "code",
   "execution_count": 243,
   "metadata": {},
   "outputs": [],
   "source": [
    "# df_total['institucion'].fillna('NA', inplace=True)\n",
    "# df_total['estudiante'].fillna('NA', inplace=True)\n",
    "# df_total['anio'].fillna('NA', inplace=True)\n",
    "# df_total['mes'].fillna('NA', inplace=True)\n",
    "# df_total['formato'].fillna('NA', inplace=True)\n",
    "# df_total['nivel'].fillna('NA', inplace=True)\n",
    "# df_total['tema'].fillna('NA', inplace=True)\n",
    "# df_total['idioma'].fillna('NA', inplace=True)\n",
    "# # df_total['precio'].fillna(0, inplace=True)\n",
    "# # df_total['duracion'].fillna(0, inplace=True)\n",
    "# # df_total['clases_q'].fillna(0, inplace=True)"
   ]
  },
  {
   "attachments": {},
   "cell_type": "markdown",
   "metadata": {},
   "source": [
    "***\n",
    "***"
   ]
  },
  {
   "attachments": {},
   "cell_type": "markdown",
   "metadata": {},
   "source": [
    "En este apartado realizaré el WordCloud solicitado por los empleadores."
   ]
  },
  {
   "attachments": {},
   "cell_type": "markdown",
   "metadata": {},
   "source": [
    "Concateno la columna 'nombre' de los tres DF en un DF que los contenga todos."
   ]
  },
  {
   "cell_type": "code",
   "execution_count": 244,
   "metadata": {},
   "outputs": [],
   "source": [
    "df_nombres = pd.concat([df_co['nombre'],df_ec['nombre'],df_uc['nombre']],axis=0)"
   ]
  },
  {
   "cell_type": "code",
   "execution_count": 245,
   "metadata": {},
   "outputs": [
    {
     "data": {
      "text/plain": [
       "(524574,)"
      ]
     },
     "execution_count": 245,
     "metadata": {},
     "output_type": "execute_result"
    }
   ],
   "source": [
    "df_nombres.shape"
   ]
  },
  {
   "cell_type": "code",
   "execution_count": 246,
   "metadata": {},
   "outputs": [
    {
     "data": {
      "image/png": "[encoded data removed]",
      "text/plain": [
       "<Figure size 2000x1000 with 1 Axes>"
      ]
     },
     "metadata": {},
     "output_type": "display_data"
    }
   ],
   "source": [
    "text = df_nombres.values\n",
    "wordcloud = WordCloud(\n",
    "    width = 300,\n",
    "    height = 200,\n",
    "    background_color = 'grey',\n",
    "    stopwords = STOPWORDS).generate(str(text))\n",
    "fig = plt.figure(\n",
    "    figsize = (20, 10),\n",
    "    facecolor = 'k',\n",
    "    edgecolor = 'k')\n",
    "plt.imshow(wordcloud, interpolation = 'bilinear')\n",
    "plt.axis('off')\n",
    "plt.tight_layout(pad=0)\n",
    "plt.show()"
   ]
  },
  {
   "attachments": {},
   "cell_type": "markdown",
   "metadata": {},
   "source": [
    "Otra buena forma de realizar esta gráfica es considerando sólo los valores sin repetición de la columna 'nombre'."
   ]
  },
  {
   "cell_type": "code",
   "execution_count": 247,
   "metadata": {},
   "outputs": [
    {
     "data": {
      "image/png": "[encoded data removed]",
      "text/plain": [
       "<Figure size 2000x1000 with 1 Axes>"
      ]
     },
     "metadata": {},
     "output_type": "display_data"
    }
   ],
   "source": [
    "text = df_nombres.unique\n",
    "wordcloud = WordCloud(\n",
    "    width = 300,\n",
    "    height = 200,\n",
    "    background_color = 'grey',\n",
    "    stopwords = STOPWORDS).generate(str(text))\n",
    "fig = plt.figure(\n",
    "    figsize = (20, 10),\n",
    "    facecolor = 'k',\n",
    "    edgecolor = 'k')\n",
    "plt.imshow(wordcloud, interpolation = 'bilinear')\n",
    "plt.axis('off')\n",
    "plt.tight_layout(pad=5)\n",
    "plt.show()"
   ]
  },
  {
   "attachments": {},
   "cell_type": "markdown",
   "metadata": {},
   "source": [
    "Vemos que en este caso, al tomar una sola aparición de cada curso, tenemos una mejor apreciación de cuales son las palabras que más se repiten. Podemos apreciar como la importancia relativa de Education y Aboriginal Worldviews ha decaído."
   ]
  },
  {
   "attachments": {},
   "cell_type": "markdown",
   "metadata": {},
   "source": [
    "***\n",
    "***"
   ]
  },
  {
   "attachments": {},
   "cell_type": "markdown",
   "metadata": {},
   "source": [
    "En este apartado generaré DFs unificando los campos que son requeridos en las consultas puntuales del empleador. \n",
    "Es claro que habrá diferencias al comparar, por ej, las ventas según precio de la industria que las de solo una empresa.\n",
    "Prepararé un dataset para analizar cada relación con los datos disponibles del mercado en términos de los requerimientos:\n",
    "\n",
    "•\tNivel de ventas según precio\n",
    "•\tNivel de ventas según idioma.\n",
    "•\tNivel de ventas según nivel.\n",
    "•\tNivel de ventas según rating.\n"
   ]
  },
  {
   "attachments": {},
   "cell_type": "markdown",
   "metadata": {},
   "source": [
    "•\t*Transforamciones previas para lograr comparar Nivel de ventas según nivel.*\n"
   ]
  },
  {
   "cell_type": "code",
   "execution_count": 248,
   "metadata": {},
   "outputs": [
    {
     "data": {
      "text/plain": [
       "All Levels            1925\n",
       "Beginner Level        1268\n",
       "Intermediate Level     421\n",
       "Expert Level            58\n",
       "Name: nivel, dtype: int64"
      ]
     },
     "execution_count": 248,
     "metadata": {},
     "output_type": "execute_result"
    }
   ],
   "source": [
    "df_uc['nivel'].value_counts()"
   ]
  },
  {
   "cell_type": "code",
   "execution_count": 249,
   "metadata": {},
   "outputs": [
    {
     "data": {
      "text/plain": [
       "Introductory    621\n",
       "Intermediate    266\n",
       "Advanced         87\n",
       "Name: nivel, dtype: int64"
      ]
     },
     "execution_count": 249,
     "metadata": {},
     "output_type": "execute_result"
    }
   ],
   "source": [
    "df_ec['nivel'].value_counts()"
   ]
  },
  {
   "attachments": {},
   "cell_type": "markdown",
   "metadata": {},
   "source": [
    "Antes de crear el DF unificado, tengo que unificar los valores de los niveles en un mismo criterio. Voy a modificar los de df_uc para aprovechar también a eliminar la palabra \"Level\" redundate en cada categoría (redundante dado que ya pertences al feature level)."
   ]
  },
  {
   "cell_type": "code",
   "execution_count": 250,
   "metadata": {},
   "outputs": [],
   "source": [
    "df_uc['nivel'].replace({'Beginner Level':'Introductory','Intermediate Level':'Intermediate','Expert Level':'Advanced'},inplace=True)"
   ]
  },
  {
   "attachments": {},
   "cell_type": "markdown",
   "metadata": {},
   "source": [
    "Además de los indicadores solicitados, operaré sobre la columna duración, la cual considero útil."
   ]
  },
  {
   "cell_type": "code",
   "execution_count": 251,
   "metadata": {},
   "outputs": [],
   "source": [
    "df_ec['duracion'] = df_ec['duracion'].astype('int')\n",
    "df_uc['duracion'] = df_uc['duracion'].astype('int')"
   ]
  },
  {
   "attachments": {},
   "cell_type": "markdown",
   "metadata": {},
   "source": [
    "Realizadas todas las transformaciones necesarias, concateno los DF para generar el DF llamado 'mercado'."
   ]
  },
  {
   "cell_type": "code",
   "execution_count": 252,
   "metadata": {},
   "outputs": [],
   "source": [
    "mercado = pd.concat([df_uc[['nombre','ventas_usd','ventas_q','precio','idioma','nivel','duracion']],\n",
    "                     df_ec[['nombre','ventas_usd','ventas_q','precio','idioma','nivel','duracion']],\n",
    "                     df_co[['nombre','ventas_q','rating','mes','anio']]])"
   ]
  },
  {
   "cell_type": "code",
   "execution_count": 253,
   "metadata": {},
   "outputs": [
    {
     "data": {
      "text/html": [
       "<div>\n",
       "<style scoped>\n",
       "    .dataframe tbody tr th:only-of-type {\n",
       "        vertical-align: middle;\n",
       "    }\n",
       "\n",
       "    .dataframe tbody tr th {\n",
       "        vertical-align: top;\n",
       "    }\n",
       "\n",
       "    .dataframe thead th {\n",
       "        text-align: right;\n",
       "    }\n",
       "</style>\n",
       "<table border=\"1\" class=\"dataframe\">\n",
       "  <thead>\n",
       "    <tr style=\"text-align: right;\">\n",
       "      <th></th>\n",
       "      <th>nombre</th>\n",
       "      <th>ventas_usd</th>\n",
       "      <th>ventas_q</th>\n",
       "      <th>precio</th>\n",
       "      <th>idioma</th>\n",
       "      <th>nivel</th>\n",
       "      <th>duracion</th>\n",
       "      <th>rating</th>\n",
       "      <th>mes</th>\n",
       "      <th>anio</th>\n",
       "    </tr>\n",
       "  </thead>\n",
       "  <tbody>\n",
       "    <tr>\n",
       "      <th>0</th>\n",
       "      <td>Ultimate Investment Banking Course</td>\n",
       "      <td>429400.0</td>\n",
       "      <td>2147</td>\n",
       "      <td>200.0</td>\n",
       "      <td>English</td>\n",
       "      <td>All Levels</td>\n",
       "      <td>1.0</td>\n",
       "      <td>NaN</td>\n",
       "      <td>NaN</td>\n",
       "      <td>NaN</td>\n",
       "    </tr>\n",
       "    <tr>\n",
       "      <th>1</th>\n",
       "      <td>Complete GST Course &amp; Certification - Grow You...</td>\n",
       "      <td>209400.0</td>\n",
       "      <td>2792</td>\n",
       "      <td>75.0</td>\n",
       "      <td>English</td>\n",
       "      <td>All Levels</td>\n",
       "      <td>39.0</td>\n",
       "      <td>NaN</td>\n",
       "      <td>NaN</td>\n",
       "      <td>NaN</td>\n",
       "    </tr>\n",
       "    <tr>\n",
       "      <th>2</th>\n",
       "      <td>Financial Modeling for Business Analysts and C...</td>\n",
       "      <td>97830.0</td>\n",
       "      <td>2174</td>\n",
       "      <td>45.0</td>\n",
       "      <td>English</td>\n",
       "      <td>Intermediate</td>\n",
       "      <td>2.0</td>\n",
       "      <td>NaN</td>\n",
       "      <td>NaN</td>\n",
       "      <td>NaN</td>\n",
       "    </tr>\n",
       "    <tr>\n",
       "      <th>3</th>\n",
       "      <td>Beginner to Pro - Financial Analysis in Excel ...</td>\n",
       "      <td>232845.0</td>\n",
       "      <td>2451</td>\n",
       "      <td>95.0</td>\n",
       "      <td>English</td>\n",
       "      <td>All Levels</td>\n",
       "      <td>3.0</td>\n",
       "      <td>NaN</td>\n",
       "      <td>NaN</td>\n",
       "      <td>NaN</td>\n",
       "    </tr>\n",
       "    <tr>\n",
       "      <th>4</th>\n",
       "      <td>How To Maximize Your Profits Trading Options</td>\n",
       "      <td>255200.0</td>\n",
       "      <td>1276</td>\n",
       "      <td>200.0</td>\n",
       "      <td>English</td>\n",
       "      <td>Intermediate</td>\n",
       "      <td>2.0</td>\n",
       "      <td>NaN</td>\n",
       "      <td>NaN</td>\n",
       "      <td>NaN</td>\n",
       "    </tr>\n",
       "  </tbody>\n",
       "</table>\n",
       "</div>"
      ],
      "text/plain": [
       "                                              nombre  ventas_usd  ventas_q  \\\n",
       "0                 Ultimate Investment Banking Course    429400.0      2147   \n",
       "1  Complete GST Course & Certification - Grow You...    209400.0      2792   \n",
       "2  Financial Modeling for Business Analysts and C...     97830.0      2174   \n",
       "3  Beginner to Pro - Financial Analysis in Excel ...    232845.0      2451   \n",
       "4       How To Maximize Your Profits Trading Options    255200.0      1276   \n",
       "\n",
       "   precio   idioma         nivel  duracion  rating  mes  anio  \n",
       "0   200.0  English    All Levels       1.0     NaN  NaN   NaN  \n",
       "1    75.0  English    All Levels      39.0     NaN  NaN   NaN  \n",
       "2    45.0  English  Intermediate       2.0     NaN  NaN   NaN  \n",
       "3    95.0  English    All Levels       3.0     NaN  NaN   NaN  \n",
       "4   200.0  English  Intermediate       2.0     NaN  NaN   NaN  "
      ]
     },
     "execution_count": 253,
     "metadata": {},
     "output_type": "execute_result"
    }
   ],
   "source": [
    "mercado.head()"
   ]
  },
  {
   "cell_type": "markdown",
   "metadata": {},
   "source": []
  },
  {
   "attachments": {},
   "cell_type": "markdown",
   "metadata": {},
   "source": [
    "### Guardo los datasets en csv para su posterior uso."
   ]
  },
  {
   "cell_type": "code",
   "execution_count": 254,
   "metadata": {},
   "outputs": [],
   "source": [
    "df_co.to_csv('Coursera.csv',index = False,header=True)\n",
    "df_ec.to_csv('EDX.csv',index = False,header=True)\n",
    "df_uc.to_csv('Udemy.csv',index = False,header=True)\n",
    "mercado.to_csv('Mercado.csv',index = False,header=True)"
   ]
  },
  {
   "cell_type": "code",
   "execution_count": null,
   "metadata": {},
   "outputs": [],
   "source": []
  }
 ],
 "metadata": {
  "kernelspec": {
   "display_name": "Python 3",
   "language": "python",
   "name": "python3"
  },
  "language_info": {
   "codemirror_mode": {
    "name": "ipython",
    "version": 3
   },
   "file_extension": ".py",
   "mimetype": "text/x-python",
   "name": "python",
   "nbconvert_exporter": "python",
   "pygments_lexer": "ipython3",
   "version": "3.10.9"
  },
  "orig_nbformat": 4,
  "vscode": {
   "interpreter": {
    "hash": "f0f361c509b3baef1c1717a3c4ad2fd4fc997f03fb783cb4d755ffca34aa6e03"
   }
  }
 },
 "nbformat": 4,
 "nbformat_minor": 2
}
